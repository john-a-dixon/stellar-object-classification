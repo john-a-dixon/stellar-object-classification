{
 "cells": [
  {
   "attachments": {},
   "cell_type": "markdown",
   "metadata": {},
   "source": [
    "# **Stellar Object Classification**\n",
    "_John Andrew Dixon_\n",
    "\n",
    "---"
   ]
  },
  {
   "attachments": {},
   "cell_type": "markdown",
   "metadata": {},
   "source": [
    "#### **Data Dictionary**\n",
    "\n",
    "|**Column Name**|**Description**| \n",
    "|-|-|\n",
    "|obj_ID|Object Identifier, the unique value that identifies the object in the image catalog used by the CAS|\n",
    "|alpha|Right Ascension angle (at J2000 epoch)|\n",
    "|delta|Declination angle (at J2000 epoch)|\n",
    "|u|Ultraviolet filter in the photometric system|\n",
    "|g|Green filter in the photometric system|\n",
    "|r|Red filter in the photometric system|\n",
    "|i|Near Infrared filter in the photometric system|\n",
    "|z|Infrared filter in the photometric system|\n",
    "|run_ID|Run Number used to identify the specific scan|\n",
    "|rereun_ID|Rerun Number to specify how the image was processed|\n",
    "|cam_col|Camera column to identify the scanline within the run|\n",
    "|field_ID|Field number to identify each field|\n",
    "|spec_obj_ID|Unique ID used for optical spectroscopic objects (this means that 2 different observations with the same spec_obj_ID must share the output class)|\n",
    "|class|object class (galaxy, star or quasar object)|\n",
    "|redshift|redshift value based on the increase in wavelength|\n",
    "|plate|plate ID, identifies each plate in SDSS|\n",
    "|MJD|Modified Julian Date, used to indicate when a given piece of SDSS data was taken|\n",
    "|fiber_ID|fiber ID that identifies the fiber that pointed the light at the focal plane in each observation|"
   ]
  },
  {
   "attachments": {},
   "cell_type": "markdown",
   "metadata": {},
   "source": [
    "#### **Setup**"
   ]
  },
  {
   "cell_type": "code",
   "execution_count": 61,
   "metadata": {},
   "outputs": [],
   "source": [
    "import pandas as pd\n",
    "import seaborn as sns\n",
    "import matplotlib.pyplot as plt"
   ]
  },
  {
   "cell_type": "code",
   "execution_count": 62,
   "metadata": {},
   "outputs": [
    {
     "data": {
      "text/html": [
       "<div>\n",
       "<style scoped>\n",
       "    .dataframe tbody tr th:only-of-type {\n",
       "        vertical-align: middle;\n",
       "    }\n",
       "\n",
       "    .dataframe tbody tr th {\n",
       "        vertical-align: top;\n",
       "    }\n",
       "\n",
       "    .dataframe thead th {\n",
       "        text-align: right;\n",
       "    }\n",
       "</style>\n",
       "<table border=\"1\" class=\"dataframe\">\n",
       "  <thead>\n",
       "    <tr style=\"text-align: right;\">\n",
       "      <th></th>\n",
       "      <th>obj_ID</th>\n",
       "      <th>alpha</th>\n",
       "      <th>delta</th>\n",
       "      <th>u</th>\n",
       "      <th>g</th>\n",
       "      <th>r</th>\n",
       "      <th>i</th>\n",
       "      <th>z</th>\n",
       "      <th>run_ID</th>\n",
       "      <th>rerun_ID</th>\n",
       "      <th>cam_col</th>\n",
       "      <th>field_ID</th>\n",
       "      <th>spec_obj_ID</th>\n",
       "      <th>class</th>\n",
       "      <th>redshift</th>\n",
       "      <th>plate</th>\n",
       "      <th>MJD</th>\n",
       "      <th>fiber_ID</th>\n",
       "    </tr>\n",
       "  </thead>\n",
       "  <tbody>\n",
       "    <tr>\n",
       "      <th>74277</th>\n",
       "      <td>1.237654e+18</td>\n",
       "      <td>173.892311</td>\n",
       "      <td>63.865306</td>\n",
       "      <td>21.61391</td>\n",
       "      <td>21.01470</td>\n",
       "      <td>20.86493</td>\n",
       "      <td>20.64312</td>\n",
       "      <td>20.16857</td>\n",
       "      <td>2078</td>\n",
       "      <td>301</td>\n",
       "      <td>2</td>\n",
       "      <td>70</td>\n",
       "      <td>8.008743e+18</td>\n",
       "      <td>QSO</td>\n",
       "      <td>0.776871</td>\n",
       "      <td>7113</td>\n",
       "      <td>56711</td>\n",
       "      <td>788</td>\n",
       "    </tr>\n",
       "    <tr>\n",
       "      <th>16462</th>\n",
       "      <td>1.237652e+18</td>\n",
       "      <td>202.152406</td>\n",
       "      <td>-0.085806</td>\n",
       "      <td>19.16225</td>\n",
       "      <td>17.71145</td>\n",
       "      <td>16.95645</td>\n",
       "      <td>16.56119</td>\n",
       "      <td>16.27867</td>\n",
       "      <td>1404</td>\n",
       "      <td>301</td>\n",
       "      <td>3</td>\n",
       "      <td>21</td>\n",
       "      <td>3.356053e+17</td>\n",
       "      <td>GALAXY</td>\n",
       "      <td>0.078884</td>\n",
       "      <td>298</td>\n",
       "      <td>51955</td>\n",
       "      <td>317</td>\n",
       "    </tr>\n",
       "    <tr>\n",
       "      <th>26380</th>\n",
       "      <td>1.237664e+18</td>\n",
       "      <td>118.684404</td>\n",
       "      <td>53.513738</td>\n",
       "      <td>20.01132</td>\n",
       "      <td>18.27774</td>\n",
       "      <td>17.63394</td>\n",
       "      <td>17.21671</td>\n",
       "      <td>17.02512</td>\n",
       "      <td>4264</td>\n",
       "      <td>301</td>\n",
       "      <td>5</td>\n",
       "      <td>120</td>\n",
       "      <td>2.105538e+18</td>\n",
       "      <td>GALAXY</td>\n",
       "      <td>0.170053</td>\n",
       "      <td>1870</td>\n",
       "      <td>53383</td>\n",
       "      <td>384</td>\n",
       "    </tr>\n",
       "    <tr>\n",
       "      <th>50029</th>\n",
       "      <td>1.237664e+18</td>\n",
       "      <td>197.656742</td>\n",
       "      <td>40.075630</td>\n",
       "      <td>19.26575</td>\n",
       "      <td>17.91738</td>\n",
       "      <td>17.40613</td>\n",
       "      <td>17.24811</td>\n",
       "      <td>17.12325</td>\n",
       "      <td>4382</td>\n",
       "      <td>301</td>\n",
       "      <td>5</td>\n",
       "      <td>56</td>\n",
       "      <td>3.265235e+18</td>\n",
       "      <td>STAR</td>\n",
       "      <td>0.000027</td>\n",
       "      <td>2900</td>\n",
       "      <td>54569</td>\n",
       "      <td>456</td>\n",
       "    </tr>\n",
       "    <tr>\n",
       "      <th>17908</th>\n",
       "      <td>1.237665e+18</td>\n",
       "      <td>212.210946</td>\n",
       "      <td>30.754460</td>\n",
       "      <td>19.96747</td>\n",
       "      <td>19.56766</td>\n",
       "      <td>19.01011</td>\n",
       "      <td>18.59430</td>\n",
       "      <td>18.45593</td>\n",
       "      <td>4576</td>\n",
       "      <td>301</td>\n",
       "      <td>1</td>\n",
       "      <td>603</td>\n",
       "      <td>2.392599e+18</td>\n",
       "      <td>QSO</td>\n",
       "      <td>0.183476</td>\n",
       "      <td>2125</td>\n",
       "      <td>53795</td>\n",
       "      <td>226</td>\n",
       "    </tr>\n",
       "  </tbody>\n",
       "</table>\n",
       "</div>"
      ],
      "text/plain": [
       "             obj_ID       alpha      delta         u         g         r  \\\n",
       "74277  1.237654e+18  173.892311  63.865306  21.61391  21.01470  20.86493   \n",
       "16462  1.237652e+18  202.152406  -0.085806  19.16225  17.71145  16.95645   \n",
       "26380  1.237664e+18  118.684404  53.513738  20.01132  18.27774  17.63394   \n",
       "50029  1.237664e+18  197.656742  40.075630  19.26575  17.91738  17.40613   \n",
       "17908  1.237665e+18  212.210946  30.754460  19.96747  19.56766  19.01011   \n",
       "\n",
       "              i         z  run_ID  rerun_ID  cam_col  field_ID   spec_obj_ID  \\\n",
       "74277  20.64312  20.16857    2078       301        2        70  8.008743e+18   \n",
       "16462  16.56119  16.27867    1404       301        3        21  3.356053e+17   \n",
       "26380  17.21671  17.02512    4264       301        5       120  2.105538e+18   \n",
       "50029  17.24811  17.12325    4382       301        5        56  3.265235e+18   \n",
       "17908  18.59430  18.45593    4576       301        1       603  2.392599e+18   \n",
       "\n",
       "        class  redshift  plate    MJD  fiber_ID  \n",
       "74277     QSO  0.776871   7113  56711       788  \n",
       "16462  GALAXY  0.078884    298  51955       317  \n",
       "26380  GALAXY  0.170053   1870  53383       384  \n",
       "50029    STAR  0.000027   2900  54569       456  \n",
       "17908     QSO  0.183476   2125  53795       226  "
      ]
     },
     "execution_count": 62,
     "metadata": {},
     "output_type": "execute_result"
    }
   ],
   "source": [
    "url = \"https://docs.google.com/spreadsheets/d/e/2PACX-1vRviGqwoVRVF_HY9LcyDLvVEDpdqZKvk1mL6K9xiWpEFh_i2QF4AX13P96L9F6nIAsD0iF0JZmcJ69A/pub?output=csv\"\n",
    "df = pd.read_csv(url)\n",
    "stellar_df = df.copy()\n",
    "df.sample(5)"
   ]
  },
  {
   "attachments": {},
   "cell_type": "markdown",
   "metadata": {},
   "source": [
    "#### **Helper Functions**"
   ]
  },
  {
   "cell_type": "code",
   "execution_count": 63,
   "metadata": {},
   "outputs": [],
   "source": [
    "# TBD"
   ]
  },
  {
   "attachments": {},
   "cell_type": "markdown",
   "metadata": {},
   "source": [
    "---\n",
    "## **Explanatory Analysis**\n",
    "\n",
    "#### **Cleaning**"
   ]
  },
  {
   "cell_type": "markdown",
   "metadata": {},
   "source": [
    "Duplicate check and removal:"
   ]
  },
  {
   "cell_type": "code",
   "execution_count": 64,
   "metadata": {},
   "outputs": [
    {
     "data": {
      "text/plain": [
       "0"
      ]
     },
     "execution_count": 64,
     "metadata": {},
     "output_type": "execute_result"
    }
   ],
   "source": [
    "stellar_df.duplicated().sum()"
   ]
  },
  {
   "cell_type": "code",
   "execution_count": 65,
   "metadata": {},
   "outputs": [
    {
     "data": {
      "text/html": [
       "<div>\n",
       "<style scoped>\n",
       "    .dataframe tbody tr th:only-of-type {\n",
       "        vertical-align: middle;\n",
       "    }\n",
       "\n",
       "    .dataframe tbody tr th {\n",
       "        vertical-align: top;\n",
       "    }\n",
       "\n",
       "    .dataframe thead th {\n",
       "        text-align: right;\n",
       "    }\n",
       "</style>\n",
       "<table border=\"1\" class=\"dataframe\">\n",
       "  <thead>\n",
       "    <tr style=\"text-align: right;\">\n",
       "      <th></th>\n",
       "      <th>obj_ID</th>\n",
       "      <th>alpha</th>\n",
       "      <th>delta</th>\n",
       "      <th>u</th>\n",
       "      <th>g</th>\n",
       "      <th>r</th>\n",
       "      <th>i</th>\n",
       "      <th>z</th>\n",
       "      <th>run_ID</th>\n",
       "      <th>rerun_ID</th>\n",
       "      <th>cam_col</th>\n",
       "      <th>field_ID</th>\n",
       "      <th>spec_obj_ID</th>\n",
       "      <th>class</th>\n",
       "      <th>redshift</th>\n",
       "      <th>plate</th>\n",
       "      <th>MJD</th>\n",
       "      <th>fiber_ID</th>\n",
       "    </tr>\n",
       "  </thead>\n",
       "  <tbody>\n",
       "    <tr>\n",
       "      <th>21</th>\n",
       "      <td>1.237658e+18</td>\n",
       "      <td>144.785293</td>\n",
       "      <td>46.826496</td>\n",
       "      <td>24.54793</td>\n",
       "      <td>22.33601</td>\n",
       "      <td>20.92259</td>\n",
       "      <td>19.87177</td>\n",
       "      <td>19.16934</td>\n",
       "      <td>2821</td>\n",
       "      <td>301</td>\n",
       "      <td>2</td>\n",
       "      <td>28</td>\n",
       "      <td>8.237292e+18</td>\n",
       "      <td>STAR</td>\n",
       "      <td>-0.000120</td>\n",
       "      <td>7316</td>\n",
       "      <td>56710</td>\n",
       "      <td>756</td>\n",
       "    </tr>\n",
       "    <tr>\n",
       "      <th>72</th>\n",
       "      <td>1.237658e+18</td>\n",
       "      <td>144.742439</td>\n",
       "      <td>46.967191</td>\n",
       "      <td>20.87676</td>\n",
       "      <td>20.61914</td>\n",
       "      <td>20.55744</td>\n",
       "      <td>20.54716</td>\n",
       "      <td>20.15146</td>\n",
       "      <td>2821</td>\n",
       "      <td>301</td>\n",
       "      <td>2</td>\n",
       "      <td>28</td>\n",
       "      <td>8.237289e+18</td>\n",
       "      <td>QSO</td>\n",
       "      <td>1.040196</td>\n",
       "      <td>7316</td>\n",
       "      <td>56710</td>\n",
       "      <td>745</td>\n",
       "    </tr>\n",
       "    <tr>\n",
       "      <th>157</th>\n",
       "      <td>1.237658e+18</td>\n",
       "      <td>144.811691</td>\n",
       "      <td>46.920477</td>\n",
       "      <td>24.45142</td>\n",
       "      <td>21.51859</td>\n",
       "      <td>20.46167</td>\n",
       "      <td>19.93067</td>\n",
       "      <td>19.51852</td>\n",
       "      <td>2821</td>\n",
       "      <td>301</td>\n",
       "      <td>2</td>\n",
       "      <td>28</td>\n",
       "      <td>8.237291e+18</td>\n",
       "      <td>STAR</td>\n",
       "      <td>-0.000186</td>\n",
       "      <td>7316</td>\n",
       "      <td>56710</td>\n",
       "      <td>755</td>\n",
       "    </tr>\n",
       "    <tr>\n",
       "      <th>1748</th>\n",
       "      <td>1.237658e+18</td>\n",
       "      <td>144.846089</td>\n",
       "      <td>47.005872</td>\n",
       "      <td>26.39015</td>\n",
       "      <td>22.00114</td>\n",
       "      <td>20.28762</td>\n",
       "      <td>19.15424</td>\n",
       "      <td>18.69907</td>\n",
       "      <td>2821</td>\n",
       "      <td>301</td>\n",
       "      <td>2</td>\n",
       "      <td>28</td>\n",
       "      <td>9.390415e+17</td>\n",
       "      <td>GALAXY</td>\n",
       "      <td>0.594444</td>\n",
       "      <td>834</td>\n",
       "      <td>52316</td>\n",
       "      <td>149</td>\n",
       "    </tr>\n",
       "    <tr>\n",
       "      <th>1771</th>\n",
       "      <td>1.237658e+18</td>\n",
       "      <td>144.866565</td>\n",
       "      <td>46.837194</td>\n",
       "      <td>22.50162</td>\n",
       "      <td>20.53223</td>\n",
       "      <td>18.90075</td>\n",
       "      <td>18.25920</td>\n",
       "      <td>17.92108</td>\n",
       "      <td>2821</td>\n",
       "      <td>301</td>\n",
       "      <td>2</td>\n",
       "      <td>28</td>\n",
       "      <td>8.386864e+18</td>\n",
       "      <td>GALAXY</td>\n",
       "      <td>0.321112</td>\n",
       "      <td>7449</td>\n",
       "      <td>56740</td>\n",
       "      <td>130</td>\n",
       "    </tr>\n",
       "  </tbody>\n",
       "</table>\n",
       "</div>"
      ],
      "text/plain": [
       "            obj_ID       alpha      delta         u         g         r  \\\n",
       "21    1.237658e+18  144.785293  46.826496  24.54793  22.33601  20.92259   \n",
       "72    1.237658e+18  144.742439  46.967191  20.87676  20.61914  20.55744   \n",
       "157   1.237658e+18  144.811691  46.920477  24.45142  21.51859  20.46167   \n",
       "1748  1.237658e+18  144.846089  47.005872  26.39015  22.00114  20.28762   \n",
       "1771  1.237658e+18  144.866565  46.837194  22.50162  20.53223  18.90075   \n",
       "\n",
       "             i         z  run_ID  rerun_ID  cam_col  field_ID   spec_obj_ID  \\\n",
       "21    19.87177  19.16934    2821       301        2        28  8.237292e+18   \n",
       "72    20.54716  20.15146    2821       301        2        28  8.237289e+18   \n",
       "157   19.93067  19.51852    2821       301        2        28  8.237291e+18   \n",
       "1748  19.15424  18.69907    2821       301        2        28  9.390415e+17   \n",
       "1771  18.25920  17.92108    2821       301        2        28  8.386864e+18   \n",
       "\n",
       "       class  redshift  plate    MJD  fiber_ID  \n",
       "21      STAR -0.000120   7316  56710       756  \n",
       "72       QSO  1.040196   7316  56710       745  \n",
       "157     STAR -0.000186   7316  56710       755  \n",
       "1748  GALAXY  0.594444    834  52316       149  \n",
       "1771  GALAXY  0.321112   7449  56740       130  "
      ]
     },
     "execution_count": 65,
     "metadata": {},
     "output_type": "execute_result"
    }
   ],
   "source": [
    "a = stellar_df.loc[stellar_df[\"obj_ID\"].duplicated(keep=\"first\"), :].iloc[0, 0]\n",
    "stellar_df.loc[stellar_df[\"obj_ID\"] == a, ]"
   ]
  },
  {
   "attachments": {},
   "cell_type": "markdown",
   "metadata": {},
   "source": [
    "> There are no duplicates, meaning every row/sample of the original dataset represents a unique stellar object."
   ]
  },
  {
   "cell_type": "markdown",
   "metadata": {},
   "source": [
    "Unnecessary column check and removal:"
   ]
  },
  {
   "cell_type": "code",
   "execution_count": 66,
   "metadata": {},
   "outputs": [
    {
     "data": {
      "text/plain": [
       "obj_ID         77332\n",
       "alpha          99997\n",
       "delta          99999\n",
       "u              93748\n",
       "g              92651\n",
       "r              91901\n",
       "i              92019\n",
       "z              92007\n",
       "run_ID           430\n",
       "rerun_ID           1\n",
       "cam_col            6\n",
       "field_ID         856\n",
       "spec_obj_ID    98431\n",
       "class              3\n",
       "redshift       94787\n",
       "plate           6284\n",
       "MJD             2180\n",
       "fiber_ID        1000\n",
       "dtype: int64"
      ]
     },
     "execution_count": 66,
     "metadata": {},
     "output_type": "execute_result"
    }
   ],
   "source": [
    "stellar_df.nunique()"
   ]
  },
  {
   "attachments": {},
   "cell_type": "markdown",
   "metadata": {},
   "source": [
    "> As of right now, the only unnecessary column is `rerun_ID` because all 100,000 samples have the same value for this column. Keeping this column adds nothing."
   ]
  },
  {
   "cell_type": "code",
   "execution_count": 67,
   "metadata": {},
   "outputs": [],
   "source": [
    "stellar_df.drop(columns=\"rerun_ID\", inplace=True)"
   ]
  },
  {
   "attachments": {},
   "cell_type": "markdown",
   "metadata": {},
   "source": [
    "Categorical Inconsistencies check and fix:"
   ]
  },
  {
   "cell_type": "code",
   "execution_count": 68,
   "metadata": {},
   "outputs": [
    {
     "data": {
      "text/plain": [
       "GALAXY    0.59445\n",
       "STAR      0.21594\n",
       "QSO       0.18961\n",
       "Name: class, dtype: float64"
      ]
     },
     "execution_count": 68,
     "metadata": {},
     "output_type": "execute_result"
    }
   ],
   "source": [
    "stellar_df[\"class\"].value_counts(normalize=True)"
   ]
  },
  {
   "attachments": {},
   "cell_type": "markdown",
   "metadata": {},
   "source": [
    "> There are no categorical inconsistencies. Additionally, it's good to note that the classes are fairly unbalanced."
   ]
  },
  {
   "attachments": {},
   "cell_type": "markdown",
   "metadata": {},
   "source": [
    "Outlier check and fix:"
   ]
  },
  {
   "cell_type": "code",
   "execution_count": 69,
   "metadata": {},
   "outputs": [
    {
     "data": {
      "text/html": [
       "<div>\n",
       "<style scoped>\n",
       "    .dataframe tbody tr th:only-of-type {\n",
       "        vertical-align: middle;\n",
       "    }\n",
       "\n",
       "    .dataframe tbody tr th {\n",
       "        vertical-align: top;\n",
       "    }\n",
       "\n",
       "    .dataframe thead th {\n",
       "        text-align: right;\n",
       "    }\n",
       "</style>\n",
       "<table border=\"1\" class=\"dataframe\">\n",
       "  <thead>\n",
       "    <tr style=\"text-align: right;\">\n",
       "      <th></th>\n",
       "      <th>obj_ID</th>\n",
       "      <th>alpha</th>\n",
       "      <th>delta</th>\n",
       "      <th>u</th>\n",
       "      <th>g</th>\n",
       "      <th>r</th>\n",
       "      <th>i</th>\n",
       "      <th>z</th>\n",
       "      <th>run_ID</th>\n",
       "      <th>cam_col</th>\n",
       "      <th>field_ID</th>\n",
       "      <th>spec_obj_ID</th>\n",
       "      <th>redshift</th>\n",
       "      <th>plate</th>\n",
       "      <th>MJD</th>\n",
       "      <th>fiber_ID</th>\n",
       "    </tr>\n",
       "  </thead>\n",
       "  <tbody>\n",
       "    <tr>\n",
       "      <th>count</th>\n",
       "      <td>1.000000e+05</td>\n",
       "      <td>100000.000000</td>\n",
       "      <td>100000.000000</td>\n",
       "      <td>100000.000000</td>\n",
       "      <td>100000.000000</td>\n",
       "      <td>100000.000000</td>\n",
       "      <td>100000.000000</td>\n",
       "      <td>100000.000000</td>\n",
       "      <td>100000.000000</td>\n",
       "      <td>100000.000000</td>\n",
       "      <td>100000.000000</td>\n",
       "      <td>1.000000e+05</td>\n",
       "      <td>100000.000000</td>\n",
       "      <td>100000.000000</td>\n",
       "      <td>100000.000000</td>\n",
       "      <td>100000.000000</td>\n",
       "    </tr>\n",
       "    <tr>\n",
       "      <th>mean</th>\n",
       "      <td>1.237688e+18</td>\n",
       "      <td>177.629117</td>\n",
       "      <td>24.135305</td>\n",
       "      <td>21.980468</td>\n",
       "      <td>20.531387</td>\n",
       "      <td>19.645762</td>\n",
       "      <td>19.084854</td>\n",
       "      <td>18.668810</td>\n",
       "      <td>4481.366060</td>\n",
       "      <td>3.511610</td>\n",
       "      <td>186.130520</td>\n",
       "      <td>5.783893e+18</td>\n",
       "      <td>0.576661</td>\n",
       "      <td>5137.009660</td>\n",
       "      <td>55588.647500</td>\n",
       "      <td>449.312740</td>\n",
       "    </tr>\n",
       "    <tr>\n",
       "      <th>std</th>\n",
       "      <td>2.311265e+14</td>\n",
       "      <td>96.502241</td>\n",
       "      <td>19.644665</td>\n",
       "      <td>31.769291</td>\n",
       "      <td>31.750292</td>\n",
       "      <td>1.854760</td>\n",
       "      <td>1.757895</td>\n",
       "      <td>31.728152</td>\n",
       "      <td>1964.764593</td>\n",
       "      <td>1.586912</td>\n",
       "      <td>149.011073</td>\n",
       "      <td>3.324026e+18</td>\n",
       "      <td>0.730707</td>\n",
       "      <td>2952.303351</td>\n",
       "      <td>1808.484233</td>\n",
       "      <td>272.498404</td>\n",
       "    </tr>\n",
       "    <tr>\n",
       "      <th>min</th>\n",
       "      <td>1.237646e+18</td>\n",
       "      <td>0.005528</td>\n",
       "      <td>-18.785328</td>\n",
       "      <td>-9999.000000</td>\n",
       "      <td>-9999.000000</td>\n",
       "      <td>9.822070</td>\n",
       "      <td>9.469903</td>\n",
       "      <td>-9999.000000</td>\n",
       "      <td>109.000000</td>\n",
       "      <td>1.000000</td>\n",
       "      <td>11.000000</td>\n",
       "      <td>2.995191e+17</td>\n",
       "      <td>-0.009971</td>\n",
       "      <td>266.000000</td>\n",
       "      <td>51608.000000</td>\n",
       "      <td>1.000000</td>\n",
       "    </tr>\n",
       "    <tr>\n",
       "      <th>25%</th>\n",
       "      <td>1.237659e+18</td>\n",
       "      <td>127.518222</td>\n",
       "      <td>5.146771</td>\n",
       "      <td>20.352353</td>\n",
       "      <td>18.965230</td>\n",
       "      <td>18.135828</td>\n",
       "      <td>17.732285</td>\n",
       "      <td>17.460677</td>\n",
       "      <td>3187.000000</td>\n",
       "      <td>2.000000</td>\n",
       "      <td>82.000000</td>\n",
       "      <td>2.844138e+18</td>\n",
       "      <td>0.054517</td>\n",
       "      <td>2526.000000</td>\n",
       "      <td>54234.000000</td>\n",
       "      <td>221.000000</td>\n",
       "    </tr>\n",
       "    <tr>\n",
       "      <th>50%</th>\n",
       "      <td>1.237663e+18</td>\n",
       "      <td>180.900700</td>\n",
       "      <td>23.645922</td>\n",
       "      <td>22.179135</td>\n",
       "      <td>21.099835</td>\n",
       "      <td>20.125290</td>\n",
       "      <td>19.405145</td>\n",
       "      <td>19.004595</td>\n",
       "      <td>4188.000000</td>\n",
       "      <td>4.000000</td>\n",
       "      <td>146.000000</td>\n",
       "      <td>5.614883e+18</td>\n",
       "      <td>0.424173</td>\n",
       "      <td>4987.000000</td>\n",
       "      <td>55868.500000</td>\n",
       "      <td>433.000000</td>\n",
       "    </tr>\n",
       "    <tr>\n",
       "      <th>75%</th>\n",
       "      <td>1.237669e+18</td>\n",
       "      <td>233.895005</td>\n",
       "      <td>39.901550</td>\n",
       "      <td>23.687440</td>\n",
       "      <td>22.123767</td>\n",
       "      <td>21.044785</td>\n",
       "      <td>20.396495</td>\n",
       "      <td>19.921120</td>\n",
       "      <td>5326.000000</td>\n",
       "      <td>5.000000</td>\n",
       "      <td>241.000000</td>\n",
       "      <td>8.332144e+18</td>\n",
       "      <td>0.704154</td>\n",
       "      <td>7400.250000</td>\n",
       "      <td>56777.000000</td>\n",
       "      <td>645.000000</td>\n",
       "    </tr>\n",
       "    <tr>\n",
       "      <th>max</th>\n",
       "      <td>1.240000e+18</td>\n",
       "      <td>359.999810</td>\n",
       "      <td>83.000519</td>\n",
       "      <td>32.781390</td>\n",
       "      <td>31.602240</td>\n",
       "      <td>29.571860</td>\n",
       "      <td>32.141470</td>\n",
       "      <td>29.383740</td>\n",
       "      <td>8162.000000</td>\n",
       "      <td>6.000000</td>\n",
       "      <td>989.000000</td>\n",
       "      <td>1.412694e+19</td>\n",
       "      <td>7.011245</td>\n",
       "      <td>12547.000000</td>\n",
       "      <td>58932.000000</td>\n",
       "      <td>1000.000000</td>\n",
       "    </tr>\n",
       "  </tbody>\n",
       "</table>\n",
       "</div>"
      ],
      "text/plain": [
       "             obj_ID          alpha          delta              u  \\\n",
       "count  1.000000e+05  100000.000000  100000.000000  100000.000000   \n",
       "mean   1.237688e+18     177.629117      24.135305      21.980468   \n",
       "std    2.311265e+14      96.502241      19.644665      31.769291   \n",
       "min    1.237646e+18       0.005528     -18.785328   -9999.000000   \n",
       "25%    1.237659e+18     127.518222       5.146771      20.352353   \n",
       "50%    1.237663e+18     180.900700      23.645922      22.179135   \n",
       "75%    1.237669e+18     233.895005      39.901550      23.687440   \n",
       "max    1.240000e+18     359.999810      83.000519      32.781390   \n",
       "\n",
       "                   g              r              i              z  \\\n",
       "count  100000.000000  100000.000000  100000.000000  100000.000000   \n",
       "mean       20.531387      19.645762      19.084854      18.668810   \n",
       "std        31.750292       1.854760       1.757895      31.728152   \n",
       "min     -9999.000000       9.822070       9.469903   -9999.000000   \n",
       "25%        18.965230      18.135828      17.732285      17.460677   \n",
       "50%        21.099835      20.125290      19.405145      19.004595   \n",
       "75%        22.123767      21.044785      20.396495      19.921120   \n",
       "max        31.602240      29.571860      32.141470      29.383740   \n",
       "\n",
       "              run_ID        cam_col       field_ID   spec_obj_ID  \\\n",
       "count  100000.000000  100000.000000  100000.000000  1.000000e+05   \n",
       "mean     4481.366060       3.511610     186.130520  5.783893e+18   \n",
       "std      1964.764593       1.586912     149.011073  3.324026e+18   \n",
       "min       109.000000       1.000000      11.000000  2.995191e+17   \n",
       "25%      3187.000000       2.000000      82.000000  2.844138e+18   \n",
       "50%      4188.000000       4.000000     146.000000  5.614883e+18   \n",
       "75%      5326.000000       5.000000     241.000000  8.332144e+18   \n",
       "max      8162.000000       6.000000     989.000000  1.412694e+19   \n",
       "\n",
       "            redshift          plate            MJD       fiber_ID  \n",
       "count  100000.000000  100000.000000  100000.000000  100000.000000  \n",
       "mean        0.576661    5137.009660   55588.647500     449.312740  \n",
       "std         0.730707    2952.303351    1808.484233     272.498404  \n",
       "min        -0.009971     266.000000   51608.000000       1.000000  \n",
       "25%         0.054517    2526.000000   54234.000000     221.000000  \n",
       "50%         0.424173    4987.000000   55868.500000     433.000000  \n",
       "75%         0.704154    7400.250000   56777.000000     645.000000  \n",
       "max         7.011245   12547.000000   58932.000000    1000.000000  "
      ]
     },
     "execution_count": 69,
     "metadata": {},
     "output_type": "execute_result"
    }
   ],
   "source": [
    "stellar_df.describe()"
   ]
  },
  {
   "attachments": {},
   "cell_type": "markdown",
   "metadata": {},
   "source": [
    "Univariate visualizations:"
   ]
  },
  {
   "cell_type": "code",
   "execution_count": 96,
   "metadata": {},
   "outputs": [
    {
     "data": {
      "image/png": "[encoded data removed]",
      "text/plain": [
       "<Figure size 640x480 with 1 Axes>"
      ]
     },
     "metadata": {},
     "output_type": "display_data"
    }
   ],
   "source": [
    "sns.histplot(data=df, x=\"obj_ID\")\n",
    "plt.title(\"obj_ID distribution\");"
   ]
  },
  {
   "attachments": {},
   "cell_type": "markdown",
   "metadata": {},
   "source": [
    "> For the most part, the distribution of this feature is very hard to discern due to the gargantuan numbers each `obj_ID` has. Given that `obj_ID` is a composite of multiple different fields within this dataset, I may remove it in the future. As of now, I am keeping it."
   ]
  },
  {
   "cell_type": "code",
   "execution_count": 98,
   "metadata": {},
   "outputs": [
    {
     "data": {
      "image/png": "[encoded data removed]",
      "text/plain": [
       "<Figure size 640x480 with 1 Axes>"
      ]
     },
     "metadata": {},
     "output_type": "display_data"
    }
   ],
   "source": [
    "sns.histplot(data=df, x=\"alpha\", bins=\"auto\");\n",
    "plt.xticks(ticks=[df[\"alpha\"].min(), df[\"alpha\"].max()])\n",
    "plt.title(\"alpha distribution\");"
   ]
  },
  {
   "attachments": {},
   "cell_type": "markdown",
   "metadata": {},
   "source": [
    "> It appears the distribution of the `alpha` feature is multimodal. There are three distinct sections and I believe each is representative of the class within the `class` feature."
   ]
  },
  {
   "cell_type": "code",
   "execution_count": 72,
   "metadata": {},
   "outputs": [
    {
     "data": {
      "image/png": "[encoded data removed]",
      "text/plain": [
       "<Figure size 640x480 with 1 Axes>"
      ]
     },
     "metadata": {},
     "output_type": "display_data"
    }
   ],
   "source": [
    "sns.histplot(data=df, x=\"delta\", bins=\"auto\");"
   ]
  },
  {
   "cell_type": "code",
   "execution_count": 99,
   "metadata": {},
   "outputs": [
    {
     "data": {
      "text/plain": [
       "([<matplotlib.axis.XTick at 0x16c3e8cabc0>,\n",
       "  <matplotlib.axis.XTick at 0x16c3e8cab90>],\n",
       " [Text(-9999.0, 0, '−9999'), Text(32.78139, 0, '33')])"
      ]
     },
     "execution_count": 99,
     "metadata": {},
     "output_type": "execute_result"
    },
    {
     "data": {
      "image/png": "[encoded data removed]",
      "text/plain": [
       "<Figure size 640x480 with 1 Axes>"
      ]
     },
     "metadata": {},
     "output_type": "display_data"
    }
   ],
   "source": [
    "sns.histplot(data=df, x=\"u\", bins=\"auto\");\n",
    "plt.xticks(ticks=[df[\"u\"].min(), df[\"u\"].max()])"
   ]
  },
  {
   "cell_type": "code",
   "execution_count": 74,
   "metadata": {},
   "outputs": [
    {
     "data": {
      "text/plain": [
       "Index(['obj_ID', 'alpha', 'delta', 'u', 'g', 'r', 'i', 'z', 'run_ID',\n",
       "       'rerun_ID', 'cam_col', 'field_ID', 'spec_obj_ID', 'class', 'redshift',\n",
       "       'plate', 'MJD', 'fiber_ID'],\n",
       "      dtype='object')"
      ]
     },
     "execution_count": 74,
     "metadata": {},
     "output_type": "execute_result"
    }
   ],
   "source": [
    "df.columns"
   ]
  },
  {
   "attachments": {},
   "cell_type": "markdown",
   "metadata": {},
   "source": [
    "Personal Check-List:\n",
    "- Implement some type of feature selection/engineering.\n",
    "- Create simple imputers based on distributions.\n",
    "- Check class imbalance and fix it if imbalanced.\n",
    "- Train-test split with stratify so the testing data has good class balance.\n",
    "- Implement some of project 2 rubric's recommendations."
   ]
  }
 ],
 "metadata": {
  "kernelspec": {
   "display_name": "Python 3",
   "language": "python",
   "name": "python3"
  },
  "language_info": {
   "codemirror_mode": {
    "name": "ipython",
    "version": 3
   },
   "file_extension": ".py",
   "mimetype": "text/x-python",
   "name": "python",
   "nbconvert_exporter": "python",
   "pygments_lexer": "ipython3",
   "version": "3.10.10"
  },
  "orig_nbformat": 4
 },
 "nbformat": 4,
 "nbformat_minor": 2
}
