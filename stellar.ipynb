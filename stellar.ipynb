{
 "cells": [
  {
   "attachments": {},
   "cell_type": "markdown",
   "metadata": {},
   "source": [
    "# **Stellar Object Classification**\n",
    "_John Andrew Dixon_\n",
    "\n",
    "---"
   ]
  },
  {
   "attachments": {},
   "cell_type": "markdown",
   "metadata": {},
   "source": [
    "#### **Data Dictionary**\n",
    "\n",
    "|**Column Name**|**Description**| \n",
    "|-|-|\n",
    "|obj_ID|Object Identifier, the unique value that identifies the object in the image catalog used by the CAS|\n",
    "|alpha|Right Ascension angle (at J2000 epoch)|\n",
    "|delta|Declination angle (at J2000 epoch)|\n",
    "|u|Ultraviolet filter in the photometric system|\n",
    "|g|Green filter in the photometric system|\n",
    "|r|Red filter in the photometric system|\n",
    "|i|Near Infrared filter in the photometric system|\n",
    "|z|Infrared filter in the photometric system|\n",
    "|run_ID|Run Number used to identify the specific scan|\n",
    "|rereun_ID|Rerun Number to specify how the image was processed|\n",
    "|cam_col|Camera column to identify the scanline within the run|\n",
    "|field_ID|Field number to identify each field|\n",
    "|spec_obj_ID|Unique ID used for optical spectroscopic objects (this means that 2 different observations with the same spec_obj_ID must share the output class)|\n",
    "|class|object class (galaxy, star or quasar object)|\n",
    "|redshift|redshift value based on the increase in wavelength|\n",
    "|plate|plate ID, identifies each plate in SDSS|\n",
    "|MJD|Modified Julian Date, used to indicate when a given piece of SDSS data was taken|\n",
    "|fiber_ID|fiber ID that identifies the fiber that pointed the light at the focal plane in each observation|"
   ]
  },
  {
   "attachments": {},
   "cell_type": "markdown",
   "metadata": {},
   "source": [
    "#### **Setup**"
   ]
  },
  {
   "cell_type": "code",
   "execution_count": 1,
   "metadata": {},
   "outputs": [],
   "source": [
    "import pandas as pd"
   ]
  },
  {
   "cell_type": "code",
   "execution_count": 2,
   "metadata": {},
   "outputs": [
    {
     "data": {
      "text/html": [
       "<div>\n",
       "<style scoped>\n",
       "    .dataframe tbody tr th:only-of-type {\n",
       "        vertical-align: middle;\n",
       "    }\n",
       "\n",
       "    .dataframe tbody tr th {\n",
       "        vertical-align: top;\n",
       "    }\n",
       "\n",
       "    .dataframe thead th {\n",
       "        text-align: right;\n",
       "    }\n",
       "</style>\n",
       "<table border=\"1\" class=\"dataframe\">\n",
       "  <thead>\n",
       "    <tr style=\"text-align: right;\">\n",
       "      <th></th>\n",
       "      <th>obj_ID</th>\n",
       "      <th>alpha</th>\n",
       "      <th>delta</th>\n",
       "      <th>u</th>\n",
       "      <th>g</th>\n",
       "      <th>r</th>\n",
       "      <th>i</th>\n",
       "      <th>z</th>\n",
       "      <th>run_ID</th>\n",
       "      <th>rerun_ID</th>\n",
       "      <th>cam_col</th>\n",
       "      <th>field_ID</th>\n",
       "      <th>spec_obj_ID</th>\n",
       "      <th>class</th>\n",
       "      <th>redshift</th>\n",
       "      <th>plate</th>\n",
       "      <th>MJD</th>\n",
       "      <th>fiber_ID</th>\n",
       "    </tr>\n",
       "  </thead>\n",
       "  <tbody>\n",
       "    <tr>\n",
       "      <th>47373</th>\n",
       "      <td>1.237665e+18</td>\n",
       "      <td>219.358378</td>\n",
       "      <td>25.172065</td>\n",
       "      <td>19.03422</td>\n",
       "      <td>17.68312</td>\n",
       "      <td>17.08695</td>\n",
       "      <td>16.74858</td>\n",
       "      <td>16.54623</td>\n",
       "      <td>4649</td>\n",
       "      <td>301</td>\n",
       "      <td>3</td>\n",
       "      <td>231</td>\n",
       "      <td>2.403818e+18</td>\n",
       "      <td>GALAXY</td>\n",
       "      <td>0.121961</td>\n",
       "      <td>2135</td>\n",
       "      <td>53827</td>\n",
       "      <td>80</td>\n",
       "    </tr>\n",
       "    <tr>\n",
       "      <th>40856</th>\n",
       "      <td>1.237660e+18</td>\n",
       "      <td>146.205067</td>\n",
       "      <td>40.078568</td>\n",
       "      <td>21.60470</td>\n",
       "      <td>21.22174</td>\n",
       "      <td>20.61363</td>\n",
       "      <td>20.39042</td>\n",
       "      <td>20.51013</td>\n",
       "      <td>3462</td>\n",
       "      <td>301</td>\n",
       "      <td>3</td>\n",
       "      <td>242</td>\n",
       "      <td>9.945308e+18</td>\n",
       "      <td>GALAXY</td>\n",
       "      <td>0.528760</td>\n",
       "      <td>8833</td>\n",
       "      <td>57779</td>\n",
       "      <td>853</td>\n",
       "    </tr>\n",
       "    <tr>\n",
       "      <th>32910</th>\n",
       "      <td>1.237665e+18</td>\n",
       "      <td>196.346631</td>\n",
       "      <td>29.217491</td>\n",
       "      <td>22.30363</td>\n",
       "      <td>20.89544</td>\n",
       "      <td>19.11858</td>\n",
       "      <td>18.48914</td>\n",
       "      <td>18.06431</td>\n",
       "      <td>4649</td>\n",
       "      <td>301</td>\n",
       "      <td>3</td>\n",
       "      <td>92</td>\n",
       "      <td>7.299447e+18</td>\n",
       "      <td>GALAXY</td>\n",
       "      <td>0.387419</td>\n",
       "      <td>6483</td>\n",
       "      <td>56341</td>\n",
       "      <td>866</td>\n",
       "    </tr>\n",
       "    <tr>\n",
       "      <th>93298</th>\n",
       "      <td>1.237658e+18</td>\n",
       "      <td>169.996413</td>\n",
       "      <td>58.982203</td>\n",
       "      <td>24.69456</td>\n",
       "      <td>24.20848</td>\n",
       "      <td>23.06297</td>\n",
       "      <td>20.87551</td>\n",
       "      <td>19.70769</td>\n",
       "      <td>2987</td>\n",
       "      <td>301</td>\n",
       "      <td>3</td>\n",
       "      <td>101</td>\n",
       "      <td>8.002966e+18</td>\n",
       "      <td>STAR</td>\n",
       "      <td>-0.000231</td>\n",
       "      <td>7108</td>\n",
       "      <td>56686</td>\n",
       "      <td>252</td>\n",
       "    </tr>\n",
       "    <tr>\n",
       "      <th>92229</th>\n",
       "      <td>1.237664e+18</td>\n",
       "      <td>194.006641</td>\n",
       "      <td>14.227486</td>\n",
       "      <td>23.07723</td>\n",
       "      <td>22.56971</td>\n",
       "      <td>20.62846</td>\n",
       "      <td>19.58605</td>\n",
       "      <td>19.09302</td>\n",
       "      <td>4381</td>\n",
       "      <td>301</td>\n",
       "      <td>2</td>\n",
       "      <td>153</td>\n",
       "      <td>6.098075e+18</td>\n",
       "      <td>GALAXY</td>\n",
       "      <td>0.518973</td>\n",
       "      <td>5416</td>\n",
       "      <td>56002</td>\n",
       "      <td>733</td>\n",
       "    </tr>\n",
       "  </tbody>\n",
       "</table>\n",
       "</div>"
      ],
      "text/plain": [
       "             obj_ID       alpha      delta         u         g         r  \\\n",
       "47373  1.237665e+18  219.358378  25.172065  19.03422  17.68312  17.08695   \n",
       "40856  1.237660e+18  146.205067  40.078568  21.60470  21.22174  20.61363   \n",
       "32910  1.237665e+18  196.346631  29.217491  22.30363  20.89544  19.11858   \n",
       "93298  1.237658e+18  169.996413  58.982203  24.69456  24.20848  23.06297   \n",
       "92229  1.237664e+18  194.006641  14.227486  23.07723  22.56971  20.62846   \n",
       "\n",
       "              i         z  run_ID  rerun_ID  cam_col  field_ID   spec_obj_ID  \\\n",
       "47373  16.74858  16.54623    4649       301        3       231  2.403818e+18   \n",
       "40856  20.39042  20.51013    3462       301        3       242  9.945308e+18   \n",
       "32910  18.48914  18.06431    4649       301        3        92  7.299447e+18   \n",
       "93298  20.87551  19.70769    2987       301        3       101  8.002966e+18   \n",
       "92229  19.58605  19.09302    4381       301        2       153  6.098075e+18   \n",
       "\n",
       "        class  redshift  plate    MJD  fiber_ID  \n",
       "47373  GALAXY  0.121961   2135  53827        80  \n",
       "40856  GALAXY  0.528760   8833  57779       853  \n",
       "32910  GALAXY  0.387419   6483  56341       866  \n",
       "93298    STAR -0.000231   7108  56686       252  \n",
       "92229  GALAXY  0.518973   5416  56002       733  "
      ]
     },
     "execution_count": 2,
     "metadata": {},
     "output_type": "execute_result"
    }
   ],
   "source": [
    "url = \"https://docs.google.com/spreadsheets/d/e/2PACX-1vRviGqwoVRVF_HY9LcyDLvVEDpdqZKvk1mL6K9xiWpEFh_i2QF4AX13P96L9F6nIAsD0iF0JZmcJ69A/pub?output=csv\"\n",
    "df = pd.read_csv(url)\n",
    "stellar_df = df.copy()\n",
    "df.sample(5)"
   ]
  },
  {
   "attachments": {},
   "cell_type": "markdown",
   "metadata": {},
   "source": [
    "#### **Helper Functions**"
   ]
  },
  {
   "cell_type": "code",
   "execution_count": null,
   "metadata": {},
   "outputs": [],
   "source": []
  },
  {
   "attachments": {},
   "cell_type": "markdown",
   "metadata": {},
   "source": [
    "---\n",
    "## **Explanatory Analysis**\n",
    "\n",
    "#### **Cleaning**\n",
    "\n",
    "Duplicate check and removal:"
   ]
  },
  {
   "cell_type": "code",
   "execution_count": 3,
   "metadata": {},
   "outputs": [
    {
     "data": {
      "text/plain": [
       "0"
      ]
     },
     "execution_count": 3,
     "metadata": {},
     "output_type": "execute_result"
    }
   ],
   "source": [
    "stellar_df.duplicated().sum()"
   ]
  },
  {
   "attachments": {},
   "cell_type": "markdown",
   "metadata": {},
   "source": [
    "- Implement some type of feature selection/engineering\n",
    "- Create simple imputers based on distributions\n",
    "- Check class imbalance and fix it if imbalanced,   \n",
    "- Train-test split with stratify so the testing data has good class balance\n",
    "- See project 2 rubric"
   ]
  }
 ],
 "metadata": {
  "kernelspec": {
   "display_name": "Python 3",
   "language": "python",
   "name": "python3"
  },
  "language_info": {
   "codemirror_mode": {
    "name": "ipython",
    "version": 3
   },
   "file_extension": ".py",
   "mimetype": "text/x-python",
   "name": "python",
   "nbconvert_exporter": "python",
   "pygments_lexer": "ipython3",
   "version": "3.10.10"
  },
  "orig_nbformat": 4
 },
 "nbformat": 4,
 "nbformat_minor": 2
}
