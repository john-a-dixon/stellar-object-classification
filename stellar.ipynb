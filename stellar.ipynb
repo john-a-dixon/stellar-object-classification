{
  "cells": [
    {
      "cell_type": "markdown",
      "metadata": {
        "id": "4fMZ6_p-kNWa"
      },
      "source": [
        "# **Stellar Object Classification**\n",
        "_John Andrew Dixon_\n",
        "\n",
        "---"
      ]
    },
    {
      "cell_type": "markdown",
      "metadata": {
        "id": "S2j_sQjGkNWb"
      },
      "source": [
        "#### **Data Dictionary**\n",
        "\n",
        "|**Column Name**|**Description**| \n",
        "|-|-|\n",
        "|obj_ID|Object Identifier, the unique value that identifies the object in the image catalog used by the CAS|\n",
        "|alpha|Right Ascension angle (at J2000 epoch)|\n",
        "|delta|Declination angle (at J2000 epoch)|\n",
        "|u|Ultraviolet filter in the photometric system|\n",
        "|g|Green filter in the photometric system|\n",
        "|r|Red filter in the photometric system|\n",
        "|i|Near Infrared filter in the photometric system|\n",
        "|z|Infrared filter in the photometric system|\n",
        "|run_ID|Run Number used to identify the specific scan|\n",
        "|rereun_ID|Rerun Number to specify how the image was processed|\n",
        "|cam_col|Camera column to identify the scanline within the run|\n",
        "|field_ID|Field number to identify each field|\n",
        "|spec_obj_ID|Unique ID used for optical spectroscopic objects (this means that 2 different observations with the same spec_obj_ID must share the output class)|\n",
        "|class|object class (galaxy, star or quasar object)|\n",
        "|redshift|redshift value based on the increase in wavelength|\n",
        "|plate|plate ID, identifies each plate in SDSS|\n",
        "|MJD|Modified Julian Date, used to indicate when a given piece of SDSS data was taken|\n",
        "|fiber_ID|fiber ID that identifies the fiber that pointed the light at the focal plane in each observation|"
      ]
    },
    {
      "attachments": {},
      "cell_type": "markdown",
      "metadata": {
        "id": "smigspM0kNWc"
      },
      "source": [
        "#### **Imports**"
      ]
    },
    {
      "cell_type": "code",
      "execution_count": 82,
      "metadata": {
        "id": "Tx4XjTKXkNWc"
      },
      "outputs": [],
      "source": [
        "# Imports\n",
        "import numpy as np\n",
        "import pandas as pd\n",
        "import seaborn as sns\n",
        "import matplotlib.pyplot as plt\n",
        "from lightgbm import LGBMClassifier\n",
        "from sklearn import set_config\n",
        "from sklearn.decomposition import PCA\n",
        "from sklearn.ensemble import RandomForestClassifier, GradientBoostingClassifier\n",
        "from sklearn.metrics import accuracy_score, precision_score, recall_score\n",
        "from sklearn.model_selection import train_test_split, GridSearchCV\n",
        "from sklearn.pipeline import make_pipeline\n",
        "from xgboost import XGBClassifier\n",
        "set_config(display=\"text\")"
      ]
    },
    {
      "attachments": {},
      "cell_type": "markdown",
      "metadata": {},
      "source": [
        "#### **Data Loading**"
      ]
    },
    {
      "cell_type": "code",
      "execution_count": 2,
      "metadata": {
        "colab": {
          "base_uri": "https://localhost:8080/",
          "height": 206
        },
        "id": "BMHoGIT6kNWd",
        "outputId": "196afea7-8591-4b44-c3d7-dd18f4f3ad55"
      },
      "outputs": [
        {
          "data": {
            "text/html": [
              "<div>\n",
              "<style scoped>\n",
              "    .dataframe tbody tr th:only-of-type {\n",
              "        vertical-align: middle;\n",
              "    }\n",
              "\n",
              "    .dataframe tbody tr th {\n",
              "        vertical-align: top;\n",
              "    }\n",
              "\n",
              "    .dataframe thead th {\n",
              "        text-align: right;\n",
              "    }\n",
              "</style>\n",
              "<table border=\"1\" class=\"dataframe\">\n",
              "  <thead>\n",
              "    <tr style=\"text-align: right;\">\n",
              "      <th></th>\n",
              "      <th>obj_ID</th>\n",
              "      <th>alpha</th>\n",
              "      <th>delta</th>\n",
              "      <th>u</th>\n",
              "      <th>g</th>\n",
              "      <th>r</th>\n",
              "      <th>i</th>\n",
              "      <th>z</th>\n",
              "      <th>run_ID</th>\n",
              "      <th>rerun_ID</th>\n",
              "      <th>cam_col</th>\n",
              "      <th>field_ID</th>\n",
              "      <th>spec_obj_ID</th>\n",
              "      <th>class</th>\n",
              "      <th>redshift</th>\n",
              "      <th>plate</th>\n",
              "      <th>MJD</th>\n",
              "      <th>fiber_ID</th>\n",
              "    </tr>\n",
              "  </thead>\n",
              "  <tbody>\n",
              "    <tr>\n",
              "      <th>81013</th>\n",
              "      <td>1.237654e+18</td>\n",
              "      <td>154.946281</td>\n",
              "      <td>60.000636</td>\n",
              "      <td>19.26756</td>\n",
              "      <td>18.28127</td>\n",
              "      <td>17.95560</td>\n",
              "      <td>17.81455</td>\n",
              "      <td>17.80880</td>\n",
              "      <td>2074</td>\n",
              "      <td>301</td>\n",
              "      <td>6</td>\n",
              "      <td>209</td>\n",
              "      <td>6.294922e+17</td>\n",
              "      <td>STAR</td>\n",
              "      <td>0.000027</td>\n",
              "      <td>559</td>\n",
              "      <td>52316</td>\n",
              "      <td>415</td>\n",
              "    </tr>\n",
              "    <tr>\n",
              "      <th>90227</th>\n",
              "      <td>1.237668e+18</td>\n",
              "      <td>241.731133</td>\n",
              "      <td>10.525465</td>\n",
              "      <td>19.82673</td>\n",
              "      <td>18.37856</td>\n",
              "      <td>17.65440</td>\n",
              "      <td>17.20844</td>\n",
              "      <td>16.91919</td>\n",
              "      <td>5322</td>\n",
              "      <td>301</td>\n",
              "      <td>5</td>\n",
              "      <td>213</td>\n",
              "      <td>2.844136e+18</td>\n",
              "      <td>GALAXY</td>\n",
              "      <td>0.077818</td>\n",
              "      <td>2526</td>\n",
              "      <td>54582</td>\n",
              "      <td>410</td>\n",
              "    </tr>\n",
              "    <tr>\n",
              "      <th>35848</th>\n",
              "      <td>1.237668e+18</td>\n",
              "      <td>214.889365</td>\n",
              "      <td>18.570968</td>\n",
              "      <td>18.03337</td>\n",
              "      <td>16.05855</td>\n",
              "      <td>15.07980</td>\n",
              "      <td>14.64488</td>\n",
              "      <td>14.30565</td>\n",
              "      <td>5194</td>\n",
              "      <td>301</td>\n",
              "      <td>1</td>\n",
              "      <td>652</td>\n",
              "      <td>3.106484e+18</td>\n",
              "      <td>GALAXY</td>\n",
              "      <td>0.065848</td>\n",
              "      <td>2759</td>\n",
              "      <td>54534</td>\n",
              "      <td>458</td>\n",
              "    </tr>\n",
              "    <tr>\n",
              "      <th>97518</th>\n",
              "      <td>1.237661e+18</td>\n",
              "      <td>71.040120</td>\n",
              "      <td>25.523901</td>\n",
              "      <td>25.10498</td>\n",
              "      <td>22.53728</td>\n",
              "      <td>20.39400</td>\n",
              "      <td>18.53493</td>\n",
              "      <td>17.40273</td>\n",
              "      <td>3559</td>\n",
              "      <td>301</td>\n",
              "      <td>4</td>\n",
              "      <td>63</td>\n",
              "      <td>1.847710e+18</td>\n",
              "      <td>STAR</td>\n",
              "      <td>-0.000036</td>\n",
              "      <td>1641</td>\n",
              "      <td>53032</td>\n",
              "      <td>392</td>\n",
              "    </tr>\n",
              "    <tr>\n",
              "      <th>84017</th>\n",
              "      <td>1.237664e+18</td>\n",
              "      <td>145.765656</td>\n",
              "      <td>33.188958</td>\n",
              "      <td>24.53088</td>\n",
              "      <td>23.17334</td>\n",
              "      <td>21.61934</td>\n",
              "      <td>20.51317</td>\n",
              "      <td>19.76299</td>\n",
              "      <td>4335</td>\n",
              "      <td>301</td>\n",
              "      <td>4</td>\n",
              "      <td>236</td>\n",
              "      <td>1.151578e+19</td>\n",
              "      <td>GALAXY</td>\n",
              "      <td>0.818484</td>\n",
              "      <td>10228</td>\n",
              "      <td>58223</td>\n",
              "      <td>275</td>\n",
              "    </tr>\n",
              "  </tbody>\n",
              "</table>\n",
              "</div>"
            ],
            "text/plain": [
              "             obj_ID       alpha      delta         u         g         r  \\\n",
              "81013  1.237654e+18  154.946281  60.000636  19.26756  18.28127  17.95560   \n",
              "90227  1.237668e+18  241.731133  10.525465  19.82673  18.37856  17.65440   \n",
              "35848  1.237668e+18  214.889365  18.570968  18.03337  16.05855  15.07980   \n",
              "97518  1.237661e+18   71.040120  25.523901  25.10498  22.53728  20.39400   \n",
              "84017  1.237664e+18  145.765656  33.188958  24.53088  23.17334  21.61934   \n",
              "\n",
              "              i         z  run_ID  rerun_ID  cam_col  field_ID   spec_obj_ID  \\\n",
              "81013  17.81455  17.80880    2074       301        6       209  6.294922e+17   \n",
              "90227  17.20844  16.91919    5322       301        5       213  2.844136e+18   \n",
              "35848  14.64488  14.30565    5194       301        1       652  3.106484e+18   \n",
              "97518  18.53493  17.40273    3559       301        4        63  1.847710e+18   \n",
              "84017  20.51317  19.76299    4335       301        4       236  1.151578e+19   \n",
              "\n",
              "        class  redshift  plate    MJD  fiber_ID  \n",
              "81013    STAR  0.000027    559  52316       415  \n",
              "90227  GALAXY  0.077818   2526  54582       410  \n",
              "35848  GALAXY  0.065848   2759  54534       458  \n",
              "97518    STAR -0.000036   1641  53032       392  \n",
              "84017  GALAXY  0.818484  10228  58223       275  "
            ]
          },
          "execution_count": 2,
          "metadata": {},
          "output_type": "execute_result"
        }
      ],
      "source": [
        "# Remote url to the dataset\n",
        "url = \"https://docs.google.com/spreadsheets/d/e/2PACX-1vRviGqwoVRVF_HY9LcyDLvVEDpdqZKvk1mL6K9xiWpEFh_i2QF4AX13P96L9F6nIAsD0iF0JZmcJ69A/pub?output=csv\"\n",
        "# Load the dataset.\n",
        "df = pd.read_csv(url)\n",
        "# Copy the loaded dataset so there is an origina copy and a copy to use for EDA and Machine Learning\n",
        "stellar_df = df.copy()\n",
        "# Verify it loaded\n",
        "df.sample(5)"
      ]
    },
    {
      "cell_type": "markdown",
      "metadata": {
        "id": "8mMyeGrgkNWd"
      },
      "source": [
        "#### **Helper Functions**"
      ]
    },
    {
      "cell_type": "code",
      "execution_count": 3,
      "metadata": {
        "id": "Rl1TbtAAkNWe"
      },
      "outputs": [],
      "source": [
        "def format_for_df(keys, values):\n",
        "   # Make the lambda function in a vectorized function so it can be used element wise\n",
        "   formatter = np.vectorize(lambda x: f\"{x:.3f}\")\n",
        "   # Create a dictionary out of the zipped object where the zipped object\n",
        "   # is formed by zipping keys and the formatted values from the vectorized formatter function\n",
        "   result = dict(zip([key[0] for key in keys], formatter(values))) \n",
        "   # Remove the first and last brackets for better formatted\n",
        "   result = str(result)[1:-1]\n",
        "   # Remove the single quotes\n",
        "   return result.replace(\"'\", \"\")\n",
        "\n",
        "def metrics(train_y_true, train_y_pred, test_y_true, test_y_pred, name, labels=[\"GALAXY\", \"QSO\", \"STAR\"]):\n",
        "   # Create a metrics_df to hold the metrics\n",
        "   metrics_df = pd.DataFrame(columns=[\"TRAIN ACCURACY\", \"TRAIN PRECISION\", \"TRAIN RECALL\", \"TEST ACCURACY\", \"TEST PRECISION\", \"TEST RECALL\"])\n",
        "\n",
        "   # Get the accuracy score\n",
        "   train_accuracy = f\"{accuracy_score(train_y_true, train_y_pred):.3f}\"\n",
        "   test_accuracy = f\"{accuracy_score(test_y_true, test_y_pred):.3f}\"\n",
        "\n",
        "   # Get the precision scores per class when each is chosen as a positive class\n",
        "   train_precisions = precision_score(train_y_true, train_y_pred, labels=labels, average=None)\n",
        "   test_precisions = precision_score(test_y_true, test_y_pred, labels=labels, average=None)\n",
        "   # Modify the format of the precision scores so they are easier to read and compare in the future\n",
        "   train_precisions = format_for_df(labels, np.round(train_precisions, 3))\n",
        "   test_precisions = format_for_df(labels, np.round(test_precisions, 3))\n",
        "\n",
        "   # Get the recall scores per class when each is chosen as a positive class\n",
        "   train_recalls = recall_score(train_y_true, train_y_pred, labels=labels, average=None)\n",
        "   test_recalls = recall_score(test_y_true, test_y_pred, labels=labels, average=None)\n",
        "   # Modify the format of the recall scores so they are easier to read and compare in the future\n",
        "   train_recalls = format_for_df(labels, np.round(train_recalls, 3))\n",
        "   test_recalls = format_for_df(labels, np.round(test_recalls, 3))\n",
        "\n",
        "   # Add the metrics to the metrics_df\n",
        "   metrics_df.loc[name] = [train_accuracy, train_precisions, train_recalls, test_accuracy, test_precisions, test_recalls]\n",
        "\n",
        "   # Return the metrics_df\n",
        "   return metrics_df"
      ]
    },
    {
      "cell_type": "markdown",
      "metadata": {
        "id": "zX6yG44YkNWe"
      },
      "source": [
        "---\n",
        "## **Explanatory Analysis**\n",
        "\n",
        "#### **Cleaning**"
      ]
    },
    {
      "cell_type": "markdown",
      "metadata": {
        "id": "nHj2Hj5WkNWe"
      },
      "source": [
        "**Duplicate check and removal:**"
      ]
    },
    {
      "cell_type": "code",
      "execution_count": 4,
      "metadata": {
        "colab": {
          "base_uri": "https://localhost:8080/"
        },
        "id": "mgdl0TntkNWe",
        "outputId": "7e174db7-536c-41e0-ecc8-8e0404a32fc5"
      },
      "outputs": [
        {
          "data": {
            "text/plain": [
              "0"
            ]
          },
          "execution_count": 4,
          "metadata": {},
          "output_type": "execute_result"
        }
      ],
      "source": [
        "# Check for duplicates\n",
        "stellar_df.duplicated().sum()"
      ]
    },
    {
      "cell_type": "markdown",
      "metadata": {
        "id": "gtNwvMFckNWe"
      },
      "source": [
        "> There are no duplicates, meaning every row/sample of the original dataset represents a unique stellar object."
      ]
    },
    {
      "cell_type": "markdown",
      "metadata": {
        "id": "c7duE2YdkNWe"
      },
      "source": [
        "**Unnecessary column check and removal:**"
      ]
    },
    {
      "cell_type": "code",
      "execution_count": 5,
      "metadata": {
        "colab": {
          "base_uri": "https://localhost:8080/"
        },
        "id": "q2LrI2wkkNWf",
        "outputId": "8f91b385-baec-443b-f1a7-b614b2eb0bc3"
      },
      "outputs": [
        {
          "data": {
            "text/plain": [
              "obj_ID         77332\n",
              "alpha          99997\n",
              "delta          99999\n",
              "u              93748\n",
              "g              92651\n",
              "r              91901\n",
              "i              92019\n",
              "z              92007\n",
              "run_ID           430\n",
              "rerun_ID           1\n",
              "cam_col            6\n",
              "field_ID         856\n",
              "spec_obj_ID    98431\n",
              "class              3\n",
              "redshift       94787\n",
              "plate           6284\n",
              "MJD             2180\n",
              "fiber_ID        1000\n",
              "dtype: int64"
            ]
          },
          "execution_count": 5,
          "metadata": {},
          "output_type": "execute_result"
        }
      ],
      "source": [
        "# Check unique values of each column to see if any columns have only one value\n",
        "stellar_df.nunique()"
      ]
    },
    {
      "cell_type": "markdown",
      "metadata": {
        "id": "2POMzkvCkNWf"
      },
      "source": [
        "> As of right now, the only unnecessary column is `rerun_ID` because all 100,000 samples have the same value for this column. Keeping this column adds nothing."
      ]
    },
    {
      "cell_type": "code",
      "execution_count": 6,
      "metadata": {
        "id": "OVapeLcLkNWf"
      },
      "outputs": [],
      "source": [
        "# Drops the rerun_ID column\n",
        "stellar_df.drop(columns=\"rerun_ID\", inplace=True)"
      ]
    },
    {
      "cell_type": "markdown",
      "metadata": {
        "id": "3TJ5674UkNWf"
      },
      "source": [
        "**Categorical Inconsistencies check and fix:**"
      ]
    },
    {
      "cell_type": "code",
      "execution_count": 7,
      "metadata": {
        "colab": {
          "base_uri": "https://localhost:8080/"
        },
        "id": "yO1gHBpqkNWf",
        "outputId": "ed0e1a23-eaa5-48c6-e621-0468f3734bd0"
      },
      "outputs": [
        {
          "data": {
            "text/plain": [
              "GALAXY    0.59445\n",
              "STAR      0.21594\n",
              "QSO       0.18961\n",
              "Name: class, dtype: float64"
            ]
          },
          "execution_count": 7,
          "metadata": {},
          "output_type": "execute_result"
        }
      ],
      "source": [
        "# Check if the only categorical feature has inconsistencies.\n",
        "stellar_df[\"class\"].value_counts(normalize=True)"
      ]
    },
    {
      "cell_type": "markdown",
      "metadata": {
        "id": "EReV7404kNWf"
      },
      "source": [
        "> There are no categorical inconsistencies. Additionally, it's good to note that the classes are fairly unbalanced."
      ]
    },
    {
      "cell_type": "markdown",
      "metadata": {
        "id": "rEWoajF_kNWf"
      },
      "source": [
        "**Outlier check and fix:**"
      ]
    },
    {
      "cell_type": "code",
      "execution_count": 8,
      "metadata": {
        "colab": {
          "base_uri": "https://localhost:8080/",
          "height": 364
        },
        "id": "ZKPRjWOZkNWg",
        "outputId": "c67caf8e-4dd3-4d59-dd87-3514e9cb92ac"
      },
      "outputs": [
        {
          "data": {
            "text/html": [
              "<div>\n",
              "<style scoped>\n",
              "    .dataframe tbody tr th:only-of-type {\n",
              "        vertical-align: middle;\n",
              "    }\n",
              "\n",
              "    .dataframe tbody tr th {\n",
              "        vertical-align: top;\n",
              "    }\n",
              "\n",
              "    .dataframe thead th {\n",
              "        text-align: right;\n",
              "    }\n",
              "</style>\n",
              "<table border=\"1\" class=\"dataframe\">\n",
              "  <thead>\n",
              "    <tr style=\"text-align: right;\">\n",
              "      <th></th>\n",
              "      <th>obj_ID</th>\n",
              "      <th>alpha</th>\n",
              "      <th>delta</th>\n",
              "      <th>u</th>\n",
              "      <th>g</th>\n",
              "      <th>r</th>\n",
              "      <th>i</th>\n",
              "      <th>z</th>\n",
              "      <th>run_ID</th>\n",
              "      <th>cam_col</th>\n",
              "      <th>field_ID</th>\n",
              "      <th>spec_obj_ID</th>\n",
              "      <th>redshift</th>\n",
              "      <th>plate</th>\n",
              "      <th>MJD</th>\n",
              "      <th>fiber_ID</th>\n",
              "    </tr>\n",
              "  </thead>\n",
              "  <tbody>\n",
              "    <tr>\n",
              "      <th>count</th>\n",
              "      <td>1.000000e+05</td>\n",
              "      <td>100000.000000</td>\n",
              "      <td>100000.000000</td>\n",
              "      <td>100000.000000</td>\n",
              "      <td>100000.000000</td>\n",
              "      <td>100000.000000</td>\n",
              "      <td>100000.000000</td>\n",
              "      <td>100000.000000</td>\n",
              "      <td>100000.000000</td>\n",
              "      <td>100000.000000</td>\n",
              "      <td>100000.000000</td>\n",
              "      <td>1.000000e+05</td>\n",
              "      <td>100000.000000</td>\n",
              "      <td>100000.000000</td>\n",
              "      <td>100000.000000</td>\n",
              "      <td>100000.000000</td>\n",
              "    </tr>\n",
              "    <tr>\n",
              "      <th>mean</th>\n",
              "      <td>1.237688e+18</td>\n",
              "      <td>177.629117</td>\n",
              "      <td>24.135305</td>\n",
              "      <td>21.980468</td>\n",
              "      <td>20.531387</td>\n",
              "      <td>19.645762</td>\n",
              "      <td>19.084854</td>\n",
              "      <td>18.668810</td>\n",
              "      <td>4481.366060</td>\n",
              "      <td>3.511610</td>\n",
              "      <td>186.130520</td>\n",
              "      <td>5.783893e+18</td>\n",
              "      <td>0.576661</td>\n",
              "      <td>5137.009660</td>\n",
              "      <td>55588.647500</td>\n",
              "      <td>449.312740</td>\n",
              "    </tr>\n",
              "    <tr>\n",
              "      <th>std</th>\n",
              "      <td>2.311265e+14</td>\n",
              "      <td>96.502241</td>\n",
              "      <td>19.644665</td>\n",
              "      <td>31.769291</td>\n",
              "      <td>31.750292</td>\n",
              "      <td>1.854760</td>\n",
              "      <td>1.757895</td>\n",
              "      <td>31.728152</td>\n",
              "      <td>1964.764593</td>\n",
              "      <td>1.586912</td>\n",
              "      <td>149.011073</td>\n",
              "      <td>3.324026e+18</td>\n",
              "      <td>0.730707</td>\n",
              "      <td>2952.303351</td>\n",
              "      <td>1808.484233</td>\n",
              "      <td>272.498404</td>\n",
              "    </tr>\n",
              "    <tr>\n",
              "      <th>min</th>\n",
              "      <td>1.237646e+18</td>\n",
              "      <td>0.005528</td>\n",
              "      <td>-18.785328</td>\n",
              "      <td>-9999.000000</td>\n",
              "      <td>-9999.000000</td>\n",
              "      <td>9.822070</td>\n",
              "      <td>9.469903</td>\n",
              "      <td>-9999.000000</td>\n",
              "      <td>109.000000</td>\n",
              "      <td>1.000000</td>\n",
              "      <td>11.000000</td>\n",
              "      <td>2.995191e+17</td>\n",
              "      <td>-0.009971</td>\n",
              "      <td>266.000000</td>\n",
              "      <td>51608.000000</td>\n",
              "      <td>1.000000</td>\n",
              "    </tr>\n",
              "    <tr>\n",
              "      <th>25%</th>\n",
              "      <td>1.237659e+18</td>\n",
              "      <td>127.518222</td>\n",
              "      <td>5.146771</td>\n",
              "      <td>20.352353</td>\n",
              "      <td>18.965230</td>\n",
              "      <td>18.135828</td>\n",
              "      <td>17.732285</td>\n",
              "      <td>17.460677</td>\n",
              "      <td>3187.000000</td>\n",
              "      <td>2.000000</td>\n",
              "      <td>82.000000</td>\n",
              "      <td>2.844138e+18</td>\n",
              "      <td>0.054517</td>\n",
              "      <td>2526.000000</td>\n",
              "      <td>54234.000000</td>\n",
              "      <td>221.000000</td>\n",
              "    </tr>\n",
              "    <tr>\n",
              "      <th>50%</th>\n",
              "      <td>1.237663e+18</td>\n",
              "      <td>180.900700</td>\n",
              "      <td>23.645922</td>\n",
              "      <td>22.179135</td>\n",
              "      <td>21.099835</td>\n",
              "      <td>20.125290</td>\n",
              "      <td>19.405145</td>\n",
              "      <td>19.004595</td>\n",
              "      <td>4188.000000</td>\n",
              "      <td>4.000000</td>\n",
              "      <td>146.000000</td>\n",
              "      <td>5.614883e+18</td>\n",
              "      <td>0.424173</td>\n",
              "      <td>4987.000000</td>\n",
              "      <td>55868.500000</td>\n",
              "      <td>433.000000</td>\n",
              "    </tr>\n",
              "    <tr>\n",
              "      <th>75%</th>\n",
              "      <td>1.237669e+18</td>\n",
              "      <td>233.895005</td>\n",
              "      <td>39.901550</td>\n",
              "      <td>23.687440</td>\n",
              "      <td>22.123767</td>\n",
              "      <td>21.044785</td>\n",
              "      <td>20.396495</td>\n",
              "      <td>19.921120</td>\n",
              "      <td>5326.000000</td>\n",
              "      <td>5.000000</td>\n",
              "      <td>241.000000</td>\n",
              "      <td>8.332144e+18</td>\n",
              "      <td>0.704154</td>\n",
              "      <td>7400.250000</td>\n",
              "      <td>56777.000000</td>\n",
              "      <td>645.000000</td>\n",
              "    </tr>\n",
              "    <tr>\n",
              "      <th>max</th>\n",
              "      <td>1.240000e+18</td>\n",
              "      <td>359.999810</td>\n",
              "      <td>83.000519</td>\n",
              "      <td>32.781390</td>\n",
              "      <td>31.602240</td>\n",
              "      <td>29.571860</td>\n",
              "      <td>32.141470</td>\n",
              "      <td>29.383740</td>\n",
              "      <td>8162.000000</td>\n",
              "      <td>6.000000</td>\n",
              "      <td>989.000000</td>\n",
              "      <td>1.412694e+19</td>\n",
              "      <td>7.011245</td>\n",
              "      <td>12547.000000</td>\n",
              "      <td>58932.000000</td>\n",
              "      <td>1000.000000</td>\n",
              "    </tr>\n",
              "  </tbody>\n",
              "</table>\n",
              "</div>"
            ],
            "text/plain": [
              "             obj_ID          alpha          delta              u  \\\n",
              "count  1.000000e+05  100000.000000  100000.000000  100000.000000   \n",
              "mean   1.237688e+18     177.629117      24.135305      21.980468   \n",
              "std    2.311265e+14      96.502241      19.644665      31.769291   \n",
              "min    1.237646e+18       0.005528     -18.785328   -9999.000000   \n",
              "25%    1.237659e+18     127.518222       5.146771      20.352353   \n",
              "50%    1.237663e+18     180.900700      23.645922      22.179135   \n",
              "75%    1.237669e+18     233.895005      39.901550      23.687440   \n",
              "max    1.240000e+18     359.999810      83.000519      32.781390   \n",
              "\n",
              "                   g              r              i              z  \\\n",
              "count  100000.000000  100000.000000  100000.000000  100000.000000   \n",
              "mean       20.531387      19.645762      19.084854      18.668810   \n",
              "std        31.750292       1.854760       1.757895      31.728152   \n",
              "min     -9999.000000       9.822070       9.469903   -9999.000000   \n",
              "25%        18.965230      18.135828      17.732285      17.460677   \n",
              "50%        21.099835      20.125290      19.405145      19.004595   \n",
              "75%        22.123767      21.044785      20.396495      19.921120   \n",
              "max        31.602240      29.571860      32.141470      29.383740   \n",
              "\n",
              "              run_ID        cam_col       field_ID   spec_obj_ID  \\\n",
              "count  100000.000000  100000.000000  100000.000000  1.000000e+05   \n",
              "mean     4481.366060       3.511610     186.130520  5.783893e+18   \n",
              "std      1964.764593       1.586912     149.011073  3.324026e+18   \n",
              "min       109.000000       1.000000      11.000000  2.995191e+17   \n",
              "25%      3187.000000       2.000000      82.000000  2.844138e+18   \n",
              "50%      4188.000000       4.000000     146.000000  5.614883e+18   \n",
              "75%      5326.000000       5.000000     241.000000  8.332144e+18   \n",
              "max      8162.000000       6.000000     989.000000  1.412694e+19   \n",
              "\n",
              "            redshift          plate            MJD       fiber_ID  \n",
              "count  100000.000000  100000.000000  100000.000000  100000.000000  \n",
              "mean        0.576661    5137.009660   55588.647500     449.312740  \n",
              "std         0.730707    2952.303351    1808.484233     272.498404  \n",
              "min        -0.009971     266.000000   51608.000000       1.000000  \n",
              "25%         0.054517    2526.000000   54234.000000     221.000000  \n",
              "50%         0.424173    4987.000000   55868.500000     433.000000  \n",
              "75%         0.704154    7400.250000   56777.000000     645.000000  \n",
              "max         7.011245   12547.000000   58932.000000    1000.000000  "
            ]
          },
          "execution_count": 8,
          "metadata": {},
          "output_type": "execute_result"
        }
      ],
      "source": [
        "# Get summary stats to hopefully discern some outliers\n",
        "stellar_df.describe()"
      ]
    },
    {
      "cell_type": "markdown",
      "metadata": {
        "id": "r6oK95wfkNWg"
      },
      "source": [
        "> There seem to be odd numbers within the `u`, `g`, and `z` features. All three have -9999 which does not seem to fit in with these features' stats. I'll explore further."
      ]
    },
    {
      "cell_type": "code",
      "execution_count": 9,
      "metadata": {
        "colab": {
          "base_uri": "https://localhost:8080/",
          "height": 424
        },
        "id": "MrXmvFjakNWg",
        "outputId": "de9f7af0-6c28-44cd-9e8d-5e8d70b3d286"
      },
      "outputs": [
        {
          "data": {
            "text/html": [
              "<div>\n",
              "<style scoped>\n",
              "    .dataframe tbody tr th:only-of-type {\n",
              "        vertical-align: middle;\n",
              "    }\n",
              "\n",
              "    .dataframe tbody tr th {\n",
              "        vertical-align: top;\n",
              "    }\n",
              "\n",
              "    .dataframe thead th {\n",
              "        text-align: right;\n",
              "    }\n",
              "</style>\n",
              "<table border=\"1\" class=\"dataframe\">\n",
              "  <thead>\n",
              "    <tr style=\"text-align: right;\">\n",
              "      <th></th>\n",
              "      <th>index</th>\n",
              "      <th>u</th>\n",
              "      <th>index</th>\n",
              "      <th>g</th>\n",
              "      <th>index</th>\n",
              "      <th>z</th>\n",
              "    </tr>\n",
              "  </thead>\n",
              "  <tbody>\n",
              "    <tr>\n",
              "      <th>0</th>\n",
              "      <td>56693</td>\n",
              "      <td>32.78139</td>\n",
              "      <td>16115</td>\n",
              "      <td>31.60224</td>\n",
              "      <td>55524</td>\n",
              "      <td>29.383740</td>\n",
              "    </tr>\n",
              "    <tr>\n",
              "      <th>1</th>\n",
              "      <td>21245</td>\n",
              "      <td>30.66039</td>\n",
              "      <td>21245</td>\n",
              "      <td>30.60700</td>\n",
              "      <td>93321</td>\n",
              "      <td>28.790550</td>\n",
              "    </tr>\n",
              "    <tr>\n",
              "      <th>2</th>\n",
              "      <td>19525</td>\n",
              "      <td>29.32565</td>\n",
              "      <td>13023</td>\n",
              "      <td>29.86258</td>\n",
              "      <td>40201</td>\n",
              "      <td>28.238290</td>\n",
              "    </tr>\n",
              "    <tr>\n",
              "      <th>3</th>\n",
              "      <td>20225</td>\n",
              "      <td>29.23438</td>\n",
              "      <td>1735</td>\n",
              "      <td>28.90320</td>\n",
              "      <td>85950</td>\n",
              "      <td>27.805190</td>\n",
              "    </tr>\n",
              "    <tr>\n",
              "      <th>4</th>\n",
              "      <td>1046</td>\n",
              "      <td>29.19901</td>\n",
              "      <td>12673</td>\n",
              "      <td>28.20660</td>\n",
              "      <td>29689</td>\n",
              "      <td>27.673360</td>\n",
              "    </tr>\n",
              "    <tr>\n",
              "      <th>...</th>\n",
              "      <td>...</td>\n",
              "      <td>...</td>\n",
              "      <td>...</td>\n",
              "      <td>...</td>\n",
              "      <td>...</td>\n",
              "      <td>...</td>\n",
              "    </tr>\n",
              "    <tr>\n",
              "      <th>99995</th>\n",
              "      <td>75620</td>\n",
              "      <td>12.30349</td>\n",
              "      <td>14498</td>\n",
              "      <td>10.73097</td>\n",
              "      <td>75620</td>\n",
              "      <td>10.650560</td>\n",
              "    </tr>\n",
              "    <tr>\n",
              "      <th>99996</th>\n",
              "      <td>4472</td>\n",
              "      <td>12.26240</td>\n",
              "      <td>75620</td>\n",
              "      <td>10.67180</td>\n",
              "      <td>75784</td>\n",
              "      <td>10.441310</td>\n",
              "    </tr>\n",
              "    <tr>\n",
              "      <th>99997</th>\n",
              "      <td>75784</td>\n",
              "      <td>12.10168</td>\n",
              "      <td>4472</td>\n",
              "      <td>10.51139</td>\n",
              "      <td>4472</td>\n",
              "      <td>10.225510</td>\n",
              "    </tr>\n",
              "    <tr>\n",
              "      <th>99998</th>\n",
              "      <td>57763</td>\n",
              "      <td>10.99623</td>\n",
              "      <td>75784</td>\n",
              "      <td>10.49820</td>\n",
              "      <td>14498</td>\n",
              "      <td>9.612333</td>\n",
              "    </tr>\n",
              "    <tr>\n",
              "      <th>99999</th>\n",
              "      <td>79543</td>\n",
              "      <td>-9999.00000</td>\n",
              "      <td>79543</td>\n",
              "      <td>-9999.00000</td>\n",
              "      <td>79543</td>\n",
              "      <td>-9999.000000</td>\n",
              "    </tr>\n",
              "  </tbody>\n",
              "</table>\n",
              "<p>100000 rows × 6 columns</p>\n",
              "</div>"
            ],
            "text/plain": [
              "       index           u  index           g  index            z\n",
              "0      56693    32.78139  16115    31.60224  55524    29.383740\n",
              "1      21245    30.66039  21245    30.60700  93321    28.790550\n",
              "2      19525    29.32565  13023    29.86258  40201    28.238290\n",
              "3      20225    29.23438   1735    28.90320  85950    27.805190\n",
              "4       1046    29.19901  12673    28.20660  29689    27.673360\n",
              "...      ...         ...    ...         ...    ...          ...\n",
              "99995  75620    12.30349  14498    10.73097  75620    10.650560\n",
              "99996   4472    12.26240  75620    10.67180  75784    10.441310\n",
              "99997  75784    12.10168   4472    10.51139   4472    10.225510\n",
              "99998  57763    10.99623  75784    10.49820  14498     9.612333\n",
              "99999  79543 -9999.00000  79543 -9999.00000  79543 -9999.000000\n",
              "\n",
              "[100000 rows x 6 columns]"
            ]
          },
          "execution_count": 9,
          "metadata": {},
          "output_type": "execute_result"
        }
      ],
      "source": [
        "# Get the three features, sort them individually and reset their indices\n",
        "u_desc = stellar_df[[\"u\"]].sort_values(by=\"u\", ascending=False).reset_index()\n",
        "g_desc = stellar_df[[\"g\"]].sort_values(by=\"g\", ascending=False).reset_index()\n",
        "z_desc = stellar_df[[\"z\"]].sort_values(by=\"z\", ascending=False).reset_index()\n",
        "# Concatenate the three dataframes and output them\n",
        "pd.concat([u_desc, g_desc, z_desc], axis=1)"
      ]
    },
    {
      "cell_type": "markdown",
      "metadata": {
        "id": "8AV7Sm7tkNWg"
      },
      "source": [
        "> It appears the -9999 in these three features is undoubtedly an outlier since it appears only once in all three features and the nearest number to it is a positive number. In fact, based on the outpute above, I believe these features should all be positive.\n",
        "\n",
        "> There is not enough info present to fix the outlier. Likewise, it is the same row that has -9999 in all three features, as noted by the original index number. I'll remove it."
      ]
    },
    {
      "cell_type": "code",
      "execution_count": 10,
      "metadata": {
        "colab": {
          "base_uri": "https://localhost:8080/",
          "height": 424
        },
        "id": "XAuRDuqVkNWg",
        "outputId": "094def4d-3ae6-4ac5-bd4b-e6f08dca7af0"
      },
      "outputs": [
        {
          "data": {
            "text/html": [
              "<div>\n",
              "<style scoped>\n",
              "    .dataframe tbody tr th:only-of-type {\n",
              "        vertical-align: middle;\n",
              "    }\n",
              "\n",
              "    .dataframe tbody tr th {\n",
              "        vertical-align: top;\n",
              "    }\n",
              "\n",
              "    .dataframe thead th {\n",
              "        text-align: right;\n",
              "    }\n",
              "</style>\n",
              "<table border=\"1\" class=\"dataframe\">\n",
              "  <thead>\n",
              "    <tr style=\"text-align: right;\">\n",
              "      <th></th>\n",
              "      <th>obj_ID</th>\n",
              "      <th>alpha</th>\n",
              "      <th>delta</th>\n",
              "      <th>u</th>\n",
              "      <th>g</th>\n",
              "      <th>r</th>\n",
              "      <th>i</th>\n",
              "      <th>z</th>\n",
              "      <th>run_ID</th>\n",
              "      <th>cam_col</th>\n",
              "      <th>field_ID</th>\n",
              "      <th>spec_obj_ID</th>\n",
              "      <th>class</th>\n",
              "      <th>redshift</th>\n",
              "      <th>plate</th>\n",
              "      <th>MJD</th>\n",
              "      <th>fiber_ID</th>\n",
              "    </tr>\n",
              "  </thead>\n",
              "  <tbody>\n",
              "    <tr>\n",
              "      <th>0</th>\n",
              "      <td>1.237661e+18</td>\n",
              "      <td>135.689107</td>\n",
              "      <td>32.494632</td>\n",
              "      <td>23.87882</td>\n",
              "      <td>22.27530</td>\n",
              "      <td>20.39501</td>\n",
              "      <td>19.16573</td>\n",
              "      <td>18.79371</td>\n",
              "      <td>3606</td>\n",
              "      <td>2</td>\n",
              "      <td>79</td>\n",
              "      <td>6.543777e+18</td>\n",
              "      <td>GALAXY</td>\n",
              "      <td>0.634794</td>\n",
              "      <td>5812</td>\n",
              "      <td>56354</td>\n",
              "      <td>171</td>\n",
              "    </tr>\n",
              "    <tr>\n",
              "      <th>1</th>\n",
              "      <td>1.237665e+18</td>\n",
              "      <td>144.826101</td>\n",
              "      <td>31.274185</td>\n",
              "      <td>24.77759</td>\n",
              "      <td>22.83188</td>\n",
              "      <td>22.58444</td>\n",
              "      <td>21.16812</td>\n",
              "      <td>21.61427</td>\n",
              "      <td>4518</td>\n",
              "      <td>5</td>\n",
              "      <td>119</td>\n",
              "      <td>1.176014e+19</td>\n",
              "      <td>GALAXY</td>\n",
              "      <td>0.779136</td>\n",
              "      <td>10445</td>\n",
              "      <td>58158</td>\n",
              "      <td>427</td>\n",
              "    </tr>\n",
              "    <tr>\n",
              "      <th>2</th>\n",
              "      <td>1.237661e+18</td>\n",
              "      <td>142.188790</td>\n",
              "      <td>35.582444</td>\n",
              "      <td>25.26307</td>\n",
              "      <td>22.66389</td>\n",
              "      <td>20.60976</td>\n",
              "      <td>19.34857</td>\n",
              "      <td>18.94827</td>\n",
              "      <td>3606</td>\n",
              "      <td>2</td>\n",
              "      <td>120</td>\n",
              "      <td>5.152200e+18</td>\n",
              "      <td>GALAXY</td>\n",
              "      <td>0.644195</td>\n",
              "      <td>4576</td>\n",
              "      <td>55592</td>\n",
              "      <td>299</td>\n",
              "    </tr>\n",
              "    <tr>\n",
              "      <th>3</th>\n",
              "      <td>1.237663e+18</td>\n",
              "      <td>338.741038</td>\n",
              "      <td>-0.402828</td>\n",
              "      <td>22.13682</td>\n",
              "      <td>23.77656</td>\n",
              "      <td>21.61162</td>\n",
              "      <td>20.50454</td>\n",
              "      <td>19.25010</td>\n",
              "      <td>4192</td>\n",
              "      <td>3</td>\n",
              "      <td>214</td>\n",
              "      <td>1.030107e+19</td>\n",
              "      <td>GALAXY</td>\n",
              "      <td>0.932346</td>\n",
              "      <td>9149</td>\n",
              "      <td>58039</td>\n",
              "      <td>775</td>\n",
              "    </tr>\n",
              "    <tr>\n",
              "      <th>4</th>\n",
              "      <td>1.237680e+18</td>\n",
              "      <td>345.282593</td>\n",
              "      <td>21.183866</td>\n",
              "      <td>19.43718</td>\n",
              "      <td>17.58028</td>\n",
              "      <td>16.49747</td>\n",
              "      <td>15.97711</td>\n",
              "      <td>15.54461</td>\n",
              "      <td>8102</td>\n",
              "      <td>3</td>\n",
              "      <td>137</td>\n",
              "      <td>6.891865e+18</td>\n",
              "      <td>GALAXY</td>\n",
              "      <td>0.116123</td>\n",
              "      <td>6121</td>\n",
              "      <td>56187</td>\n",
              "      <td>842</td>\n",
              "    </tr>\n",
              "    <tr>\n",
              "      <th>...</th>\n",
              "      <td>...</td>\n",
              "      <td>...</td>\n",
              "      <td>...</td>\n",
              "      <td>...</td>\n",
              "      <td>...</td>\n",
              "      <td>...</td>\n",
              "      <td>...</td>\n",
              "      <td>...</td>\n",
              "      <td>...</td>\n",
              "      <td>...</td>\n",
              "      <td>...</td>\n",
              "      <td>...</td>\n",
              "      <td>...</td>\n",
              "      <td>...</td>\n",
              "      <td>...</td>\n",
              "      <td>...</td>\n",
              "      <td>...</td>\n",
              "    </tr>\n",
              "    <tr>\n",
              "      <th>99995</th>\n",
              "      <td>1.237679e+18</td>\n",
              "      <td>39.620709</td>\n",
              "      <td>-2.594074</td>\n",
              "      <td>22.16759</td>\n",
              "      <td>22.97586</td>\n",
              "      <td>21.90404</td>\n",
              "      <td>21.30548</td>\n",
              "      <td>20.73569</td>\n",
              "      <td>7778</td>\n",
              "      <td>2</td>\n",
              "      <td>581</td>\n",
              "      <td>1.060000e+19</td>\n",
              "      <td>GALAXY</td>\n",
              "      <td>0.000000</td>\n",
              "      <td>9374</td>\n",
              "      <td>57749</td>\n",
              "      <td>438</td>\n",
              "    </tr>\n",
              "    <tr>\n",
              "      <th>99996</th>\n",
              "      <td>1.237679e+18</td>\n",
              "      <td>29.493819</td>\n",
              "      <td>19.798874</td>\n",
              "      <td>22.69118</td>\n",
              "      <td>22.38628</td>\n",
              "      <td>20.45003</td>\n",
              "      <td>19.75759</td>\n",
              "      <td>19.41526</td>\n",
              "      <td>7917</td>\n",
              "      <td>1</td>\n",
              "      <td>289</td>\n",
              "      <td>8.586351e+18</td>\n",
              "      <td>GALAXY</td>\n",
              "      <td>0.404895</td>\n",
              "      <td>7626</td>\n",
              "      <td>56934</td>\n",
              "      <td>866</td>\n",
              "    </tr>\n",
              "    <tr>\n",
              "      <th>99997</th>\n",
              "      <td>1.237668e+18</td>\n",
              "      <td>224.587407</td>\n",
              "      <td>15.700707</td>\n",
              "      <td>21.16916</td>\n",
              "      <td>19.26997</td>\n",
              "      <td>18.20428</td>\n",
              "      <td>17.69034</td>\n",
              "      <td>17.35221</td>\n",
              "      <td>5314</td>\n",
              "      <td>4</td>\n",
              "      <td>308</td>\n",
              "      <td>3.112008e+18</td>\n",
              "      <td>GALAXY</td>\n",
              "      <td>0.143366</td>\n",
              "      <td>2764</td>\n",
              "      <td>54535</td>\n",
              "      <td>74</td>\n",
              "    </tr>\n",
              "    <tr>\n",
              "      <th>99998</th>\n",
              "      <td>1.237661e+18</td>\n",
              "      <td>212.268621</td>\n",
              "      <td>46.660365</td>\n",
              "      <td>25.35039</td>\n",
              "      <td>21.63757</td>\n",
              "      <td>19.91386</td>\n",
              "      <td>19.07254</td>\n",
              "      <td>18.62482</td>\n",
              "      <td>3650</td>\n",
              "      <td>4</td>\n",
              "      <td>131</td>\n",
              "      <td>7.601080e+18</td>\n",
              "      <td>GALAXY</td>\n",
              "      <td>0.455040</td>\n",
              "      <td>6751</td>\n",
              "      <td>56368</td>\n",
              "      <td>470</td>\n",
              "    </tr>\n",
              "    <tr>\n",
              "      <th>99999</th>\n",
              "      <td>1.237661e+18</td>\n",
              "      <td>196.896053</td>\n",
              "      <td>49.464643</td>\n",
              "      <td>22.62171</td>\n",
              "      <td>21.79745</td>\n",
              "      <td>20.60115</td>\n",
              "      <td>20.00959</td>\n",
              "      <td>19.28075</td>\n",
              "      <td>3650</td>\n",
              "      <td>4</td>\n",
              "      <td>60</td>\n",
              "      <td>8.343152e+18</td>\n",
              "      <td>GALAXY</td>\n",
              "      <td>0.542944</td>\n",
              "      <td>7410</td>\n",
              "      <td>57104</td>\n",
              "      <td>851</td>\n",
              "    </tr>\n",
              "  </tbody>\n",
              "</table>\n",
              "<p>99999 rows × 17 columns</p>\n",
              "</div>"
            ],
            "text/plain": [
              "             obj_ID       alpha      delta         u         g         r  \\\n",
              "0      1.237661e+18  135.689107  32.494632  23.87882  22.27530  20.39501   \n",
              "1      1.237665e+18  144.826101  31.274185  24.77759  22.83188  22.58444   \n",
              "2      1.237661e+18  142.188790  35.582444  25.26307  22.66389  20.60976   \n",
              "3      1.237663e+18  338.741038  -0.402828  22.13682  23.77656  21.61162   \n",
              "4      1.237680e+18  345.282593  21.183866  19.43718  17.58028  16.49747   \n",
              "...             ...         ...        ...       ...       ...       ...   \n",
              "99995  1.237679e+18   39.620709  -2.594074  22.16759  22.97586  21.90404   \n",
              "99996  1.237679e+18   29.493819  19.798874  22.69118  22.38628  20.45003   \n",
              "99997  1.237668e+18  224.587407  15.700707  21.16916  19.26997  18.20428   \n",
              "99998  1.237661e+18  212.268621  46.660365  25.35039  21.63757  19.91386   \n",
              "99999  1.237661e+18  196.896053  49.464643  22.62171  21.79745  20.60115   \n",
              "\n",
              "              i         z  run_ID  cam_col  field_ID   spec_obj_ID   class  \\\n",
              "0      19.16573  18.79371    3606        2        79  6.543777e+18  GALAXY   \n",
              "1      21.16812  21.61427    4518        5       119  1.176014e+19  GALAXY   \n",
              "2      19.34857  18.94827    3606        2       120  5.152200e+18  GALAXY   \n",
              "3      20.50454  19.25010    4192        3       214  1.030107e+19  GALAXY   \n",
              "4      15.97711  15.54461    8102        3       137  6.891865e+18  GALAXY   \n",
              "...         ...       ...     ...      ...       ...           ...     ...   \n",
              "99995  21.30548  20.73569    7778        2       581  1.060000e+19  GALAXY   \n",
              "99996  19.75759  19.41526    7917        1       289  8.586351e+18  GALAXY   \n",
              "99997  17.69034  17.35221    5314        4       308  3.112008e+18  GALAXY   \n",
              "99998  19.07254  18.62482    3650        4       131  7.601080e+18  GALAXY   \n",
              "99999  20.00959  19.28075    3650        4        60  8.343152e+18  GALAXY   \n",
              "\n",
              "       redshift  plate    MJD  fiber_ID  \n",
              "0      0.634794   5812  56354       171  \n",
              "1      0.779136  10445  58158       427  \n",
              "2      0.644195   4576  55592       299  \n",
              "3      0.932346   9149  58039       775  \n",
              "4      0.116123   6121  56187       842  \n",
              "...         ...    ...    ...       ...  \n",
              "99995  0.000000   9374  57749       438  \n",
              "99996  0.404895   7626  56934       866  \n",
              "99997  0.143366   2764  54535        74  \n",
              "99998  0.455040   6751  56368       470  \n",
              "99999  0.542944   7410  57104       851  \n",
              "\n",
              "[99999 rows x 17 columns]"
            ]
          },
          "execution_count": 10,
          "metadata": {},
          "output_type": "execute_result"
        }
      ],
      "source": [
        "# Drop the row with index 79543 since this is the row with three outliers.\n",
        "stellar_df.drop(79543, inplace=True)\n",
        "stellar_df"
      ]
    },
    {
      "cell_type": "markdown",
      "metadata": {
        "id": "0oA0HX0-kNWh"
      },
      "source": [
        "**Identify and address missing values:**"
      ]
    },
    {
      "cell_type": "code",
      "execution_count": 11,
      "metadata": {
        "colab": {
          "base_uri": "https://localhost:8080/"
        },
        "id": "UsuNJ2RvkNWh",
        "outputId": "e3429e04-d9d3-433b-d565-eb01d0bbca4a"
      },
      "outputs": [
        {
          "data": {
            "text/plain": [
              "obj_ID         0\n",
              "alpha          0\n",
              "delta          0\n",
              "u              0\n",
              "g              0\n",
              "r              0\n",
              "i              0\n",
              "z              0\n",
              "run_ID         0\n",
              "cam_col        0\n",
              "field_ID       0\n",
              "spec_obj_ID    0\n",
              "class          0\n",
              "redshift       0\n",
              "plate          0\n",
              "MJD            0\n",
              "fiber_ID       0\n",
              "dtype: int64"
            ]
          },
          "execution_count": 11,
          "metadata": {},
          "output_type": "execute_result"
        }
      ],
      "source": [
        "# Check for missing values\n",
        "stellar_df.isna().sum()"
      ]
    },
    {
      "cell_type": "markdown",
      "metadata": {
        "id": "15Z68LVskNWh"
      },
      "source": [
        "> There are no missing values."
      ]
    },
    {
      "cell_type": "markdown",
      "metadata": {
        "id": "2v4yqKtAkNWh"
      },
      "source": [
        "**Univariate visualizations:**"
      ]
    },
    {
      "cell_type": "code",
      "execution_count": 12,
      "metadata": {
        "colab": {
          "base_uri": "https://localhost:8080/",
          "height": 1000
        },
        "id": "xbQOTOTIkNWh",
        "outputId": "ab228686-04ed-4770-ded0-c92f3331c9be"
      },
      "outputs": [
        {
          "data": {
            "image/png": "[encoded data removed]",
            "text/plain": [
              "<Figure size 1200x1200 with 16 Axes>"
            ]
          },
          "metadata": {},
          "output_type": "display_data"
        }
      ],
      "source": [
        "# Create a figure with 16 subplots\n",
        "fig, axes = plt.subplots(nrows=4, ncols=4, figsize=(12, 12))\n",
        "# Get column names of the stellar_df DataFrame, except the class column\n",
        "num_columns = stellar_df.drop(columns=[\"class\"]).columns\n",
        "# Make into a 4x4 list for easier processing in the below for-loop. I used the following to help me do this:\n",
        "# https://stackoverflow.com/questions/27371064/converting-a-1d-list-into-a-2d-list-with-a-given-row-length-in-python\n",
        "num_columns = [num_columns[i:i+4] for i in range(0, len(num_columns), 4)]\n",
        "# Adjust the spacing of the subplots\n",
        "plt.subplots_adjust(hspace=0.5, wspace=0.5)\n",
        "# Add an overall title\n",
        "plt.suptitle(\"Feature Distributions\", y=0.93)\n",
        "# Generate subplot histograms for all features\n",
        "for row in range(4):\n",
        "    for column in range(4):\n",
        "        sns.histplot(data=stellar_df, x=num_columns[row][column], bins=\"auto\", ax=axes[row, column]).set_title(f\"{num_columns[row][column]}\")"
      ]
    },
    {
      "cell_type": "markdown",
      "metadata": {
        "id": "lvxIa_o4kNWh"
      },
      "source": [
        "A few things are worth noting:\n",
        "- `u`, `g`, `r`, `i`, and `z` all look similar in that they are not terribly skewed. However, all five are very much multimodal.\n",
        "- `field_ID` and `redshift` are certainly skewed right.\n",
        "- `obj_ID` has a distribution that is impossible to see or gauge. This is possibly because of its gargantuan numbers and the huge range between the lowest and smallest values. Since `obj_ID` is a composite of other values within the dataset I will most likely not even use it in the later machine learning preprocessing.\n",
        "- `cam_col` consists of six discrete numbers.\n",
        "- Some features, such as `alpha` and `z`, have three distinct sections (be it peaks or obvious distinctions within the histogram). I believe this might be because the `class` feature has three distinct values."
      ]
    },
    {
      "cell_type": "code",
      "execution_count": 13,
      "metadata": {
        "colab": {
          "base_uri": "https://localhost:8080/",
          "height": 472
        },
        "id": "12eKGPpVkNWh",
        "outputId": "d332302f-e0c6-4595-fd48-fe88c7140027"
      },
      "outputs": [
        {
          "data": {
            "image/png": "[encoded data removed]",
            "text/plain": [
              "<Figure size 640x480 with 1 Axes>"
            ]
          },
          "metadata": {},
          "output_type": "display_data"
        }
      ],
      "source": [
        "# Create a countplot to see the distribution of each class in the categorical \"class\" column\n",
        "sns.countplot(data=stellar_df, x=\"class\").set_title(\"Class frequency\");"
      ]
    },
    {
      "cell_type": "markdown",
      "metadata": {
        "id": "Y_5zatYxkNWi"
      },
      "source": [
        "> Galaxies, by far, are more representative of the samples than the other two. Class balancing may be needed."
      ]
    },
    {
      "cell_type": "markdown",
      "metadata": {
        "id": "OErRo_qdkNWi"
      },
      "source": [
        "> Before moving further with analysis, it's worth noting that `obj_ID`, `spec_obj_ID`, and `plate` are columns where the data are composites of other column data. For example, `obj_ID` is composed of `run_ID`, `camcol`, and other columns. Due to these two columns being composites of other currently present data and the fact that their being IDs won't add to the overall analysis, I will remove them and continue with the analysis."
      ]
    },
    {
      "cell_type": "code",
      "execution_count": 14,
      "metadata": {
        "id": "qOOm22BikNWi"
      },
      "outputs": [],
      "source": [
        "# Drop columns that had duplicate composite data\n",
        "stellar_df.drop(columns=[\"obj_ID\", \"spec_obj_ID\", \"plate\"], inplace=True)"
      ]
    },
    {
      "cell_type": "markdown",
      "metadata": {
        "id": "VcWID58XkNWi"
      },
      "source": [
        "**Multivariate Visuals**\n",
        "\n",
        "Using a heatmap, identify correlations between features:"
      ]
    },
    {
      "cell_type": "code",
      "execution_count": 15,
      "metadata": {
        "colab": {
          "base_uri": "https://localhost:8080/",
          "height": 724
        },
        "id": "nqQfRzy8kNWi",
        "outputId": "dd35f6ab-c171-4d4a-ba42-2829e81b977a"
      },
      "outputs": [
        {
          "name": "stderr",
          "output_type": "stream",
          "text": [
            "C:\\Users\\johna\\AppData\\Local\\Temp\\ipykernel_19356\\199766924.py:5: FutureWarning: The default value of numeric_only in DataFrame.corr is deprecated. In a future version, it will default to False. Select only valid columns or specify the value of numeric_only to silence this warning.\n",
            "  correlations = round(stellar_df.corr(), 3)\n"
          ]
        },
        {
          "data": {
            "image/png": "[encoded data removed]",
            "text/plain": [
              "<Figure size 1000x800 with 2 Axes>"
            ]
          },
          "metadata": {},
          "output_type": "display_data"
        }
      ],
      "source": [
        "# Define figure size\n",
        "plt.figure(figsize=(10, 8))\n",
        "# correlations = round(stellar_df.corr(numeric_only=True), 3)\n",
        "# Get the correlations\n",
        "correlations = round(stellar_df.corr(), 3)\n",
        "# Create a heatmap of the correlations with a red color scheme and annotations\n",
        "sns.heatmap(correlations, cmap='Reds', annot=True);"
      ]
    },
    {
      "cell_type": "markdown",
      "metadata": {
        "id": "p5RodHsukNWi"
      },
      "source": [
        "> All photometric filters (`u`, `g`, `r`, `i`, `z`) are positively correlated with one another, be it moderate to strong. Though I am not an expert, I believe this might be because the more light that is received the more of _each_ type of light is detected.\n",
        "\n",
        "> Likewise all photometric filters are positively correlated, to an extent, with `redshift`, and `MJD`. After looking through the documentation, I can't put a finger on why this is. A subject matter expert may be able to say why this is."
      ]
    },
    {
      "cell_type": "markdown",
      "metadata": {
        "id": "KUa4pd8bkNWi"
      },
      "source": [
        "Exploratory visuals with a focus on how the filter features (`u`, `g`, `r`, `i`, `z`)and `redshift` orrelate with the proposed target:   "
      ]
    },
    {
      "cell_type": "code",
      "execution_count": 16,
      "metadata": {
        "colab": {
          "base_uri": "https://localhost:8080/",
          "height": 424
        },
        "id": "LL5DNv07kNWi",
        "outputId": "351cd78e-769f-4af3-d397-68acd01b5f02"
      },
      "outputs": [
        {
          "data": {
            "text/html": [
              "<div>\n",
              "<style scoped>\n",
              "    .dataframe tbody tr th:only-of-type {\n",
              "        vertical-align: middle;\n",
              "    }\n",
              "\n",
              "    .dataframe tbody tr th {\n",
              "        vertical-align: top;\n",
              "    }\n",
              "\n",
              "    .dataframe thead th {\n",
              "        text-align: right;\n",
              "    }\n",
              "</style>\n",
              "<table border=\"1\" class=\"dataframe\">\n",
              "  <thead>\n",
              "    <tr style=\"text-align: right;\">\n",
              "      <th></th>\n",
              "      <th>u</th>\n",
              "      <th>g</th>\n",
              "      <th>r</th>\n",
              "      <th>i</th>\n",
              "      <th>z</th>\n",
              "      <th>redshift</th>\n",
              "      <th>class</th>\n",
              "    </tr>\n",
              "  </thead>\n",
              "  <tbody>\n",
              "    <tr>\n",
              "      <th>0</th>\n",
              "      <td>23.87882</td>\n",
              "      <td>22.27530</td>\n",
              "      <td>20.39501</td>\n",
              "      <td>19.16573</td>\n",
              "      <td>18.79371</td>\n",
              "      <td>0.634794</td>\n",
              "      <td>GALAXY</td>\n",
              "    </tr>\n",
              "    <tr>\n",
              "      <th>1</th>\n",
              "      <td>24.77759</td>\n",
              "      <td>22.83188</td>\n",
              "      <td>22.58444</td>\n",
              "      <td>21.16812</td>\n",
              "      <td>21.61427</td>\n",
              "      <td>0.779136</td>\n",
              "      <td>GALAXY</td>\n",
              "    </tr>\n",
              "    <tr>\n",
              "      <th>2</th>\n",
              "      <td>25.26307</td>\n",
              "      <td>22.66389</td>\n",
              "      <td>20.60976</td>\n",
              "      <td>19.34857</td>\n",
              "      <td>18.94827</td>\n",
              "      <td>0.644195</td>\n",
              "      <td>GALAXY</td>\n",
              "    </tr>\n",
              "    <tr>\n",
              "      <th>3</th>\n",
              "      <td>22.13682</td>\n",
              "      <td>23.77656</td>\n",
              "      <td>21.61162</td>\n",
              "      <td>20.50454</td>\n",
              "      <td>19.25010</td>\n",
              "      <td>0.932346</td>\n",
              "      <td>GALAXY</td>\n",
              "    </tr>\n",
              "    <tr>\n",
              "      <th>4</th>\n",
              "      <td>19.43718</td>\n",
              "      <td>17.58028</td>\n",
              "      <td>16.49747</td>\n",
              "      <td>15.97711</td>\n",
              "      <td>15.54461</td>\n",
              "      <td>0.116123</td>\n",
              "      <td>GALAXY</td>\n",
              "    </tr>\n",
              "    <tr>\n",
              "      <th>...</th>\n",
              "      <td>...</td>\n",
              "      <td>...</td>\n",
              "      <td>...</td>\n",
              "      <td>...</td>\n",
              "      <td>...</td>\n",
              "      <td>...</td>\n",
              "      <td>...</td>\n",
              "    </tr>\n",
              "    <tr>\n",
              "      <th>99995</th>\n",
              "      <td>22.16759</td>\n",
              "      <td>22.97586</td>\n",
              "      <td>21.90404</td>\n",
              "      <td>21.30548</td>\n",
              "      <td>20.73569</td>\n",
              "      <td>0.000000</td>\n",
              "      <td>GALAXY</td>\n",
              "    </tr>\n",
              "    <tr>\n",
              "      <th>99996</th>\n",
              "      <td>22.69118</td>\n",
              "      <td>22.38628</td>\n",
              "      <td>20.45003</td>\n",
              "      <td>19.75759</td>\n",
              "      <td>19.41526</td>\n",
              "      <td>0.404895</td>\n",
              "      <td>GALAXY</td>\n",
              "    </tr>\n",
              "    <tr>\n",
              "      <th>99997</th>\n",
              "      <td>21.16916</td>\n",
              "      <td>19.26997</td>\n",
              "      <td>18.20428</td>\n",
              "      <td>17.69034</td>\n",
              "      <td>17.35221</td>\n",
              "      <td>0.143366</td>\n",
              "      <td>GALAXY</td>\n",
              "    </tr>\n",
              "    <tr>\n",
              "      <th>99998</th>\n",
              "      <td>25.35039</td>\n",
              "      <td>21.63757</td>\n",
              "      <td>19.91386</td>\n",
              "      <td>19.07254</td>\n",
              "      <td>18.62482</td>\n",
              "      <td>0.455040</td>\n",
              "      <td>GALAXY</td>\n",
              "    </tr>\n",
              "    <tr>\n",
              "      <th>99999</th>\n",
              "      <td>22.62171</td>\n",
              "      <td>21.79745</td>\n",
              "      <td>20.60115</td>\n",
              "      <td>20.00959</td>\n",
              "      <td>19.28075</td>\n",
              "      <td>0.542944</td>\n",
              "      <td>GALAXY</td>\n",
              "    </tr>\n",
              "  </tbody>\n",
              "</table>\n",
              "<p>99999 rows × 7 columns</p>\n",
              "</div>"
            ],
            "text/plain": [
              "              u         g         r         i         z  redshift   class\n",
              "0      23.87882  22.27530  20.39501  19.16573  18.79371  0.634794  GALAXY\n",
              "1      24.77759  22.83188  22.58444  21.16812  21.61427  0.779136  GALAXY\n",
              "2      25.26307  22.66389  20.60976  19.34857  18.94827  0.644195  GALAXY\n",
              "3      22.13682  23.77656  21.61162  20.50454  19.25010  0.932346  GALAXY\n",
              "4      19.43718  17.58028  16.49747  15.97711  15.54461  0.116123  GALAXY\n",
              "...         ...       ...       ...       ...       ...       ...     ...\n",
              "99995  22.16759  22.97586  21.90404  21.30548  20.73569  0.000000  GALAXY\n",
              "99996  22.69118  22.38628  20.45003  19.75759  19.41526  0.404895  GALAXY\n",
              "99997  21.16916  19.26997  18.20428  17.69034  17.35221  0.143366  GALAXY\n",
              "99998  25.35039  21.63757  19.91386  19.07254  18.62482  0.455040  GALAXY\n",
              "99999  22.62171  21.79745  20.60115  20.00959  19.28075  0.542944  GALAXY\n",
              "\n",
              "[99999 rows x 7 columns]"
            ]
          },
          "execution_count": 16,
          "metadata": {},
          "output_type": "execute_result"
        }
      ],
      "source": [
        "# Create a dataframe with only the filters, redshift, and class for easy analysis\n",
        "filters_df = stellar_df[[\"u\", \"g\", \"r\", \"i\", \"z\", \"redshift\", \"class\"]]\n",
        "filters_df"
      ]
    },
    {
      "cell_type": "code",
      "execution_count": 17,
      "metadata": {
        "colab": {
          "base_uri": "https://localhost:8080/",
          "height": 641
        },
        "id": "taQsRWFtkNWj",
        "outputId": "44d88779-d6ab-4988-eb2e-544c369b25dc"
      },
      "outputs": [
        {
          "data": {
            "image/png": "[encoded data removed]",
            "text/plain": [
              "<Figure size 1200x700 with 6 Axes>"
            ]
          },
          "metadata": {},
          "output_type": "display_data"
        }
      ],
      "source": [
        "# Create a figure with subplots, specifically of two rows and three columns\n",
        "fig, axes = plt.subplots(nrows=2, ncols=3, figsize=(12, 7))\n",
        "# Unravel the array of plots [2, 3] into [1, 5]\n",
        "axes = axes.ravel()\n",
        "# Loop through each coloumn of the filters dataframe, except the last which will be used below \n",
        "for i, column in enumerate(filters_df.columns[:-1]):\n",
        "    # Since redshift is skewed, plot the median of the redshift when its the current column\n",
        "    if column == \"redshift\":\n",
        "        sns.barplot(data=filters_df, x=\"class\", y=column, ax=axes[i], estimator=\"median\").set_title(\"redshift median\")\n",
        "    # Since all the others are not skewed, take the mean of each of them\n",
        "    else:\n",
        "        sns.barplot(data=filters_df, x=\"class\", y=column, ax=axes[i]).set_title(f\"{column} filter mean\")\n",
        "# Adjust the spacing of the horizontal and vertical spaceing\n",
        "plt.subplots_adjust(hspace=0.4, wspace=0.3)"
      ]
    },
    {
      "cell_type": "markdown",
      "metadata": {
        "id": "nP9DZh8LkNWj"
      },
      "source": [
        "> The five filters show subtle, though discernible differences across the target classes. The `redshift` feature has a clear difference across classes. I'll analyze two of the six visuals below."
      ]
    },
    {
      "cell_type": "markdown",
      "metadata": {
        "id": "gDFLpMj7kNWj"
      },
      "source": [
        "### **Explanatory Visuals**"
      ]
    },
    {
      "cell_type": "code",
      "execution_count": 18,
      "metadata": {
        "colab": {
          "base_uri": "https://localhost:8080/",
          "height": 489
        },
        "id": "MDjOS7silOJT",
        "outputId": "3712c2fc-f824-4273-8dbe-92a1ec5367ad"
      },
      "outputs": [
        {
          "data": {
            "text/plain": [
              "Text(0, 0.5, 'Infrared Light Level')"
            ]
          },
          "execution_count": 18,
          "metadata": {},
          "output_type": "execute_result"
        },
        {
          "data": {
            "image/png": "[encoded data removed]",
            "text/plain": [
              "<Figure size 640x480 with 1 Axes>"
            ]
          },
          "metadata": {},
          "output_type": "display_data"
        }
      ],
      "source": [
        "# Plot the level of infrared light detected on the infrared filter\n",
        "sns.barplot(data=filters_df, x=\"class\", y=\"z\").set_title(f\"Infrared light from each space object\");\n",
        "# Give it an xlabel\n",
        "plt.xlabel(\"Space Objects\")\n",
        "# Change the names of the x ticks\n",
        "plt.xticks(ticks=[0, 1, 2], labels=[\"Galaxies\", \"Quasars\", \"Stars\"])\n",
        "# Give it a y label\n",
        "plt.ylabel(\"Infrared Light Level\")"
      ]
    },
    {
      "cell_type": "markdown",
      "metadata": {
        "id": "VDtO6dlWnSO-"
      },
      "source": [
        "According to the plot above, quasars, on average, emit more infrared light than galaxies and stars. On average, stars emit the least amount of infrared light though galaxies aren't far behind.\n",
        "\n",
        "So, if a sample has higher levels of infrared light than others it _might_ be a quasar.\n",
        "\n",
        "> _**Note:** I looked through the SDSS website to figure out the units of the Infrared light as given in this dataset but I couldn't find one that made sense. All that's needed to know here is that the higher the number the more infrared light is present._"
      ]
    },
    {
      "cell_type": "code",
      "execution_count": 19,
      "metadata": {
        "colab": {
          "base_uri": "https://localhost:8080/",
          "height": 472
        },
        "id": "98J1nPDArh3M",
        "outputId": "5533f761-151c-42c1-c8ca-ac43834ecfcc"
      },
      "outputs": [
        {
          "data": {
            "image/png": "[encoded data removed]",
            "text/plain": [
              "<Figure size 640x480 with 1 Axes>"
            ]
          },
          "metadata": {},
          "output_type": "display_data"
        }
      ],
      "source": [
        "sns.barplot(data=filters_df, x=\"class\", y=\"redshift\", estimator=\"median\").set_title(f\"Red shift per space object\")\n",
        "# Give it an xlabel\n",
        "plt.xlabel(\"Space Objects\")\n",
        "# Change the names of the x ticks\n",
        "plt.xticks(ticks=[0, 1, 2], labels=[\"Galaxies\", \"Quasars\", \"Stars\"])\n",
        "# Give it a ylabel\n",
        "plt.ylabel(\"Red shift\")\n",
        "# Add a necessary note\n",
        "plt.text(1.75, 1.5, \"Note: Simply put, an object\\nwith a high red shift implies\\nit's swiftly moving away from\\nus and is pretty far away.\", fontsize=\"xx-small\");"
      ]
    },
    {
      "cell_type": "markdown",
      "metadata": {
        "id": "cggiuyLusJQ0"
      },
      "source": [
        "Analyzing the plot above, quasars have the highest red shift, meaning the distance between us and them is growing larger and faster than the distance between us and stars and galaxies. Additionally, this means they're the furthest away from us. Stars within this dataset appear to remain stationary with respect to us.\n",
        "\n",
        "So, undoubtedly, if a sample has a high red shift it most likely is a quasar.\n",
        "\n",
        "> _**NOTE:** Red shift has no units as it is a ratio._"
      ]
    },
    {
      "attachments": {},
      "cell_type": "markdown",
      "metadata": {},
      "source": [
        "## **Predictive Analysis**"
      ]
    },
    {
      "attachments": {},
      "cell_type": "markdown",
      "metadata": {},
      "source": [
        "### **Preprocessing** \n",
        "\n",
        "For the predictive analysis portion, I'll choose four of the best classifiers that I know of: Random Forest Classifier, LGBM Classifier, XGBoost Classifier, and Gradient Boosting Classifier. Since these are tree-based, they don't require scaling. Additionally, there is no need to use any One-Hot Encoder or an Ordinal Encoder since none of the features are categorical in nature."
      ]
    },
    {
      "cell_type": "code",
      "execution_count": 116,
      "metadata": {},
      "outputs": [],
      "source": [
        "# Create the feature matrix\n",
        "X = stellar_df.drop(columns=[\"class\"])\n",
        "# Create the target vector\n",
        "y = stellar_df[\"class\"]"
      ]
    },
    {
      "cell_type": "code",
      "execution_count": 117,
      "metadata": {},
      "outputs": [],
      "source": [
        "# Create a train-test split\n",
        "X_train, X_test, y_train, y_test = train_test_split(X, y, random_state=42, stratify=y)"
      ]
    },
    {
      "cell_type": "code",
      "execution_count": 118,
      "metadata": {},
      "outputs": [],
      "source": [
        "# Create the dataframe to hold all the metrics. I put this in\n",
        "# a separate cell since it'll be easier to reset in case something\n",
        "# gets ruined.\n",
        "metrics_df = pd.DataFrame()"
      ]
    },
    {
      "attachments": {},
      "cell_type": "markdown",
      "metadata": {},
      "source": [
        "### **Evaluation**"
      ]
    },
    {
      "attachments": {},
      "cell_type": "markdown",
      "metadata": {},
      "source": [
        "**_Random Forest Classifier Default_**"
      ]
    },
    {
      "cell_type": "code",
      "execution_count": 23,
      "metadata": {},
      "outputs": [
        {
          "data": {
            "text/plain": [
              "RandomForestClassifier(n_jobs=-1, random_state=42)"
            ]
          },
          "execution_count": 23,
          "metadata": {},
          "output_type": "execute_result"
        }
      ],
      "source": [
        "# Create a default RandomForestClassifier\n",
        "rfc_default = RandomForestClassifier(random_state=42, n_jobs=-1)\n",
        "# Fit it on the training data\n",
        "rfc_default.fit(X_train, y_train)"
      ]
    },
    {
      "cell_type": "code",
      "execution_count": 119,
      "metadata": {},
      "outputs": [
        {
          "data": {
            "text/html": [
              "<div>\n",
              "<style scoped>\n",
              "    .dataframe tbody tr th:only-of-type {\n",
              "        vertical-align: middle;\n",
              "    }\n",
              "\n",
              "    .dataframe tbody tr th {\n",
              "        vertical-align: top;\n",
              "    }\n",
              "\n",
              "    .dataframe thead th {\n",
              "        text-align: right;\n",
              "    }\n",
              "</style>\n",
              "<table border=\"1\" class=\"dataframe\">\n",
              "  <thead>\n",
              "    <tr style=\"text-align: right;\">\n",
              "      <th></th>\n",
              "      <th>TRAIN ACCURACY</th>\n",
              "      <th>TRAIN PRECISION</th>\n",
              "      <th>TRAIN RECALL</th>\n",
              "      <th>TEST ACCURACY</th>\n",
              "      <th>TEST PRECISION</th>\n",
              "      <th>TEST RECALL</th>\n",
              "    </tr>\n",
              "  </thead>\n",
              "  <tbody>\n",
              "    <tr>\n",
              "      <th>Rand. Forest Default</th>\n",
              "      <td>1.000</td>\n",
              "      <td>G: 1.000, Q: 1.000, S: 1.000</td>\n",
              "      <td>G: 1.000, Q: 1.000, S: 1.000</td>\n",
              "      <td>0.979</td>\n",
              "      <td>G: 0.978, Q: 0.968, S: 0.990</td>\n",
              "      <td>G: 0.987, Q: 0.930, S: 1.000</td>\n",
              "    </tr>\n",
              "  </tbody>\n",
              "</table>\n",
              "</div>"
            ],
            "text/plain": [
              "                     TRAIN ACCURACY               TRAIN PRECISION  \\\n",
              "Rand. Forest Default          1.000  G: 1.000, Q: 1.000, S: 1.000   \n",
              "\n",
              "                                      TRAIN RECALL TEST ACCURACY  \\\n",
              "Rand. Forest Default  G: 1.000, Q: 1.000, S: 1.000         0.979   \n",
              "\n",
              "                                    TEST PRECISION  \\\n",
              "Rand. Forest Default  G: 0.978, Q: 0.968, S: 0.990   \n",
              "\n",
              "                                       TEST RECALL  \n",
              "Rand. Forest Default  G: 0.987, Q: 0.930, S: 1.000  "
            ]
          },
          "execution_count": 119,
          "metadata": {},
          "output_type": "execute_result"
        }
      ],
      "source": [
        "# Get the current model metrics\n",
        "current_metrics =  metrics(y_train, \n",
        "                           rfc_default.predict(X_train), \n",
        "                           y_test, \n",
        "                           rfc_default.predict(X_test), \n",
        "                           \"Rand. Forest Default\")\n",
        "# Add the current model metrics to the metrics df\n",
        "metrics_df = pd.concat([metrics_df, current_metrics])\n",
        "metrics_df"
      ]
    },
    {
      "attachments": {},
      "cell_type": "markdown",
      "metadata": {},
      "source": [
        "**_Random Forest Classifier Tuned_**"
      ]
    },
    {
      "cell_type": "code",
      "execution_count": 26,
      "metadata": {},
      "outputs": [
        {
          "data": {
            "text/plain": [
              "GridSearchCV(estimator=RandomForestClassifier(n_jobs=-1, random_state=42),\n",
              "             n_jobs=-1,\n",
              "             param_grid={'max_depth': [None, 1, 10, 15, 20, 30],\n",
              "                         'n_estimators': [50, 75, 100, 125, 150]})"
            ]
          },
          "execution_count": 26,
          "metadata": {},
          "output_type": "execute_result"
        }
      ],
      "source": [
        "# Create a simple param_grid to tune some of the hyperparameters\n",
        "param_grid = {\n",
        "    \"n_estimators\": [50, 75, 100, 125, 150],\n",
        "    \"max_depth\": [None, 1, 10, 15, 20, 30]\n",
        "}\n",
        "\n",
        "# Instantiate the GridSearch\n",
        "rfc_grid = GridSearchCV(RandomForestClassifier(random_state=42, n_jobs=-1), param_grid, n_jobs=-1)\n",
        "\n",
        "# Fit the GridSearch and see which is best\n",
        "rfc_grid.fit(X_train, y_train)"
      ]
    },
    {
      "cell_type": "code",
      "execution_count": 120,
      "metadata": {},
      "outputs": [
        {
          "data": {
            "text/html": [
              "<div>\n",
              "<style scoped>\n",
              "    .dataframe tbody tr th:only-of-type {\n",
              "        vertical-align: middle;\n",
              "    }\n",
              "\n",
              "    .dataframe tbody tr th {\n",
              "        vertical-align: top;\n",
              "    }\n",
              "\n",
              "    .dataframe thead th {\n",
              "        text-align: right;\n",
              "    }\n",
              "</style>\n",
              "<table border=\"1\" class=\"dataframe\">\n",
              "  <thead>\n",
              "    <tr style=\"text-align: right;\">\n",
              "      <th></th>\n",
              "      <th>TRAIN ACCURACY</th>\n",
              "      <th>TRAIN PRECISION</th>\n",
              "      <th>TRAIN RECALL</th>\n",
              "      <th>TEST ACCURACY</th>\n",
              "      <th>TEST PRECISION</th>\n",
              "      <th>TEST RECALL</th>\n",
              "    </tr>\n",
              "  </thead>\n",
              "  <tbody>\n",
              "    <tr>\n",
              "      <th>Rand. Forest Default</th>\n",
              "      <td>1.000</td>\n",
              "      <td>G: 1.000, Q: 1.000, S: 1.000</td>\n",
              "      <td>G: 1.000, Q: 1.000, S: 1.000</td>\n",
              "      <td>0.979</td>\n",
              "      <td>G: 0.978, Q: 0.968, S: 0.990</td>\n",
              "      <td>G: 0.987, Q: 0.930, S: 1.000</td>\n",
              "    </tr>\n",
              "    <tr>\n",
              "      <th>Rand. Forest Tuned</th>\n",
              "      <td>0.992</td>\n",
              "      <td>G: 0.989, Q: 0.993, S: 0.999</td>\n",
              "      <td>G: 0.998, Q: 0.966, S: 1.000</td>\n",
              "      <td>0.978</td>\n",
              "      <td>G: 0.977, Q: 0.967, S: 0.990</td>\n",
              "      <td>G: 0.986, Q: 0.928, S: 1.000</td>\n",
              "    </tr>\n",
              "  </tbody>\n",
              "</table>\n",
              "</div>"
            ],
            "text/plain": [
              "                     TRAIN ACCURACY               TRAIN PRECISION  \\\n",
              "Rand. Forest Default          1.000  G: 1.000, Q: 1.000, S: 1.000   \n",
              "Rand. Forest Tuned            0.992  G: 0.989, Q: 0.993, S: 0.999   \n",
              "\n",
              "                                      TRAIN RECALL TEST ACCURACY  \\\n",
              "Rand. Forest Default  G: 1.000, Q: 1.000, S: 1.000         0.979   \n",
              "Rand. Forest Tuned    G: 0.998, Q: 0.966, S: 1.000         0.978   \n",
              "\n",
              "                                    TEST PRECISION  \\\n",
              "Rand. Forest Default  G: 0.978, Q: 0.968, S: 0.990   \n",
              "Rand. Forest Tuned    G: 0.977, Q: 0.967, S: 0.990   \n",
              "\n",
              "                                       TEST RECALL  \n",
              "Rand. Forest Default  G: 0.987, Q: 0.930, S: 1.000  \n",
              "Rand. Forest Tuned    G: 0.986, Q: 0.928, S: 1.000  "
            ]
          },
          "execution_count": 120,
          "metadata": {},
          "output_type": "execute_result"
        }
      ],
      "source": [
        "# Get the best estimator\n",
        "rfc_tuned = rfc_grid.best_estimator_\n",
        "# Get the current model metrics\n",
        "current_metrics =  metrics(y_train, \n",
        "                           rfc_tuned.predict(X_train), \n",
        "                           y_test, \n",
        "                           rfc_tuned.predict(X_test), \n",
        "                           \"Rand. Forest Tuned\")\n",
        "# Add the current model metrics to the metrics df\n",
        "metrics_df = pd.concat([metrics_df, current_metrics])\n",
        "metrics_df"
      ]
    },
    {
      "attachments": {},
      "cell_type": "markdown",
      "metadata": {},
      "source": [
        "**_Gradient Boosting Classifier Default_**"
      ]
    },
    {
      "cell_type": "code",
      "execution_count": 30,
      "metadata": {},
      "outputs": [
        {
          "data": {
            "text/plain": [
              "GradientBoostingClassifier(random_state=42)"
            ]
          },
          "execution_count": 30,
          "metadata": {},
          "output_type": "execute_result"
        }
      ],
      "source": [
        "# Create default Gradient Boosting Classifier\n",
        "gbc_default = GradientBoostingClassifier(random_state=42)\n",
        "# Fit to the training data\n",
        "gbc_default.fit(X_train, y_train)"
      ]
    },
    {
      "cell_type": "code",
      "execution_count": 121,
      "metadata": {},
      "outputs": [
        {
          "data": {
            "text/html": [
              "<div>\n",
              "<style scoped>\n",
              "    .dataframe tbody tr th:only-of-type {\n",
              "        vertical-align: middle;\n",
              "    }\n",
              "\n",
              "    .dataframe tbody tr th {\n",
              "        vertical-align: top;\n",
              "    }\n",
              "\n",
              "    .dataframe thead th {\n",
              "        text-align: right;\n",
              "    }\n",
              "</style>\n",
              "<table border=\"1\" class=\"dataframe\">\n",
              "  <thead>\n",
              "    <tr style=\"text-align: right;\">\n",
              "      <th></th>\n",
              "      <th>TRAIN ACCURACY</th>\n",
              "      <th>TRAIN PRECISION</th>\n",
              "      <th>TRAIN RECALL</th>\n",
              "      <th>TEST ACCURACY</th>\n",
              "      <th>TEST PRECISION</th>\n",
              "      <th>TEST RECALL</th>\n",
              "    </tr>\n",
              "  </thead>\n",
              "  <tbody>\n",
              "    <tr>\n",
              "      <th>Rand. Forest Default</th>\n",
              "      <td>1.000</td>\n",
              "      <td>G: 1.000, Q: 1.000, S: 1.000</td>\n",
              "      <td>G: 1.000, Q: 1.000, S: 1.000</td>\n",
              "      <td>0.979</td>\n",
              "      <td>G: 0.978, Q: 0.968, S: 0.990</td>\n",
              "      <td>G: 0.987, Q: 0.930, S: 1.000</td>\n",
              "    </tr>\n",
              "    <tr>\n",
              "      <th>Rand. Forest Tuned</th>\n",
              "      <td>0.992</td>\n",
              "      <td>G: 0.989, Q: 0.993, S: 0.999</td>\n",
              "      <td>G: 0.998, Q: 0.966, S: 1.000</td>\n",
              "      <td>0.978</td>\n",
              "      <td>G: 0.977, Q: 0.967, S: 0.990</td>\n",
              "      <td>G: 0.986, Q: 0.928, S: 1.000</td>\n",
              "    </tr>\n",
              "    <tr>\n",
              "      <th>Grad. Boosting Default</th>\n",
              "      <td>0.978</td>\n",
              "      <td>G: 0.975, Q: 0.965, S: 0.997</td>\n",
              "      <td>G: 0.988, Q: 0.921, S: 0.999</td>\n",
              "      <td>0.976</td>\n",
              "      <td>G: 0.973, Q: 0.962, S: 0.996</td>\n",
              "      <td>G: 0.987, Q: 0.917, S: 0.999</td>\n",
              "    </tr>\n",
              "  </tbody>\n",
              "</table>\n",
              "</div>"
            ],
            "text/plain": [
              "                       TRAIN ACCURACY               TRAIN PRECISION  \\\n",
              "Rand. Forest Default            1.000  G: 1.000, Q: 1.000, S: 1.000   \n",
              "Rand. Forest Tuned              0.992  G: 0.989, Q: 0.993, S: 0.999   \n",
              "Grad. Boosting Default          0.978  G: 0.975, Q: 0.965, S: 0.997   \n",
              "\n",
              "                                        TRAIN RECALL TEST ACCURACY  \\\n",
              "Rand. Forest Default    G: 1.000, Q: 1.000, S: 1.000         0.979   \n",
              "Rand. Forest Tuned      G: 0.998, Q: 0.966, S: 1.000         0.978   \n",
              "Grad. Boosting Default  G: 0.988, Q: 0.921, S: 0.999         0.976   \n",
              "\n",
              "                                      TEST PRECISION  \\\n",
              "Rand. Forest Default    G: 0.978, Q: 0.968, S: 0.990   \n",
              "Rand. Forest Tuned      G: 0.977, Q: 0.967, S: 0.990   \n",
              "Grad. Boosting Default  G: 0.973, Q: 0.962, S: 0.996   \n",
              "\n",
              "                                         TEST RECALL  \n",
              "Rand. Forest Default    G: 0.987, Q: 0.930, S: 1.000  \n",
              "Rand. Forest Tuned      G: 0.986, Q: 0.928, S: 1.000  \n",
              "Grad. Boosting Default  G: 0.987, Q: 0.917, S: 0.999  "
            ]
          },
          "execution_count": 121,
          "metadata": {},
          "output_type": "execute_result"
        }
      ],
      "source": [
        "# Get the current model metrics\n",
        "current_metrics =  metrics(y_train, \n",
        "                           gbc_default.predict(X_train), \n",
        "                           y_test, \n",
        "                           gbc_default.predict(X_test), \n",
        "                           \"Grad. Boosting Default\")\n",
        "# Add the current model metrics to the metrics df\n",
        "metrics_df = pd.concat([metrics_df, current_metrics])\n",
        "metrics_df"
      ]
    },
    {
      "attachments": {},
      "cell_type": "markdown",
      "metadata": {},
      "source": [
        "**_Gradient Boosting Classifier Tuned_**"
      ]
    },
    {
      "cell_type": "code",
      "execution_count": 48,
      "metadata": {},
      "outputs": [
        {
          "data": {
            "text/plain": [
              "GridSearchCV(estimator=GradientBoostingClassifier(random_state=42), n_jobs=-1,\n",
              "             param_grid={'max_depth': [1, 2, 3, 4, 5],\n",
              "                         'n_estimators': [50, 100, 150, 200, 250]})"
            ]
          },
          "execution_count": 48,
          "metadata": {},
          "output_type": "execute_result"
        }
      ],
      "source": [
        "# Create a simple param_grid to tune some of the hyperparameters\n",
        "param_grid = {\n",
        "    \"n_estimators\": [50, 100, 150, 200, 250],\n",
        "    \"max_depth\": [1, 2, 3, 4, 5]\n",
        "}\n",
        "\n",
        "# Instantiate the GridSearch\n",
        "gbc_grid = GridSearchCV(GradientBoostingClassifier(random_state=42), param_grid, n_jobs=-1)\n",
        "\n",
        "# Fit the GridSearch and see which is best\n",
        "gbc_grid.fit(X_train, y_train)"
      ]
    },
    {
      "cell_type": "code",
      "execution_count": 122,
      "metadata": {},
      "outputs": [
        {
          "data": {
            "text/html": [
              "<div>\n",
              "<style scoped>\n",
              "    .dataframe tbody tr th:only-of-type {\n",
              "        vertical-align: middle;\n",
              "    }\n",
              "\n",
              "    .dataframe tbody tr th {\n",
              "        vertical-align: top;\n",
              "    }\n",
              "\n",
              "    .dataframe thead th {\n",
              "        text-align: right;\n",
              "    }\n",
              "</style>\n",
              "<table border=\"1\" class=\"dataframe\">\n",
              "  <thead>\n",
              "    <tr style=\"text-align: right;\">\n",
              "      <th></th>\n",
              "      <th>TRAIN ACCURACY</th>\n",
              "      <th>TRAIN PRECISION</th>\n",
              "      <th>TRAIN RECALL</th>\n",
              "      <th>TEST ACCURACY</th>\n",
              "      <th>TEST PRECISION</th>\n",
              "      <th>TEST RECALL</th>\n",
              "    </tr>\n",
              "  </thead>\n",
              "  <tbody>\n",
              "    <tr>\n",
              "      <th>Rand. Forest Default</th>\n",
              "      <td>1.000</td>\n",
              "      <td>G: 1.000, Q: 1.000, S: 1.000</td>\n",
              "      <td>G: 1.000, Q: 1.000, S: 1.000</td>\n",
              "      <td>0.979</td>\n",
              "      <td>G: 0.978, Q: 0.968, S: 0.990</td>\n",
              "      <td>G: 0.987, Q: 0.930, S: 1.000</td>\n",
              "    </tr>\n",
              "    <tr>\n",
              "      <th>Rand. Forest Tuned</th>\n",
              "      <td>0.992</td>\n",
              "      <td>G: 0.989, Q: 0.993, S: 0.999</td>\n",
              "      <td>G: 0.998, Q: 0.966, S: 1.000</td>\n",
              "      <td>0.978</td>\n",
              "      <td>G: 0.977, Q: 0.967, S: 0.990</td>\n",
              "      <td>G: 0.986, Q: 0.928, S: 1.000</td>\n",
              "    </tr>\n",
              "    <tr>\n",
              "      <th>Grad. Boosting Default</th>\n",
              "      <td>0.978</td>\n",
              "      <td>G: 0.975, Q: 0.965, S: 0.997</td>\n",
              "      <td>G: 0.988, Q: 0.921, S: 0.999</td>\n",
              "      <td>0.976</td>\n",
              "      <td>G: 0.973, Q: 0.962, S: 0.996</td>\n",
              "      <td>G: 0.987, Q: 0.917, S: 0.999</td>\n",
              "    </tr>\n",
              "    <tr>\n",
              "      <th>Grad. Boosting Tuned</th>\n",
              "      <td>0.983</td>\n",
              "      <td>G: 0.982, Q: 0.971, S: 0.998</td>\n",
              "      <td>G: 0.990, Q: 0.942, S: 1.000</td>\n",
              "      <td>0.977</td>\n",
              "      <td>G: 0.976, Q: 0.959, S: 0.996</td>\n",
              "      <td>G: 0.986, Q: 0.926, S: 0.999</td>\n",
              "    </tr>\n",
              "  </tbody>\n",
              "</table>\n",
              "</div>"
            ],
            "text/plain": [
              "                       TRAIN ACCURACY               TRAIN PRECISION  \\\n",
              "Rand. Forest Default            1.000  G: 1.000, Q: 1.000, S: 1.000   \n",
              "Rand. Forest Tuned              0.992  G: 0.989, Q: 0.993, S: 0.999   \n",
              "Grad. Boosting Default          0.978  G: 0.975, Q: 0.965, S: 0.997   \n",
              "Grad. Boosting Tuned            0.983  G: 0.982, Q: 0.971, S: 0.998   \n",
              "\n",
              "                                        TRAIN RECALL TEST ACCURACY  \\\n",
              "Rand. Forest Default    G: 1.000, Q: 1.000, S: 1.000         0.979   \n",
              "Rand. Forest Tuned      G: 0.998, Q: 0.966, S: 1.000         0.978   \n",
              "Grad. Boosting Default  G: 0.988, Q: 0.921, S: 0.999         0.976   \n",
              "Grad. Boosting Tuned    G: 0.990, Q: 0.942, S: 1.000         0.977   \n",
              "\n",
              "                                      TEST PRECISION  \\\n",
              "Rand. Forest Default    G: 0.978, Q: 0.968, S: 0.990   \n",
              "Rand. Forest Tuned      G: 0.977, Q: 0.967, S: 0.990   \n",
              "Grad. Boosting Default  G: 0.973, Q: 0.962, S: 0.996   \n",
              "Grad. Boosting Tuned    G: 0.976, Q: 0.959, S: 0.996   \n",
              "\n",
              "                                         TEST RECALL  \n",
              "Rand. Forest Default    G: 0.987, Q: 0.930, S: 1.000  \n",
              "Rand. Forest Tuned      G: 0.986, Q: 0.928, S: 1.000  \n",
              "Grad. Boosting Default  G: 0.987, Q: 0.917, S: 0.999  \n",
              "Grad. Boosting Tuned    G: 0.986, Q: 0.926, S: 0.999  "
            ]
          },
          "execution_count": 122,
          "metadata": {},
          "output_type": "execute_result"
        }
      ],
      "source": [
        "# Get the best estimator\n",
        "gbc_tuned = gbc_grid.best_estimator_\n",
        "# Get the current model metrics\n",
        "current_metrics =  metrics(y_train, \n",
        "                           gbc_tuned.predict(X_train), \n",
        "                           y_test, \n",
        "                           gbc_tuned.predict(X_test), \n",
        "                           \"Grad. Boosting Tuned\")\n",
        "# Add the current model metrics to the metrics df\n",
        "metrics_df = pd.concat([metrics_df, current_metrics])\n",
        "metrics_df"
      ]
    },
    {
      "attachments": {},
      "cell_type": "markdown",
      "metadata": {},
      "source": [
        "**_LightGBM Classifier Default_**"
      ]
    },
    {
      "cell_type": "code",
      "execution_count": 33,
      "metadata": {},
      "outputs": [
        {
          "data": {
            "text/plain": [
              "LGBMClassifier(random_state=42)"
            ]
          },
          "execution_count": 33,
          "metadata": {},
          "output_type": "execute_result"
        }
      ],
      "source": [
        "# Create default LightGBM Classifier\n",
        "lgbmc_default = LGBMClassifier(random_state=42, n_jobs=-1)\n",
        "# Fit to the training data\n",
        "lgbmc_default.fit(X_train, y_train)"
      ]
    },
    {
      "cell_type": "code",
      "execution_count": 123,
      "metadata": {},
      "outputs": [
        {
          "data": {
            "text/html": [
              "<div>\n",
              "<style scoped>\n",
              "    .dataframe tbody tr th:only-of-type {\n",
              "        vertical-align: middle;\n",
              "    }\n",
              "\n",
              "    .dataframe tbody tr th {\n",
              "        vertical-align: top;\n",
              "    }\n",
              "\n",
              "    .dataframe thead th {\n",
              "        text-align: right;\n",
              "    }\n",
              "</style>\n",
              "<table border=\"1\" class=\"dataframe\">\n",
              "  <thead>\n",
              "    <tr style=\"text-align: right;\">\n",
              "      <th></th>\n",
              "      <th>TRAIN ACCURACY</th>\n",
              "      <th>TRAIN PRECISION</th>\n",
              "      <th>TRAIN RECALL</th>\n",
              "      <th>TEST ACCURACY</th>\n",
              "      <th>TEST PRECISION</th>\n",
              "      <th>TEST RECALL</th>\n",
              "    </tr>\n",
              "  </thead>\n",
              "  <tbody>\n",
              "    <tr>\n",
              "      <th>Rand. Forest Default</th>\n",
              "      <td>1.000</td>\n",
              "      <td>G: 1.000, Q: 1.000, S: 1.000</td>\n",
              "      <td>G: 1.000, Q: 1.000, S: 1.000</td>\n",
              "      <td>0.979</td>\n",
              "      <td>G: 0.978, Q: 0.968, S: 0.990</td>\n",
              "      <td>G: 0.987, Q: 0.930, S: 1.000</td>\n",
              "    </tr>\n",
              "    <tr>\n",
              "      <th>Rand. Forest Tuned</th>\n",
              "      <td>0.992</td>\n",
              "      <td>G: 0.989, Q: 0.993, S: 0.999</td>\n",
              "      <td>G: 0.998, Q: 0.966, S: 1.000</td>\n",
              "      <td>0.978</td>\n",
              "      <td>G: 0.977, Q: 0.967, S: 0.990</td>\n",
              "      <td>G: 0.986, Q: 0.928, S: 1.000</td>\n",
              "    </tr>\n",
              "    <tr>\n",
              "      <th>Grad. Boosting Default</th>\n",
              "      <td>0.978</td>\n",
              "      <td>G: 0.975, Q: 0.965, S: 0.997</td>\n",
              "      <td>G: 0.988, Q: 0.921, S: 0.999</td>\n",
              "      <td>0.976</td>\n",
              "      <td>G: 0.973, Q: 0.962, S: 0.996</td>\n",
              "      <td>G: 0.987, Q: 0.917, S: 0.999</td>\n",
              "    </tr>\n",
              "    <tr>\n",
              "      <th>Grad. Boosting Tuned</th>\n",
              "      <td>0.983</td>\n",
              "      <td>G: 0.982, Q: 0.971, S: 0.998</td>\n",
              "      <td>G: 0.990, Q: 0.942, S: 1.000</td>\n",
              "      <td>0.977</td>\n",
              "      <td>G: 0.976, Q: 0.959, S: 0.996</td>\n",
              "      <td>G: 0.986, Q: 0.926, S: 0.999</td>\n",
              "    </tr>\n",
              "    <tr>\n",
              "      <th>LightGBM Default</th>\n",
              "      <td>0.985</td>\n",
              "      <td>G: 0.983, Q: 0.973, S: 1.000</td>\n",
              "      <td>G: 0.992, Q: 0.946, S: 1.000</td>\n",
              "      <td>0.979</td>\n",
              "      <td>G: 0.978, Q: 0.961, S: 0.995</td>\n",
              "      <td>G: 0.986, Q: 0.932, S: 0.999</td>\n",
              "    </tr>\n",
              "  </tbody>\n",
              "</table>\n",
              "</div>"
            ],
            "text/plain": [
              "                       TRAIN ACCURACY               TRAIN PRECISION  \\\n",
              "Rand. Forest Default            1.000  G: 1.000, Q: 1.000, S: 1.000   \n",
              "Rand. Forest Tuned              0.992  G: 0.989, Q: 0.993, S: 0.999   \n",
              "Grad. Boosting Default          0.978  G: 0.975, Q: 0.965, S: 0.997   \n",
              "Grad. Boosting Tuned            0.983  G: 0.982, Q: 0.971, S: 0.998   \n",
              "LightGBM Default                0.985  G: 0.983, Q: 0.973, S: 1.000   \n",
              "\n",
              "                                        TRAIN RECALL TEST ACCURACY  \\\n",
              "Rand. Forest Default    G: 1.000, Q: 1.000, S: 1.000         0.979   \n",
              "Rand. Forest Tuned      G: 0.998, Q: 0.966, S: 1.000         0.978   \n",
              "Grad. Boosting Default  G: 0.988, Q: 0.921, S: 0.999         0.976   \n",
              "Grad. Boosting Tuned    G: 0.990, Q: 0.942, S: 1.000         0.977   \n",
              "LightGBM Default        G: 0.992, Q: 0.946, S: 1.000         0.979   \n",
              "\n",
              "                                      TEST PRECISION  \\\n",
              "Rand. Forest Default    G: 0.978, Q: 0.968, S: 0.990   \n",
              "Rand. Forest Tuned      G: 0.977, Q: 0.967, S: 0.990   \n",
              "Grad. Boosting Default  G: 0.973, Q: 0.962, S: 0.996   \n",
              "Grad. Boosting Tuned    G: 0.976, Q: 0.959, S: 0.996   \n",
              "LightGBM Default        G: 0.978, Q: 0.961, S: 0.995   \n",
              "\n",
              "                                         TEST RECALL  \n",
              "Rand. Forest Default    G: 0.987, Q: 0.930, S: 1.000  \n",
              "Rand. Forest Tuned      G: 0.986, Q: 0.928, S: 1.000  \n",
              "Grad. Boosting Default  G: 0.987, Q: 0.917, S: 0.999  \n",
              "Grad. Boosting Tuned    G: 0.986, Q: 0.926, S: 0.999  \n",
              "LightGBM Default        G: 0.986, Q: 0.932, S: 0.999  "
            ]
          },
          "execution_count": 123,
          "metadata": {},
          "output_type": "execute_result"
        }
      ],
      "source": [
        "# Get the current model metrics\n",
        "current_metrics =  metrics(y_train, \n",
        "                           lgbmc_default.predict(X_train), \n",
        "                           y_test, \n",
        "                           lgbmc_default.predict(X_test), \n",
        "                           \"LightGBM Default\")\n",
        "# Add the current model metrics to the metrics df\n",
        "metrics_df = pd.concat([metrics_df, current_metrics])\n",
        "metrics_df"
      ]
    },
    {
      "attachments": {},
      "cell_type": "markdown",
      "metadata": {},
      "source": [
        "**_LightGBM Classifier Tuned_**"
      ]
    },
    {
      "cell_type": "code",
      "execution_count": 57,
      "metadata": {},
      "outputs": [
        {
          "data": {
            "text/plain": [
              "GridSearchCV(estimator=LGBMClassifier(random_state=42), n_jobs=-1,\n",
              "             param_grid={'max_depth': [-1, 1, 2, 3, 4, 5, 6, 7, 8, 9, 10],\n",
              "                         'n_estimators': [50, 100, 150, 200, 250],\n",
              "                         'num_leaves': [20, 25, 31, 35, 40, 45, 50]})"
            ]
          },
          "execution_count": 57,
          "metadata": {},
          "output_type": "execute_result"
        }
      ],
      "source": [
        "# Create a simple param_grid to tune some of the hyperparameters\n",
        "param_grid = {\n",
        "    \"n_estimators\": [50, 100, 150, 200, 250],\n",
        "    \"max_depth\": [-1, 1, 2, 3, 4, 5, 6, 7, 8, 9, 10],\n",
        "    \"num_leaves\": [20, 25, 31, 35, 40, 45, 50]\n",
        "}\n",
        "\n",
        "# Instantiate the GridSearch\n",
        "lgbmc_grid = GridSearchCV(LGBMClassifier(random_state=42, n_jobs=-1), param_grid, n_jobs=-1)\n",
        "\n",
        "# Fit the GridSearch and see which is best\n",
        "lgbmc_grid.fit(X_train, y_train)"
      ]
    },
    {
      "cell_type": "code",
      "execution_count": 124,
      "metadata": {},
      "outputs": [
        {
          "data": {
            "text/html": [
              "<div>\n",
              "<style scoped>\n",
              "    .dataframe tbody tr th:only-of-type {\n",
              "        vertical-align: middle;\n",
              "    }\n",
              "\n",
              "    .dataframe tbody tr th {\n",
              "        vertical-align: top;\n",
              "    }\n",
              "\n",
              "    .dataframe thead th {\n",
              "        text-align: right;\n",
              "    }\n",
              "</style>\n",
              "<table border=\"1\" class=\"dataframe\">\n",
              "  <thead>\n",
              "    <tr style=\"text-align: right;\">\n",
              "      <th></th>\n",
              "      <th>TRAIN ACCURACY</th>\n",
              "      <th>TRAIN PRECISION</th>\n",
              "      <th>TRAIN RECALL</th>\n",
              "      <th>TEST ACCURACY</th>\n",
              "      <th>TEST PRECISION</th>\n",
              "      <th>TEST RECALL</th>\n",
              "    </tr>\n",
              "  </thead>\n",
              "  <tbody>\n",
              "    <tr>\n",
              "      <th>Rand. Forest Default</th>\n",
              "      <td>1.000</td>\n",
              "      <td>G: 1.000, Q: 1.000, S: 1.000</td>\n",
              "      <td>G: 1.000, Q: 1.000, S: 1.000</td>\n",
              "      <td>0.979</td>\n",
              "      <td>G: 0.978, Q: 0.968, S: 0.990</td>\n",
              "      <td>G: 0.987, Q: 0.930, S: 1.000</td>\n",
              "    </tr>\n",
              "    <tr>\n",
              "      <th>Rand. Forest Tuned</th>\n",
              "      <td>0.992</td>\n",
              "      <td>G: 0.989, Q: 0.993, S: 0.999</td>\n",
              "      <td>G: 0.998, Q: 0.966, S: 1.000</td>\n",
              "      <td>0.978</td>\n",
              "      <td>G: 0.977, Q: 0.967, S: 0.990</td>\n",
              "      <td>G: 0.986, Q: 0.928, S: 1.000</td>\n",
              "    </tr>\n",
              "    <tr>\n",
              "      <th>Grad. Boosting Default</th>\n",
              "      <td>0.978</td>\n",
              "      <td>G: 0.975, Q: 0.965, S: 0.997</td>\n",
              "      <td>G: 0.988, Q: 0.921, S: 0.999</td>\n",
              "      <td>0.976</td>\n",
              "      <td>G: 0.973, Q: 0.962, S: 0.996</td>\n",
              "      <td>G: 0.987, Q: 0.917, S: 0.999</td>\n",
              "    </tr>\n",
              "    <tr>\n",
              "      <th>Grad. Boosting Tuned</th>\n",
              "      <td>0.983</td>\n",
              "      <td>G: 0.982, Q: 0.971, S: 0.998</td>\n",
              "      <td>G: 0.990, Q: 0.942, S: 1.000</td>\n",
              "      <td>0.977</td>\n",
              "      <td>G: 0.976, Q: 0.959, S: 0.996</td>\n",
              "      <td>G: 0.986, Q: 0.926, S: 0.999</td>\n",
              "    </tr>\n",
              "    <tr>\n",
              "      <th>LightGBM Default</th>\n",
              "      <td>0.985</td>\n",
              "      <td>G: 0.983, Q: 0.973, S: 1.000</td>\n",
              "      <td>G: 0.992, Q: 0.946, S: 1.000</td>\n",
              "      <td>0.979</td>\n",
              "      <td>G: 0.978, Q: 0.961, S: 0.995</td>\n",
              "      <td>G: 0.986, Q: 0.932, S: 0.999</td>\n",
              "    </tr>\n",
              "    <tr>\n",
              "      <th>LightGBM Tuned</th>\n",
              "      <td>0.995</td>\n",
              "      <td>G: 0.994, Q: 0.993, S: 1.000</td>\n",
              "      <td>G: 0.998, Q: 0.980, S: 1.000</td>\n",
              "      <td>0.979</td>\n",
              "      <td>G: 0.978, Q: 0.964, S: 0.995</td>\n",
              "      <td>G: 0.987, Q: 0.932, S: 0.999</td>\n",
              "    </tr>\n",
              "  </tbody>\n",
              "</table>\n",
              "</div>"
            ],
            "text/plain": [
              "                       TRAIN ACCURACY               TRAIN PRECISION  \\\n",
              "Rand. Forest Default            1.000  G: 1.000, Q: 1.000, S: 1.000   \n",
              "Rand. Forest Tuned              0.992  G: 0.989, Q: 0.993, S: 0.999   \n",
              "Grad. Boosting Default          0.978  G: 0.975, Q: 0.965, S: 0.997   \n",
              "Grad. Boosting Tuned            0.983  G: 0.982, Q: 0.971, S: 0.998   \n",
              "LightGBM Default                0.985  G: 0.983, Q: 0.973, S: 1.000   \n",
              "LightGBM Tuned                  0.995  G: 0.994, Q: 0.993, S: 1.000   \n",
              "\n",
              "                                        TRAIN RECALL TEST ACCURACY  \\\n",
              "Rand. Forest Default    G: 1.000, Q: 1.000, S: 1.000         0.979   \n",
              "Rand. Forest Tuned      G: 0.998, Q: 0.966, S: 1.000         0.978   \n",
              "Grad. Boosting Default  G: 0.988, Q: 0.921, S: 0.999         0.976   \n",
              "Grad. Boosting Tuned    G: 0.990, Q: 0.942, S: 1.000         0.977   \n",
              "LightGBM Default        G: 0.992, Q: 0.946, S: 1.000         0.979   \n",
              "LightGBM Tuned          G: 0.998, Q: 0.980, S: 1.000         0.979   \n",
              "\n",
              "                                      TEST PRECISION  \\\n",
              "Rand. Forest Default    G: 0.978, Q: 0.968, S: 0.990   \n",
              "Rand. Forest Tuned      G: 0.977, Q: 0.967, S: 0.990   \n",
              "Grad. Boosting Default  G: 0.973, Q: 0.962, S: 0.996   \n",
              "Grad. Boosting Tuned    G: 0.976, Q: 0.959, S: 0.996   \n",
              "LightGBM Default        G: 0.978, Q: 0.961, S: 0.995   \n",
              "LightGBM Tuned          G: 0.978, Q: 0.964, S: 0.995   \n",
              "\n",
              "                                         TEST RECALL  \n",
              "Rand. Forest Default    G: 0.987, Q: 0.930, S: 1.000  \n",
              "Rand. Forest Tuned      G: 0.986, Q: 0.928, S: 1.000  \n",
              "Grad. Boosting Default  G: 0.987, Q: 0.917, S: 0.999  \n",
              "Grad. Boosting Tuned    G: 0.986, Q: 0.926, S: 0.999  \n",
              "LightGBM Default        G: 0.986, Q: 0.932, S: 0.999  \n",
              "LightGBM Tuned          G: 0.987, Q: 0.932, S: 0.999  "
            ]
          },
          "execution_count": 124,
          "metadata": {},
          "output_type": "execute_result"
        }
      ],
      "source": [
        "# Get the best estimator\n",
        "lgbmc_tuned = lgbmc_grid.best_estimator_\n",
        "# Get the current model metrics\n",
        "current_metrics =  metrics(y_train, \n",
        "                           lgbmc_tuned.predict(X_train), \n",
        "                           y_test, \n",
        "                           lgbmc_tuned.predict(X_test), \n",
        "                           \"LightGBM Tuned\")\n",
        "# Add the current model metrics to the metrics df\n",
        "metrics_df = pd.concat([metrics_df, current_metrics])\n",
        "metrics_df"
      ]
    },
    {
      "cell_type": "markdown",
      "metadata": {},
      "source": [
        "**_XGBoost Classifier Default_**"
      ]
    },
    {
      "cell_type": "code",
      "execution_count": 36,
      "metadata": {},
      "outputs": [],
      "source": [
        "# Prepare data for XGBoost\n",
        "y_train_XG = y_train.map({\"GALAXY\": 0, \"QSO\": 1, \"STAR\": 2})\n",
        "y_test_XG = y_test.map({\"GALAXY\": 0, \"QSO\": 1, \"STAR\": 2})"
      ]
    },
    {
      "cell_type": "code",
      "execution_count": 37,
      "metadata": {},
      "outputs": [
        {
          "data": {
            "text/plain": [
              "XGBClassifier(base_score=None, booster=None, callbacks=None,\n",
              "              colsample_bylevel=None, colsample_bynode=None,\n",
              "              colsample_bytree=None, early_stopping_rounds=None,\n",
              "              enable_categorical=False, eval_metric=None, feature_types=None,\n",
              "              gamma=None, gpu_id=None, grow_policy=None, importance_type=None,\n",
              "              interaction_constraints=None, learning_rate=None, max_bin=None,\n",
              "              max_cat_threshold=None, max_cat_to_onehot=None,\n",
              "              max_delta_step=None, max_depth=None, max_leaves=None,\n",
              "              min_child_weight=None, missing=nan, monotone_constraints=None,\n",
              "              n_estimators=100, n_jobs=None, num_parallel_tree=None,\n",
              "              objective='multi:softprob', predictor=None, ...)"
            ]
          },
          "execution_count": 37,
          "metadata": {},
          "output_type": "execute_result"
        }
      ],
      "source": [
        "# Create default XGBoost Classifier\n",
        "xgbc_default = XGBClassifier()\n",
        "# Fit on the training data\n",
        "xgbc_default.fit(X_train, y_train_XG)"
      ]
    },
    {
      "cell_type": "code",
      "execution_count": 125,
      "metadata": {},
      "outputs": [
        {
          "data": {
            "text/html": [
              "<div>\n",
              "<style scoped>\n",
              "    .dataframe tbody tr th:only-of-type {\n",
              "        vertical-align: middle;\n",
              "    }\n",
              "\n",
              "    .dataframe tbody tr th {\n",
              "        vertical-align: top;\n",
              "    }\n",
              "\n",
              "    .dataframe thead th {\n",
              "        text-align: right;\n",
              "    }\n",
              "</style>\n",
              "<table border=\"1\" class=\"dataframe\">\n",
              "  <thead>\n",
              "    <tr style=\"text-align: right;\">\n",
              "      <th></th>\n",
              "      <th>TRAIN ACCURACY</th>\n",
              "      <th>TRAIN PRECISION</th>\n",
              "      <th>TRAIN RECALL</th>\n",
              "      <th>TEST ACCURACY</th>\n",
              "      <th>TEST PRECISION</th>\n",
              "      <th>TEST RECALL</th>\n",
              "    </tr>\n",
              "  </thead>\n",
              "  <tbody>\n",
              "    <tr>\n",
              "      <th>Rand. Forest Default</th>\n",
              "      <td>1.000</td>\n",
              "      <td>G: 1.000, Q: 1.000, S: 1.000</td>\n",
              "      <td>G: 1.000, Q: 1.000, S: 1.000</td>\n",
              "      <td>0.979</td>\n",
              "      <td>G: 0.978, Q: 0.968, S: 0.990</td>\n",
              "      <td>G: 0.987, Q: 0.930, S: 1.000</td>\n",
              "    </tr>\n",
              "    <tr>\n",
              "      <th>Rand. Forest Tuned</th>\n",
              "      <td>0.992</td>\n",
              "      <td>G: 0.989, Q: 0.993, S: 0.999</td>\n",
              "      <td>G: 0.998, Q: 0.966, S: 1.000</td>\n",
              "      <td>0.978</td>\n",
              "      <td>G: 0.977, Q: 0.967, S: 0.990</td>\n",
              "      <td>G: 0.986, Q: 0.928, S: 1.000</td>\n",
              "    </tr>\n",
              "    <tr>\n",
              "      <th>Grad. Boosting Default</th>\n",
              "      <td>0.978</td>\n",
              "      <td>G: 0.975, Q: 0.965, S: 0.997</td>\n",
              "      <td>G: 0.988, Q: 0.921, S: 0.999</td>\n",
              "      <td>0.976</td>\n",
              "      <td>G: 0.973, Q: 0.962, S: 0.996</td>\n",
              "      <td>G: 0.987, Q: 0.917, S: 0.999</td>\n",
              "    </tr>\n",
              "    <tr>\n",
              "      <th>Grad. Boosting Tuned</th>\n",
              "      <td>0.983</td>\n",
              "      <td>G: 0.982, Q: 0.971, S: 0.998</td>\n",
              "      <td>G: 0.990, Q: 0.942, S: 1.000</td>\n",
              "      <td>0.977</td>\n",
              "      <td>G: 0.976, Q: 0.959, S: 0.996</td>\n",
              "      <td>G: 0.986, Q: 0.926, S: 0.999</td>\n",
              "    </tr>\n",
              "    <tr>\n",
              "      <th>LightGBM Default</th>\n",
              "      <td>0.985</td>\n",
              "      <td>G: 0.983, Q: 0.973, S: 1.000</td>\n",
              "      <td>G: 0.992, Q: 0.946, S: 1.000</td>\n",
              "      <td>0.979</td>\n",
              "      <td>G: 0.978, Q: 0.961, S: 0.995</td>\n",
              "      <td>G: 0.986, Q: 0.932, S: 0.999</td>\n",
              "    </tr>\n",
              "    <tr>\n",
              "      <th>LightGBM Tuned</th>\n",
              "      <td>0.995</td>\n",
              "      <td>G: 0.994, Q: 0.993, S: 1.000</td>\n",
              "      <td>G: 0.998, Q: 0.980, S: 1.000</td>\n",
              "      <td>0.979</td>\n",
              "      <td>G: 0.978, Q: 0.964, S: 0.995</td>\n",
              "      <td>G: 0.987, Q: 0.932, S: 0.999</td>\n",
              "    </tr>\n",
              "    <tr>\n",
              "      <th>XGBoost Default</th>\n",
              "      <td>0.991</td>\n",
              "      <td>G: 0.988, Q: 0.987, S: 1.000</td>\n",
              "      <td>G: 0.996, Q: 0.964, S: 1.000</td>\n",
              "      <td>0.979</td>\n",
              "      <td>G: 0.978, Q: 0.963, S: 0.996</td>\n",
              "      <td>G: 0.987, Q: 0.932, S: 1.000</td>\n",
              "    </tr>\n",
              "  </tbody>\n",
              "</table>\n",
              "</div>"
            ],
            "text/plain": [
              "                       TRAIN ACCURACY               TRAIN PRECISION  \\\n",
              "Rand. Forest Default            1.000  G: 1.000, Q: 1.000, S: 1.000   \n",
              "Rand. Forest Tuned              0.992  G: 0.989, Q: 0.993, S: 0.999   \n",
              "Grad. Boosting Default          0.978  G: 0.975, Q: 0.965, S: 0.997   \n",
              "Grad. Boosting Tuned            0.983  G: 0.982, Q: 0.971, S: 0.998   \n",
              "LightGBM Default                0.985  G: 0.983, Q: 0.973, S: 1.000   \n",
              "LightGBM Tuned                  0.995  G: 0.994, Q: 0.993, S: 1.000   \n",
              "XGBoost Default                 0.991  G: 0.988, Q: 0.987, S: 1.000   \n",
              "\n",
              "                                        TRAIN RECALL TEST ACCURACY  \\\n",
              "Rand. Forest Default    G: 1.000, Q: 1.000, S: 1.000         0.979   \n",
              "Rand. Forest Tuned      G: 0.998, Q: 0.966, S: 1.000         0.978   \n",
              "Grad. Boosting Default  G: 0.988, Q: 0.921, S: 0.999         0.976   \n",
              "Grad. Boosting Tuned    G: 0.990, Q: 0.942, S: 1.000         0.977   \n",
              "LightGBM Default        G: 0.992, Q: 0.946, S: 1.000         0.979   \n",
              "LightGBM Tuned          G: 0.998, Q: 0.980, S: 1.000         0.979   \n",
              "XGBoost Default         G: 0.996, Q: 0.964, S: 1.000         0.979   \n",
              "\n",
              "                                      TEST PRECISION  \\\n",
              "Rand. Forest Default    G: 0.978, Q: 0.968, S: 0.990   \n",
              "Rand. Forest Tuned      G: 0.977, Q: 0.967, S: 0.990   \n",
              "Grad. Boosting Default  G: 0.973, Q: 0.962, S: 0.996   \n",
              "Grad. Boosting Tuned    G: 0.976, Q: 0.959, S: 0.996   \n",
              "LightGBM Default        G: 0.978, Q: 0.961, S: 0.995   \n",
              "LightGBM Tuned          G: 0.978, Q: 0.964, S: 0.995   \n",
              "XGBoost Default         G: 0.978, Q: 0.963, S: 0.996   \n",
              "\n",
              "                                         TEST RECALL  \n",
              "Rand. Forest Default    G: 0.987, Q: 0.930, S: 1.000  \n",
              "Rand. Forest Tuned      G: 0.986, Q: 0.928, S: 1.000  \n",
              "Grad. Boosting Default  G: 0.987, Q: 0.917, S: 0.999  \n",
              "Grad. Boosting Tuned    G: 0.986, Q: 0.926, S: 0.999  \n",
              "LightGBM Default        G: 0.986, Q: 0.932, S: 0.999  \n",
              "LightGBM Tuned          G: 0.987, Q: 0.932, S: 0.999  \n",
              "XGBoost Default         G: 0.987, Q: 0.932, S: 1.000  "
            ]
          },
          "execution_count": 125,
          "metadata": {},
          "output_type": "execute_result"
        }
      ],
      "source": [
        "# Perform predictions on both of these sets, but do it this way because XGBoost is odd\n",
        "y_train_preds = xgbc_default.predict(X_train)\n",
        "y_train_preds = pd.Series(y_train_preds).map({0: \"GALAXY\", 1: \"QSO\", 2: \"STAR\"})\n",
        "y_test_preds = xgbc_default.predict(X_test)\n",
        "y_test_preds = pd.Series(y_test_preds).map({0: \"GALAXY\", 1: \"QSO\", 2: \"STAR\"})\n",
        "\n",
        "metrics_df = pd.concat([metrics_df, metrics(y_train, y_train_preds, y_test, y_test_preds, \"XGBoost Default\")])\n",
        "metrics_df"
      ]
    },
    {
      "attachments": {},
      "cell_type": "markdown",
      "metadata": {},
      "source": [
        "**_XGBoost Classifier Tuned_**"
      ]
    },
    {
      "cell_type": "code",
      "execution_count": 64,
      "metadata": {},
      "outputs": [
        {
          "data": {
            "text/plain": [
              "GridSearchCV(estimator=XGBClassifier(base_score=None, booster=None,\n",
              "                                     callbacks=None, colsample_bylevel=None,\n",
              "                                     colsample_bynode=None,\n",
              "                                     colsample_bytree=None,\n",
              "                                     early_stopping_rounds=None,\n",
              "                                     enable_categorical=False, eval_metric=None,\n",
              "                                     feature_types=None, gamma=None,\n",
              "                                     gpu_id=None, grow_policy=None,\n",
              "                                     importance_type=None,\n",
              "                                     interaction_constraints=None,\n",
              "                                     learning_rate=None, max_bin=None,\n",
              "                                     max_cat_threshold=None,\n",
              "                                     max_cat_to_onehot=None,\n",
              "                                     max_delta_step=None, max_depth=None,\n",
              "                                     max_leaves=None, min_child_weight=None,\n",
              "                                     missing=nan, monotone_constraints=None,\n",
              "                                     n_estimators=100, n_jobs=-1,\n",
              "                                     num_parallel_tree=None, predictor=None,\n",
              "                                     random_state=42, ...),\n",
              "             n_jobs=-1,\n",
              "             param_grid={'max_depth': [1, 2, 3, 4, 5, 6, 7, 8, 9, 10],\n",
              "                         'n_estimators': [50, 100, 150, 200, 250]})"
            ]
          },
          "execution_count": 64,
          "metadata": {},
          "output_type": "execute_result"
        }
      ],
      "source": [
        "# Create a simple param_grid to tune some of the hyperparameters\n",
        "param_grid = {\n",
        "    \"n_estimators\": [50, 100, 150, 200, 250],\n",
        "    \"max_depth\": [1, 2, 3, 4, 5, 6, 7, 8, 9, 10],\n",
        "}\n",
        "\n",
        "# Instantiate the GridSearch\n",
        "xgbc_grid = GridSearchCV(XGBClassifier(random_state=42, n_jobs=-1), param_grid, n_jobs=-1)\n",
        "\n",
        "# Fit the GridSearch and see which is best\n",
        "xgbc_grid.fit(X_train, y_train_XG)"
      ]
    },
    {
      "cell_type": "code",
      "execution_count": 126,
      "metadata": {},
      "outputs": [
        {
          "data": {
            "text/html": [
              "<div>\n",
              "<style scoped>\n",
              "    .dataframe tbody tr th:only-of-type {\n",
              "        vertical-align: middle;\n",
              "    }\n",
              "\n",
              "    .dataframe tbody tr th {\n",
              "        vertical-align: top;\n",
              "    }\n",
              "\n",
              "    .dataframe thead th {\n",
              "        text-align: right;\n",
              "    }\n",
              "</style>\n",
              "<table border=\"1\" class=\"dataframe\">\n",
              "  <thead>\n",
              "    <tr style=\"text-align: right;\">\n",
              "      <th></th>\n",
              "      <th>TRAIN ACCURACY</th>\n",
              "      <th>TRAIN PRECISION</th>\n",
              "      <th>TRAIN RECALL</th>\n",
              "      <th>TEST ACCURACY</th>\n",
              "      <th>TEST PRECISION</th>\n",
              "      <th>TEST RECALL</th>\n",
              "    </tr>\n",
              "  </thead>\n",
              "  <tbody>\n",
              "    <tr>\n",
              "      <th>Rand. Forest Default</th>\n",
              "      <td>1.000</td>\n",
              "      <td>G: 1.000, Q: 1.000, S: 1.000</td>\n",
              "      <td>G: 1.000, Q: 1.000, S: 1.000</td>\n",
              "      <td>0.979</td>\n",
              "      <td>G: 0.978, Q: 0.968, S: 0.990</td>\n",
              "      <td>G: 0.987, Q: 0.930, S: 1.000</td>\n",
              "    </tr>\n",
              "    <tr>\n",
              "      <th>Rand. Forest Tuned</th>\n",
              "      <td>0.992</td>\n",
              "      <td>G: 0.989, Q: 0.993, S: 0.999</td>\n",
              "      <td>G: 0.998, Q: 0.966, S: 1.000</td>\n",
              "      <td>0.978</td>\n",
              "      <td>G: 0.977, Q: 0.967, S: 0.990</td>\n",
              "      <td>G: 0.986, Q: 0.928, S: 1.000</td>\n",
              "    </tr>\n",
              "    <tr>\n",
              "      <th>Grad. Boosting Default</th>\n",
              "      <td>0.978</td>\n",
              "      <td>G: 0.975, Q: 0.965, S: 0.997</td>\n",
              "      <td>G: 0.988, Q: 0.921, S: 0.999</td>\n",
              "      <td>0.976</td>\n",
              "      <td>G: 0.973, Q: 0.962, S: 0.996</td>\n",
              "      <td>G: 0.987, Q: 0.917, S: 0.999</td>\n",
              "    </tr>\n",
              "    <tr>\n",
              "      <th>Grad. Boosting Tuned</th>\n",
              "      <td>0.983</td>\n",
              "      <td>G: 0.982, Q: 0.971, S: 0.998</td>\n",
              "      <td>G: 0.990, Q: 0.942, S: 1.000</td>\n",
              "      <td>0.977</td>\n",
              "      <td>G: 0.976, Q: 0.959, S: 0.996</td>\n",
              "      <td>G: 0.986, Q: 0.926, S: 0.999</td>\n",
              "    </tr>\n",
              "    <tr>\n",
              "      <th>LightGBM Default</th>\n",
              "      <td>0.985</td>\n",
              "      <td>G: 0.983, Q: 0.973, S: 1.000</td>\n",
              "      <td>G: 0.992, Q: 0.946, S: 1.000</td>\n",
              "      <td>0.979</td>\n",
              "      <td>G: 0.978, Q: 0.961, S: 0.995</td>\n",
              "      <td>G: 0.986, Q: 0.932, S: 0.999</td>\n",
              "    </tr>\n",
              "    <tr>\n",
              "      <th>LightGBM Tuned</th>\n",
              "      <td>0.995</td>\n",
              "      <td>G: 0.994, Q: 0.993, S: 1.000</td>\n",
              "      <td>G: 0.998, Q: 0.980, S: 1.000</td>\n",
              "      <td>0.979</td>\n",
              "      <td>G: 0.978, Q: 0.964, S: 0.995</td>\n",
              "      <td>G: 0.987, Q: 0.932, S: 0.999</td>\n",
              "    </tr>\n",
              "    <tr>\n",
              "      <th>XGBoost Default</th>\n",
              "      <td>0.991</td>\n",
              "      <td>G: 0.988, Q: 0.987, S: 1.000</td>\n",
              "      <td>G: 0.996, Q: 0.964, S: 1.000</td>\n",
              "      <td>0.979</td>\n",
              "      <td>G: 0.978, Q: 0.963, S: 0.996</td>\n",
              "      <td>G: 0.987, Q: 0.932, S: 1.000</td>\n",
              "    </tr>\n",
              "    <tr>\n",
              "      <th>XGBoost Tuned</th>\n",
              "      <td>1.000</td>\n",
              "      <td>G: 1.000, Q: 1.000, S: 1.000</td>\n",
              "      <td>G: 1.000, Q: 1.000, S: 1.000</td>\n",
              "      <td>0.980</td>\n",
              "      <td>G: 0.978, Q: 0.968, S: 0.997</td>\n",
              "      <td>G: 0.989, Q: 0.931, S: 1.000</td>\n",
              "    </tr>\n",
              "  </tbody>\n",
              "</table>\n",
              "</div>"
            ],
            "text/plain": [
              "                       TRAIN ACCURACY               TRAIN PRECISION  \\\n",
              "Rand. Forest Default            1.000  G: 1.000, Q: 1.000, S: 1.000   \n",
              "Rand. Forest Tuned              0.992  G: 0.989, Q: 0.993, S: 0.999   \n",
              "Grad. Boosting Default          0.978  G: 0.975, Q: 0.965, S: 0.997   \n",
              "Grad. Boosting Tuned            0.983  G: 0.982, Q: 0.971, S: 0.998   \n",
              "LightGBM Default                0.985  G: 0.983, Q: 0.973, S: 1.000   \n",
              "LightGBM Tuned                  0.995  G: 0.994, Q: 0.993, S: 1.000   \n",
              "XGBoost Default                 0.991  G: 0.988, Q: 0.987, S: 1.000   \n",
              "XGBoost Tuned                   1.000  G: 1.000, Q: 1.000, S: 1.000   \n",
              "\n",
              "                                        TRAIN RECALL TEST ACCURACY  \\\n",
              "Rand. Forest Default    G: 1.000, Q: 1.000, S: 1.000         0.979   \n",
              "Rand. Forest Tuned      G: 0.998, Q: 0.966, S: 1.000         0.978   \n",
              "Grad. Boosting Default  G: 0.988, Q: 0.921, S: 0.999         0.976   \n",
              "Grad. Boosting Tuned    G: 0.990, Q: 0.942, S: 1.000         0.977   \n",
              "LightGBM Default        G: 0.992, Q: 0.946, S: 1.000         0.979   \n",
              "LightGBM Tuned          G: 0.998, Q: 0.980, S: 1.000         0.979   \n",
              "XGBoost Default         G: 0.996, Q: 0.964, S: 1.000         0.979   \n",
              "XGBoost Tuned           G: 1.000, Q: 1.000, S: 1.000         0.980   \n",
              "\n",
              "                                      TEST PRECISION  \\\n",
              "Rand. Forest Default    G: 0.978, Q: 0.968, S: 0.990   \n",
              "Rand. Forest Tuned      G: 0.977, Q: 0.967, S: 0.990   \n",
              "Grad. Boosting Default  G: 0.973, Q: 0.962, S: 0.996   \n",
              "Grad. Boosting Tuned    G: 0.976, Q: 0.959, S: 0.996   \n",
              "LightGBM Default        G: 0.978, Q: 0.961, S: 0.995   \n",
              "LightGBM Tuned          G: 0.978, Q: 0.964, S: 0.995   \n",
              "XGBoost Default         G: 0.978, Q: 0.963, S: 0.996   \n",
              "XGBoost Tuned           G: 0.978, Q: 0.968, S: 0.997   \n",
              "\n",
              "                                         TEST RECALL  \n",
              "Rand. Forest Default    G: 0.987, Q: 0.930, S: 1.000  \n",
              "Rand. Forest Tuned      G: 0.986, Q: 0.928, S: 1.000  \n",
              "Grad. Boosting Default  G: 0.987, Q: 0.917, S: 0.999  \n",
              "Grad. Boosting Tuned    G: 0.986, Q: 0.926, S: 0.999  \n",
              "LightGBM Default        G: 0.986, Q: 0.932, S: 0.999  \n",
              "LightGBM Tuned          G: 0.987, Q: 0.932, S: 0.999  \n",
              "XGBoost Default         G: 0.987, Q: 0.932, S: 1.000  \n",
              "XGBoost Tuned           G: 0.989, Q: 0.931, S: 1.000  "
            ]
          },
          "execution_count": 126,
          "metadata": {},
          "output_type": "execute_result"
        }
      ],
      "source": [
        "xgbc_tuned = xgbc_grid.best_estimator_\n",
        "# Perform predictions on both of these sets, but do it this way because XGBoost is odd\n",
        "y_train_preds = xgbc_tuned.predict(X_train)\n",
        "y_train_preds = pd.Series(y_train_preds).map({0: \"GALAXY\", 1: \"QSO\", 2: \"STAR\"})\n",
        "y_test_preds = xgbc_tuned.predict(X_test)\n",
        "y_test_preds = pd.Series(y_test_preds).map({0: \"GALAXY\", 1: \"QSO\", 2: \"STAR\"})\n",
        "\n",
        "metrics_df = pd.concat([metrics_df, metrics(y_train, y_train_preds, y_test, y_test_preds, \"XGBoost Tuned\")])\n",
        "metrics_df"
      ]
    },
    {
      "attachments": {},
      "cell_type": "markdown",
      "metadata": {},
      "source": [
        "**_Principal Component Analysis_**"
      ]
    },
    {
      "cell_type": "code",
      "execution_count": 83,
      "metadata": {},
      "outputs": [
        {
          "data": {
            "text/plain": [
              "{'max_depth': 9, 'n_estimators': 250}"
            ]
          },
          "execution_count": 83,
          "metadata": {},
          "output_type": "execute_result"
        }
      ],
      "source": [
        "xgbc_grid.best_params_"
      ]
    },
    {
      "cell_type": "code",
      "execution_count": 85,
      "metadata": {},
      "outputs": [
        {
          "data": {
            "text/plain": [
              "Pipeline(steps=[('pca', PCA(n_components=0.95)),\n",
              "                ('xgbclassifier',\n",
              "                 XGBClassifier(base_score=None, booster=None, callbacks=None,\n",
              "                               colsample_bylevel=None, colsample_bynode=None,\n",
              "                               colsample_bytree=None,\n",
              "                               early_stopping_rounds=None,\n",
              "                               enable_categorical=False, eval_metric=None,\n",
              "                               feature_types=None, gamma=None, gpu_id=None,\n",
              "                               grow_policy=None, importance_type=None,\n",
              "                               interaction_constraints=None, learning_rate=None,\n",
              "                               max_bin=None, max_cat_threshold=None,\n",
              "                               max_cat_to_onehot=None, max_delta_step=None,\n",
              "                               max_depth=9, max_leaves=None,\n",
              "                               min_child_weight=None, missing=nan,\n",
              "                               monotone_constraints=None, n_estimators=250,\n",
              "                               n_jobs=-1, num_parallel_tree=None,\n",
              "                               objective='multi:softprob', predictor=None, ...))])"
            ]
          },
          "execution_count": 85,
          "metadata": {},
          "output_type": "execute_result"
        }
      ],
      "source": [
        "pca_pipe = make_pipeline(PCA(n_components=0.95), XGBClassifier(max_depth=9, n_estimators=250, random_state=42, n_jobs=-1))\n",
        "pca_pipe.fit(X_train, y_train_XG)"
      ]
    },
    {
      "cell_type": "code",
      "execution_count": 127,
      "metadata": {},
      "outputs": [
        {
          "data": {
            "text/html": [
              "<div>\n",
              "<style scoped>\n",
              "    .dataframe tbody tr th:only-of-type {\n",
              "        vertical-align: middle;\n",
              "    }\n",
              "\n",
              "    .dataframe tbody tr th {\n",
              "        vertical-align: top;\n",
              "    }\n",
              "\n",
              "    .dataframe thead th {\n",
              "        text-align: right;\n",
              "    }\n",
              "</style>\n",
              "<table border=\"1\" class=\"dataframe\">\n",
              "  <thead>\n",
              "    <tr style=\"text-align: right;\">\n",
              "      <th></th>\n",
              "      <th>TRAIN ACCURACY</th>\n",
              "      <th>TRAIN PRECISION</th>\n",
              "      <th>TRAIN RECALL</th>\n",
              "      <th>TEST ACCURACY</th>\n",
              "      <th>TEST PRECISION</th>\n",
              "      <th>TEST RECALL</th>\n",
              "    </tr>\n",
              "  </thead>\n",
              "  <tbody>\n",
              "    <tr>\n",
              "      <th>Rand. Forest Default</th>\n",
              "      <td>1.000</td>\n",
              "      <td>G: 1.000, Q: 1.000, S: 1.000</td>\n",
              "      <td>G: 1.000, Q: 1.000, S: 1.000</td>\n",
              "      <td>0.979</td>\n",
              "      <td>G: 0.978, Q: 0.968, S: 0.990</td>\n",
              "      <td>G: 0.987, Q: 0.930, S: 1.000</td>\n",
              "    </tr>\n",
              "    <tr>\n",
              "      <th>Rand. Forest Tuned</th>\n",
              "      <td>0.992</td>\n",
              "      <td>G: 0.989, Q: 0.993, S: 0.999</td>\n",
              "      <td>G: 0.998, Q: 0.966, S: 1.000</td>\n",
              "      <td>0.978</td>\n",
              "      <td>G: 0.977, Q: 0.967, S: 0.990</td>\n",
              "      <td>G: 0.986, Q: 0.928, S: 1.000</td>\n",
              "    </tr>\n",
              "    <tr>\n",
              "      <th>Grad. Boosting Default</th>\n",
              "      <td>0.978</td>\n",
              "      <td>G: 0.975, Q: 0.965, S: 0.997</td>\n",
              "      <td>G: 0.988, Q: 0.921, S: 0.999</td>\n",
              "      <td>0.976</td>\n",
              "      <td>G: 0.973, Q: 0.962, S: 0.996</td>\n",
              "      <td>G: 0.987, Q: 0.917, S: 0.999</td>\n",
              "    </tr>\n",
              "    <tr>\n",
              "      <th>Grad. Boosting Tuned</th>\n",
              "      <td>0.983</td>\n",
              "      <td>G: 0.982, Q: 0.971, S: 0.998</td>\n",
              "      <td>G: 0.990, Q: 0.942, S: 1.000</td>\n",
              "      <td>0.977</td>\n",
              "      <td>G: 0.976, Q: 0.959, S: 0.996</td>\n",
              "      <td>G: 0.986, Q: 0.926, S: 0.999</td>\n",
              "    </tr>\n",
              "    <tr>\n",
              "      <th>LightGBM Default</th>\n",
              "      <td>0.985</td>\n",
              "      <td>G: 0.983, Q: 0.973, S: 1.000</td>\n",
              "      <td>G: 0.992, Q: 0.946, S: 1.000</td>\n",
              "      <td>0.979</td>\n",
              "      <td>G: 0.978, Q: 0.961, S: 0.995</td>\n",
              "      <td>G: 0.986, Q: 0.932, S: 0.999</td>\n",
              "    </tr>\n",
              "    <tr>\n",
              "      <th>LightGBM Tuned</th>\n",
              "      <td>0.995</td>\n",
              "      <td>G: 0.994, Q: 0.993, S: 1.000</td>\n",
              "      <td>G: 0.998, Q: 0.980, S: 1.000</td>\n",
              "      <td>0.979</td>\n",
              "      <td>G: 0.978, Q: 0.964, S: 0.995</td>\n",
              "      <td>G: 0.987, Q: 0.932, S: 0.999</td>\n",
              "    </tr>\n",
              "    <tr>\n",
              "      <th>XGBoost Default</th>\n",
              "      <td>0.991</td>\n",
              "      <td>G: 0.988, Q: 0.987, S: 1.000</td>\n",
              "      <td>G: 0.996, Q: 0.964, S: 1.000</td>\n",
              "      <td>0.979</td>\n",
              "      <td>G: 0.978, Q: 0.963, S: 0.996</td>\n",
              "      <td>G: 0.987, Q: 0.932, S: 1.000</td>\n",
              "    </tr>\n",
              "    <tr>\n",
              "      <th>XGBoost Tuned</th>\n",
              "      <td>1.000</td>\n",
              "      <td>G: 1.000, Q: 1.000, S: 1.000</td>\n",
              "      <td>G: 1.000, Q: 1.000, S: 1.000</td>\n",
              "      <td>0.980</td>\n",
              "      <td>G: 0.978, Q: 0.968, S: 0.997</td>\n",
              "      <td>G: 0.989, Q: 0.931, S: 1.000</td>\n",
              "    </tr>\n",
              "    <tr>\n",
              "      <th>XGBoost PCA</th>\n",
              "      <td>0.794</td>\n",
              "      <td>G: 0.782, Q: 0.739, S: 0.921</td>\n",
              "      <td>G: 0.960, Q: 0.554, S: 0.548</td>\n",
              "      <td>0.705</td>\n",
              "      <td>G: 0.729, Q: 0.524, S: 0.774</td>\n",
              "      <td>G: 0.903, Q: 0.393, S: 0.433</td>\n",
              "    </tr>\n",
              "  </tbody>\n",
              "</table>\n",
              "</div>"
            ],
            "text/plain": [
              "                       TRAIN ACCURACY               TRAIN PRECISION  \\\n",
              "Rand. Forest Default            1.000  G: 1.000, Q: 1.000, S: 1.000   \n",
              "Rand. Forest Tuned              0.992  G: 0.989, Q: 0.993, S: 0.999   \n",
              "Grad. Boosting Default          0.978  G: 0.975, Q: 0.965, S: 0.997   \n",
              "Grad. Boosting Tuned            0.983  G: 0.982, Q: 0.971, S: 0.998   \n",
              "LightGBM Default                0.985  G: 0.983, Q: 0.973, S: 1.000   \n",
              "LightGBM Tuned                  0.995  G: 0.994, Q: 0.993, S: 1.000   \n",
              "XGBoost Default                 0.991  G: 0.988, Q: 0.987, S: 1.000   \n",
              "XGBoost Tuned                   1.000  G: 1.000, Q: 1.000, S: 1.000   \n",
              "XGBoost PCA                     0.794  G: 0.782, Q: 0.739, S: 0.921   \n",
              "\n",
              "                                        TRAIN RECALL TEST ACCURACY  \\\n",
              "Rand. Forest Default    G: 1.000, Q: 1.000, S: 1.000         0.979   \n",
              "Rand. Forest Tuned      G: 0.998, Q: 0.966, S: 1.000         0.978   \n",
              "Grad. Boosting Default  G: 0.988, Q: 0.921, S: 0.999         0.976   \n",
              "Grad. Boosting Tuned    G: 0.990, Q: 0.942, S: 1.000         0.977   \n",
              "LightGBM Default        G: 0.992, Q: 0.946, S: 1.000         0.979   \n",
              "LightGBM Tuned          G: 0.998, Q: 0.980, S: 1.000         0.979   \n",
              "XGBoost Default         G: 0.996, Q: 0.964, S: 1.000         0.979   \n",
              "XGBoost Tuned           G: 1.000, Q: 1.000, S: 1.000         0.980   \n",
              "XGBoost PCA             G: 0.960, Q: 0.554, S: 0.548         0.705   \n",
              "\n",
              "                                      TEST PRECISION  \\\n",
              "Rand. Forest Default    G: 0.978, Q: 0.968, S: 0.990   \n",
              "Rand. Forest Tuned      G: 0.977, Q: 0.967, S: 0.990   \n",
              "Grad. Boosting Default  G: 0.973, Q: 0.962, S: 0.996   \n",
              "Grad. Boosting Tuned    G: 0.976, Q: 0.959, S: 0.996   \n",
              "LightGBM Default        G: 0.978, Q: 0.961, S: 0.995   \n",
              "LightGBM Tuned          G: 0.978, Q: 0.964, S: 0.995   \n",
              "XGBoost Default         G: 0.978, Q: 0.963, S: 0.996   \n",
              "XGBoost Tuned           G: 0.978, Q: 0.968, S: 0.997   \n",
              "XGBoost PCA             G: 0.729, Q: 0.524, S: 0.774   \n",
              "\n",
              "                                         TEST RECALL  \n",
              "Rand. Forest Default    G: 0.987, Q: 0.930, S: 1.000  \n",
              "Rand. Forest Tuned      G: 0.986, Q: 0.928, S: 1.000  \n",
              "Grad. Boosting Default  G: 0.987, Q: 0.917, S: 0.999  \n",
              "Grad. Boosting Tuned    G: 0.986, Q: 0.926, S: 0.999  \n",
              "LightGBM Default        G: 0.986, Q: 0.932, S: 0.999  \n",
              "LightGBM Tuned          G: 0.987, Q: 0.932, S: 0.999  \n",
              "XGBoost Default         G: 0.987, Q: 0.932, S: 1.000  \n",
              "XGBoost Tuned           G: 0.989, Q: 0.931, S: 1.000  \n",
              "XGBoost PCA             G: 0.903, Q: 0.393, S: 0.433  "
            ]
          },
          "execution_count": 127,
          "metadata": {},
          "output_type": "execute_result"
        }
      ],
      "source": [
        "# Perform predictions on both of these sets, but do it this way because XGBoost is odd\n",
        "y_train_preds = pca_pipe.predict(X_train)\n",
        "y_train_preds = pd.Series(y_train_preds).map({0: \"GALAXY\", 1: \"QSO\", 2: \"STAR\"})\n",
        "y_test_preds = pca_pipe.predict(X_test)\n",
        "y_test_preds = pd.Series(y_test_preds).map({0: \"GALAXY\", 1: \"QSO\", 2: \"STAR\"})\n",
        "\n",
        "metrics_df = pd.concat([metrics_df, metrics(y_train, y_train_preds, y_test, y_test_preds, \"XGBoost PCA\")])\n",
        "metrics_df"
      ]
    },
    {
      "attachments": {},
      "cell_type": "markdown",
      "metadata": {},
      "source": [
        "**_Feature Engineering_**"
      ]
    },
    {
      "cell_type": "code",
      "execution_count": 129,
      "metadata": {},
      "outputs": [
        {
          "data": {
            "text/html": [
              "<div>\n",
              "<style scoped>\n",
              "    .dataframe tbody tr th:only-of-type {\n",
              "        vertical-align: middle;\n",
              "    }\n",
              "\n",
              "    .dataframe tbody tr th {\n",
              "        vertical-align: top;\n",
              "    }\n",
              "\n",
              "    .dataframe thead th {\n",
              "        text-align: right;\n",
              "    }\n",
              "</style>\n",
              "<table border=\"1\" class=\"dataframe\">\n",
              "  <thead>\n",
              "    <tr style=\"text-align: right;\">\n",
              "      <th></th>\n",
              "      <th>alpha</th>\n",
              "      <th>delta</th>\n",
              "      <th>run_ID</th>\n",
              "      <th>cam_col</th>\n",
              "      <th>field_ID</th>\n",
              "      <th>class</th>\n",
              "      <th>redshift</th>\n",
              "      <th>MJD</th>\n",
              "      <th>fiber_ID</th>\n",
              "      <th>filters</th>\n",
              "    </tr>\n",
              "  </thead>\n",
              "  <tbody>\n",
              "    <tr>\n",
              "      <th>0</th>\n",
              "      <td>135.689107</td>\n",
              "      <td>32.494632</td>\n",
              "      <td>3606</td>\n",
              "      <td>2</td>\n",
              "      <td>79</td>\n",
              "      <td>GALAXY</td>\n",
              "      <td>0.634794</td>\n",
              "      <td>56354</td>\n",
              "      <td>171</td>\n",
              "      <td>20.901714</td>\n",
              "    </tr>\n",
              "    <tr>\n",
              "      <th>1</th>\n",
              "      <td>144.826101</td>\n",
              "      <td>31.274185</td>\n",
              "      <td>4518</td>\n",
              "      <td>5</td>\n",
              "      <td>119</td>\n",
              "      <td>GALAXY</td>\n",
              "      <td>0.779136</td>\n",
              "      <td>58158</td>\n",
              "      <td>427</td>\n",
              "      <td>22.595260</td>\n",
              "    </tr>\n",
              "    <tr>\n",
              "      <th>2</th>\n",
              "      <td>142.188790</td>\n",
              "      <td>35.582444</td>\n",
              "      <td>3606</td>\n",
              "      <td>2</td>\n",
              "      <td>120</td>\n",
              "      <td>GALAXY</td>\n",
              "      <td>0.644195</td>\n",
              "      <td>55592</td>\n",
              "      <td>299</td>\n",
              "      <td>21.366712</td>\n",
              "    </tr>\n",
              "    <tr>\n",
              "      <th>3</th>\n",
              "      <td>338.741038</td>\n",
              "      <td>-0.402828</td>\n",
              "      <td>4192</td>\n",
              "      <td>3</td>\n",
              "      <td>214</td>\n",
              "      <td>GALAXY</td>\n",
              "      <td>0.932346</td>\n",
              "      <td>58039</td>\n",
              "      <td>775</td>\n",
              "      <td>21.455928</td>\n",
              "    </tr>\n",
              "    <tr>\n",
              "      <th>4</th>\n",
              "      <td>345.282593</td>\n",
              "      <td>21.183866</td>\n",
              "      <td>8102</td>\n",
              "      <td>3</td>\n",
              "      <td>137</td>\n",
              "      <td>GALAXY</td>\n",
              "      <td>0.116123</td>\n",
              "      <td>56187</td>\n",
              "      <td>842</td>\n",
              "      <td>17.007330</td>\n",
              "    </tr>\n",
              "    <tr>\n",
              "      <th>...</th>\n",
              "      <td>...</td>\n",
              "      <td>...</td>\n",
              "      <td>...</td>\n",
              "      <td>...</td>\n",
              "      <td>...</td>\n",
              "      <td>...</td>\n",
              "      <td>...</td>\n",
              "      <td>...</td>\n",
              "      <td>...</td>\n",
              "      <td>...</td>\n",
              "    </tr>\n",
              "    <tr>\n",
              "      <th>99995</th>\n",
              "      <td>39.620709</td>\n",
              "      <td>-2.594074</td>\n",
              "      <td>7778</td>\n",
              "      <td>2</td>\n",
              "      <td>581</td>\n",
              "      <td>GALAXY</td>\n",
              "      <td>0.000000</td>\n",
              "      <td>57749</td>\n",
              "      <td>438</td>\n",
              "      <td>21.817732</td>\n",
              "    </tr>\n",
              "    <tr>\n",
              "      <th>99996</th>\n",
              "      <td>29.493819</td>\n",
              "      <td>19.798874</td>\n",
              "      <td>7917</td>\n",
              "      <td>1</td>\n",
              "      <td>289</td>\n",
              "      <td>GALAXY</td>\n",
              "      <td>0.404895</td>\n",
              "      <td>56934</td>\n",
              "      <td>866</td>\n",
              "      <td>20.940068</td>\n",
              "    </tr>\n",
              "    <tr>\n",
              "      <th>99997</th>\n",
              "      <td>224.587407</td>\n",
              "      <td>15.700707</td>\n",
              "      <td>5314</td>\n",
              "      <td>4</td>\n",
              "      <td>308</td>\n",
              "      <td>GALAXY</td>\n",
              "      <td>0.143366</td>\n",
              "      <td>54535</td>\n",
              "      <td>74</td>\n",
              "      <td>18.737192</td>\n",
              "    </tr>\n",
              "    <tr>\n",
              "      <th>99998</th>\n",
              "      <td>212.268621</td>\n",
              "      <td>46.660365</td>\n",
              "      <td>3650</td>\n",
              "      <td>4</td>\n",
              "      <td>131</td>\n",
              "      <td>GALAXY</td>\n",
              "      <td>0.455040</td>\n",
              "      <td>56368</td>\n",
              "      <td>470</td>\n",
              "      <td>20.919836</td>\n",
              "    </tr>\n",
              "    <tr>\n",
              "      <th>99999</th>\n",
              "      <td>196.896053</td>\n",
              "      <td>49.464643</td>\n",
              "      <td>3650</td>\n",
              "      <td>4</td>\n",
              "      <td>60</td>\n",
              "      <td>GALAXY</td>\n",
              "      <td>0.542944</td>\n",
              "      <td>57104</td>\n",
              "      <td>851</td>\n",
              "      <td>20.862130</td>\n",
              "    </tr>\n",
              "  </tbody>\n",
              "</table>\n",
              "<p>99999 rows × 10 columns</p>\n",
              "</div>"
            ],
            "text/plain": [
              "            alpha      delta  run_ID  cam_col  field_ID   class  redshift  \\\n",
              "0      135.689107  32.494632    3606        2        79  GALAXY  0.634794   \n",
              "1      144.826101  31.274185    4518        5       119  GALAXY  0.779136   \n",
              "2      142.188790  35.582444    3606        2       120  GALAXY  0.644195   \n",
              "3      338.741038  -0.402828    4192        3       214  GALAXY  0.932346   \n",
              "4      345.282593  21.183866    8102        3       137  GALAXY  0.116123   \n",
              "...           ...        ...     ...      ...       ...     ...       ...   \n",
              "99995   39.620709  -2.594074    7778        2       581  GALAXY  0.000000   \n",
              "99996   29.493819  19.798874    7917        1       289  GALAXY  0.404895   \n",
              "99997  224.587407  15.700707    5314        4       308  GALAXY  0.143366   \n",
              "99998  212.268621  46.660365    3650        4       131  GALAXY  0.455040   \n",
              "99999  196.896053  49.464643    3650        4        60  GALAXY  0.542944   \n",
              "\n",
              "         MJD  fiber_ID    filters  \n",
              "0      56354       171  20.901714  \n",
              "1      58158       427  22.595260  \n",
              "2      55592       299  21.366712  \n",
              "3      58039       775  21.455928  \n",
              "4      56187       842  17.007330  \n",
              "...      ...       ...        ...  \n",
              "99995  57749       438  21.817732  \n",
              "99996  56934       866  20.940068  \n",
              "99997  54535        74  18.737192  \n",
              "99998  56368       470  20.919836  \n",
              "99999  57104       851  20.862130  \n",
              "\n",
              "[99999 rows x 10 columns]"
            ]
          },
          "execution_count": 129,
          "metadata": {},
          "output_type": "execute_result"
        }
      ],
      "source": [
        "stellar_engineered_df = stellar_df.copy()\n",
        "stellar_engineered_df[\"filters\"] = (stellar_df[\"u\"] + stellar_df[\"g\"] + stellar_df[\"i\"] + stellar_df[\"r\"] + stellar_df[\"z\"])/5\n",
        "stellar_engineered_df.drop(columns=[\"u\", \"g\", \"r\", \"i\", \"z\"], inplace=True)\n",
        "stellar_engineered_df"
      ]
    },
    {
      "cell_type": "code",
      "execution_count": 130,
      "metadata": {},
      "outputs": [],
      "source": [
        "# Create a train-test split\n",
        "X = stellar_engineered_df.drop(columns=[\"class\"])\n",
        "y = stellar_engineered_df[\"class\"]\n",
        "X_train, X_test, y_train, y_test = train_test_split(X, y, random_state=42, stratify=y)"
      ]
    },
    {
      "cell_type": "code",
      "execution_count": 131,
      "metadata": {},
      "outputs": [],
      "source": [
        "# Prepare data for XGBoost\n",
        "y_train_XG = y_train.map({\"GALAXY\": 0, \"QSO\": 1, \"STAR\": 2})\n",
        "y_test_XG = y_test.map({\"GALAXY\": 0, \"QSO\": 1, \"STAR\": 2})"
      ]
    },
    {
      "cell_type": "code",
      "execution_count": 133,
      "metadata": {},
      "outputs": [
        {
          "data": {
            "text/plain": [
              "XGBClassifier(base_score=None, booster=None, callbacks=None,\n",
              "              colsample_bylevel=None, colsample_bynode=None,\n",
              "              colsample_bytree=None, early_stopping_rounds=None,\n",
              "              enable_categorical=False, eval_metric=None, feature_types=None,\n",
              "              gamma=None, gpu_id=None, grow_policy=None, importance_type=None,\n",
              "              interaction_constraints=None, learning_rate=None, max_bin=None,\n",
              "              max_cat_threshold=None, max_cat_to_onehot=None,\n",
              "              max_delta_step=None, max_depth=9, max_leaves=None,\n",
              "              min_child_weight=None, missing=nan, monotone_constraints=None,\n",
              "              n_estimators=250, n_jobs=-1, num_parallel_tree=None,\n",
              "              objective='multi:softprob', predictor=None, ...)"
            ]
          },
          "execution_count": 133,
          "metadata": {},
          "output_type": "execute_result"
        }
      ],
      "source": [
        "xgbc_tuned_engineered = XGBClassifier(max_depth=9, n_estimators=250, random_state=42, n_jobs=-1)\n",
        "xgbc_tuned_engineered.fit(X_train, y_train_XG)"
      ]
    },
    {
      "cell_type": "code",
      "execution_count": 134,
      "metadata": {},
      "outputs": [
        {
          "data": {
            "text/html": [
              "<div>\n",
              "<style scoped>\n",
              "    .dataframe tbody tr th:only-of-type {\n",
              "        vertical-align: middle;\n",
              "    }\n",
              "\n",
              "    .dataframe tbody tr th {\n",
              "        vertical-align: top;\n",
              "    }\n",
              "\n",
              "    .dataframe thead th {\n",
              "        text-align: right;\n",
              "    }\n",
              "</style>\n",
              "<table border=\"1\" class=\"dataframe\">\n",
              "  <thead>\n",
              "    <tr style=\"text-align: right;\">\n",
              "      <th></th>\n",
              "      <th>TRAIN ACCURACY</th>\n",
              "      <th>TRAIN PRECISION</th>\n",
              "      <th>TRAIN RECALL</th>\n",
              "      <th>TEST ACCURACY</th>\n",
              "      <th>TEST PRECISION</th>\n",
              "      <th>TEST RECALL</th>\n",
              "    </tr>\n",
              "  </thead>\n",
              "  <tbody>\n",
              "    <tr>\n",
              "      <th>Rand. Forest Default</th>\n",
              "      <td>1.000</td>\n",
              "      <td>G: 1.000, Q: 1.000, S: 1.000</td>\n",
              "      <td>G: 1.000, Q: 1.000, S: 1.000</td>\n",
              "      <td>0.979</td>\n",
              "      <td>G: 0.978, Q: 0.968, S: 0.990</td>\n",
              "      <td>G: 0.987, Q: 0.930, S: 1.000</td>\n",
              "    </tr>\n",
              "    <tr>\n",
              "      <th>Rand. Forest Tuned</th>\n",
              "      <td>0.992</td>\n",
              "      <td>G: 0.989, Q: 0.993, S: 0.999</td>\n",
              "      <td>G: 0.998, Q: 0.966, S: 1.000</td>\n",
              "      <td>0.978</td>\n",
              "      <td>G: 0.977, Q: 0.967, S: 0.990</td>\n",
              "      <td>G: 0.986, Q: 0.928, S: 1.000</td>\n",
              "    </tr>\n",
              "    <tr>\n",
              "      <th>Grad. Boosting Default</th>\n",
              "      <td>0.978</td>\n",
              "      <td>G: 0.975, Q: 0.965, S: 0.997</td>\n",
              "      <td>G: 0.988, Q: 0.921, S: 0.999</td>\n",
              "      <td>0.976</td>\n",
              "      <td>G: 0.973, Q: 0.962, S: 0.996</td>\n",
              "      <td>G: 0.987, Q: 0.917, S: 0.999</td>\n",
              "    </tr>\n",
              "    <tr>\n",
              "      <th>Grad. Boosting Tuned</th>\n",
              "      <td>0.983</td>\n",
              "      <td>G: 0.982, Q: 0.971, S: 0.998</td>\n",
              "      <td>G: 0.990, Q: 0.942, S: 1.000</td>\n",
              "      <td>0.977</td>\n",
              "      <td>G: 0.976, Q: 0.959, S: 0.996</td>\n",
              "      <td>G: 0.986, Q: 0.926, S: 0.999</td>\n",
              "    </tr>\n",
              "    <tr>\n",
              "      <th>LightGBM Default</th>\n",
              "      <td>0.985</td>\n",
              "      <td>G: 0.983, Q: 0.973, S: 1.000</td>\n",
              "      <td>G: 0.992, Q: 0.946, S: 1.000</td>\n",
              "      <td>0.979</td>\n",
              "      <td>G: 0.978, Q: 0.961, S: 0.995</td>\n",
              "      <td>G: 0.986, Q: 0.932, S: 0.999</td>\n",
              "    </tr>\n",
              "    <tr>\n",
              "      <th>LightGBM Tuned</th>\n",
              "      <td>0.995</td>\n",
              "      <td>G: 0.994, Q: 0.993, S: 1.000</td>\n",
              "      <td>G: 0.998, Q: 0.980, S: 1.000</td>\n",
              "      <td>0.979</td>\n",
              "      <td>G: 0.978, Q: 0.964, S: 0.995</td>\n",
              "      <td>G: 0.987, Q: 0.932, S: 0.999</td>\n",
              "    </tr>\n",
              "    <tr>\n",
              "      <th>XGBoost Default</th>\n",
              "      <td>0.991</td>\n",
              "      <td>G: 0.988, Q: 0.987, S: 1.000</td>\n",
              "      <td>G: 0.996, Q: 0.964, S: 1.000</td>\n",
              "      <td>0.979</td>\n",
              "      <td>G: 0.978, Q: 0.963, S: 0.996</td>\n",
              "      <td>G: 0.987, Q: 0.932, S: 1.000</td>\n",
              "    </tr>\n",
              "    <tr>\n",
              "      <th>XGBoost Tuned</th>\n",
              "      <td>1.000</td>\n",
              "      <td>G: 1.000, Q: 1.000, S: 1.000</td>\n",
              "      <td>G: 1.000, Q: 1.000, S: 1.000</td>\n",
              "      <td>0.980</td>\n",
              "      <td>G: 0.978, Q: 0.968, S: 0.997</td>\n",
              "      <td>G: 0.989, Q: 0.931, S: 1.000</td>\n",
              "    </tr>\n",
              "    <tr>\n",
              "      <th>XGBoost PCA</th>\n",
              "      <td>0.794</td>\n",
              "      <td>G: 0.782, Q: 0.739, S: 0.921</td>\n",
              "      <td>G: 0.960, Q: 0.554, S: 0.548</td>\n",
              "      <td>0.705</td>\n",
              "      <td>G: 0.729, Q: 0.524, S: 0.774</td>\n",
              "      <td>G: 0.903, Q: 0.393, S: 0.433</td>\n",
              "    </tr>\n",
              "    <tr>\n",
              "      <th>XGBoost FE</th>\n",
              "      <td>1.000</td>\n",
              "      <td>G: 1.000, Q: 1.000, S: 1.000</td>\n",
              "      <td>G: 1.000, Q: 1.000, S: 1.000</td>\n",
              "      <td>0.971</td>\n",
              "      <td>G: 0.966, Q: 0.956, S: 0.997</td>\n",
              "      <td>G: 0.986, Q: 0.892, S: 0.999</td>\n",
              "    </tr>\n",
              "  </tbody>\n",
              "</table>\n",
              "</div>"
            ],
            "text/plain": [
              "                       TRAIN ACCURACY               TRAIN PRECISION  \\\n",
              "Rand. Forest Default            1.000  G: 1.000, Q: 1.000, S: 1.000   \n",
              "Rand. Forest Tuned              0.992  G: 0.989, Q: 0.993, S: 0.999   \n",
              "Grad. Boosting Default          0.978  G: 0.975, Q: 0.965, S: 0.997   \n",
              "Grad. Boosting Tuned            0.983  G: 0.982, Q: 0.971, S: 0.998   \n",
              "LightGBM Default                0.985  G: 0.983, Q: 0.973, S: 1.000   \n",
              "LightGBM Tuned                  0.995  G: 0.994, Q: 0.993, S: 1.000   \n",
              "XGBoost Default                 0.991  G: 0.988, Q: 0.987, S: 1.000   \n",
              "XGBoost Tuned                   1.000  G: 1.000, Q: 1.000, S: 1.000   \n",
              "XGBoost PCA                     0.794  G: 0.782, Q: 0.739, S: 0.921   \n",
              "XGBoost FE                      1.000  G: 1.000, Q: 1.000, S: 1.000   \n",
              "\n",
              "                                        TRAIN RECALL TEST ACCURACY  \\\n",
              "Rand. Forest Default    G: 1.000, Q: 1.000, S: 1.000         0.979   \n",
              "Rand. Forest Tuned      G: 0.998, Q: 0.966, S: 1.000         0.978   \n",
              "Grad. Boosting Default  G: 0.988, Q: 0.921, S: 0.999         0.976   \n",
              "Grad. Boosting Tuned    G: 0.990, Q: 0.942, S: 1.000         0.977   \n",
              "LightGBM Default        G: 0.992, Q: 0.946, S: 1.000         0.979   \n",
              "LightGBM Tuned          G: 0.998, Q: 0.980, S: 1.000         0.979   \n",
              "XGBoost Default         G: 0.996, Q: 0.964, S: 1.000         0.979   \n",
              "XGBoost Tuned           G: 1.000, Q: 1.000, S: 1.000         0.980   \n",
              "XGBoost PCA             G: 0.960, Q: 0.554, S: 0.548         0.705   \n",
              "XGBoost FE              G: 1.000, Q: 1.000, S: 1.000         0.971   \n",
              "\n",
              "                                      TEST PRECISION  \\\n",
              "Rand. Forest Default    G: 0.978, Q: 0.968, S: 0.990   \n",
              "Rand. Forest Tuned      G: 0.977, Q: 0.967, S: 0.990   \n",
              "Grad. Boosting Default  G: 0.973, Q: 0.962, S: 0.996   \n",
              "Grad. Boosting Tuned    G: 0.976, Q: 0.959, S: 0.996   \n",
              "LightGBM Default        G: 0.978, Q: 0.961, S: 0.995   \n",
              "LightGBM Tuned          G: 0.978, Q: 0.964, S: 0.995   \n",
              "XGBoost Default         G: 0.978, Q: 0.963, S: 0.996   \n",
              "XGBoost Tuned           G: 0.978, Q: 0.968, S: 0.997   \n",
              "XGBoost PCA             G: 0.729, Q: 0.524, S: 0.774   \n",
              "XGBoost FE              G: 0.966, Q: 0.956, S: 0.997   \n",
              "\n",
              "                                         TEST RECALL  \n",
              "Rand. Forest Default    G: 0.987, Q: 0.930, S: 1.000  \n",
              "Rand. Forest Tuned      G: 0.986, Q: 0.928, S: 1.000  \n",
              "Grad. Boosting Default  G: 0.987, Q: 0.917, S: 0.999  \n",
              "Grad. Boosting Tuned    G: 0.986, Q: 0.926, S: 0.999  \n",
              "LightGBM Default        G: 0.986, Q: 0.932, S: 0.999  \n",
              "LightGBM Tuned          G: 0.987, Q: 0.932, S: 0.999  \n",
              "XGBoost Default         G: 0.987, Q: 0.932, S: 1.000  \n",
              "XGBoost Tuned           G: 0.989, Q: 0.931, S: 1.000  \n",
              "XGBoost PCA             G: 0.903, Q: 0.393, S: 0.433  \n",
              "XGBoost FE              G: 0.986, Q: 0.892, S: 0.999  "
            ]
          },
          "execution_count": 134,
          "metadata": {},
          "output_type": "execute_result"
        }
      ],
      "source": [
        "# Perform predictions on both of these sets, but do it this way because XGBoost is odd\n",
        "y_train_preds = xgbc_tuned_engineered.predict(X_train)\n",
        "y_train_preds = pd.Series(y_train_preds).map({0: \"GALAXY\", 1: \"QSO\", 2: \"STAR\"})\n",
        "y_test_preds = xgbc_tuned_engineered.predict(X_test)\n",
        "y_test_preds = pd.Series(y_test_preds).map({0: \"GALAXY\", 1: \"QSO\", 2: \"STAR\"})\n",
        "\n",
        "metrics_df = pd.concat([metrics_df, metrics(y_train, y_train_preds, y_test, y_test_preds, \"XGBoost FE\")])\n",
        "metrics_df"
      ]
    },
    {
      "attachments": {},
      "cell_type": "markdown",
      "metadata": {},
      "source": [
        "**_Results_**"
      ]
    }
  ],
  "metadata": {
    "colab": {
      "provenance": []
    },
    "kernelspec": {
      "display_name": "Python 3",
      "language": "python",
      "name": "python3"
    },
    "language_info": {
      "codemirror_mode": {
        "name": "ipython",
        "version": 3
      },
      "file_extension": ".py",
      "mimetype": "text/x-python",
      "name": "python",
      "nbconvert_exporter": "python",
      "pygments_lexer": "ipython3",
      "version": "3.10.10"
    },
    "orig_nbformat": 4
  },
  "nbformat": 4,
  "nbformat_minor": 0
}
